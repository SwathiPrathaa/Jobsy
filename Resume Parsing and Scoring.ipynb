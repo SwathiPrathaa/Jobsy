{
  "metadata": {
    "kernelspec": {
      "language": "python",
      "display_name": "Python 3",
      "name": "python3"
    },
    "language_info": {
      "pygments_lexer": "ipython3",
      "nbconvert_exporter": "python",
      "version": "3.6.4",
      "file_extension": ".py",
      "codemirror_mode": {
        "name": "ipython",
        "version": 3
      },
      "name": "python",
      "mimetype": "text/x-python"
    },
    "colab": {
      "provenance": []
    }
  },
  "nbformat_minor": 0,
  "nbformat": 4,
  "cells": [
    {
      "cell_type": "code",
      "source": [
        "from google.colab import drive\n",
        "drive.mount('/content/drive')"
      ],
      "metadata": {
        "colab": {
          "base_uri": "https://localhost:8080/"
        },
        "id": "WIPiDSBi1yLF",
        "outputId": "972f2ab2-2194-4065-a5a2-278c4cf747ce"
      },
      "execution_count": null,
      "outputs": [
        {
          "output_type": "stream",
          "name": "stdout",
          "text": [
            "Mounted at /content/drive\n"
          ]
        }
      ]
    },
    {
      "cell_type": "markdown",
      "source": [
        "# **1. Resume Parser**"
      ],
      "metadata": {
        "id": "IzKdXSAj9f5J"
      }
    },
    {
      "cell_type": "code",
      "source": [
        "import nltk\n",
        "nltk.download('stopwords')"
      ],
      "metadata": {
        "colab": {
          "base_uri": "https://localhost:8080/"
        },
        "id": "t3i9SiCUwb2o",
        "outputId": "9c7b98f5-277e-40cc-c082-11e1bac023f2"
      },
      "execution_count": null,
      "outputs": [
        {
          "output_type": "stream",
          "name": "stderr",
          "text": [
            "[nltk_data] Downloading package stopwords to /root/nltk_data...\n",
            "[nltk_data]   Package stopwords is already up-to-date!\n"
          ]
        },
        {
          "output_type": "execute_result",
          "data": {
            "text/plain": [
              "True"
            ]
          },
          "metadata": {},
          "execution_count": 37
        }
      ]
    },
    {
      "cell_type": "code",
      "source": [
        "!pip install phonenumbers\n",
        "import phonenumbers"
      ],
      "metadata": {
        "colab": {
          "base_uri": "https://localhost:8080/"
        },
        "id": "4ZR0qXf5uIIX",
        "outputId": "e7be4a36-3ff0-435c-bf44-a77f3d31e8fb"
      },
      "execution_count": null,
      "outputs": [
        {
          "output_type": "stream",
          "name": "stdout",
          "text": [
            "Looking in indexes: https://pypi.org/simple, https://us-python.pkg.dev/colab-wheels/public/simple/\n",
            "Requirement already satisfied: phonenumbers in /usr/local/lib/python3.9/dist-packages (8.13.8)\n"
          ]
        }
      ]
    },
    {
      "cell_type": "code",
      "source": [
        "# This Python 3 environment comes with many helpful analytics libraries installed\n",
        "# It is defined by the kaggle/python Docker image: https://github.com/kaggle/docker-python\n",
        "# For example, here's several helpful packages to load\n",
        "\n",
        "import numpy as np # linear algebra\n",
        "import pandas as pd # data processing, CSV file I/O (e.g. pd.read_csv)\n",
        "\n",
        "# Input data files are available in the read-only \"../input/\" directory\n",
        "# For example, running this (by clicking run or pressing Shift+Enter) will list all files under the input directory\n",
        "\n",
        "import os\n",
        "for dirname, _, filenames in os.walk('/kaggle/input'):\n",
        "    for filename in filenames:\n",
        "        print(os.path.join(dirname, filename))\n",
        "\n",
        "# You can write up to 20GB to the current directory (/kaggle/working/) that gets preserved as output when you create a version using \"Save & Run All\"\n",
        "# You can also write temporary files to /kaggle/temp/, but they won't be saved outside of the current session"
      ],
      "metadata": {
        "_uuid": "8f2839f25d086af736a60e9eeb907d3b93b6e0e5",
        "_cell_guid": "b1076dfc-b9ad-4769-8c92-a6c4dae69d19",
        "execution": {
          "iopub.status.busy": "2022-01-12T06:23:01.001192Z",
          "iopub.execute_input": "2022-01-12T06:23:01.001555Z",
          "iopub.status.idle": "2022-01-12T06:23:01.012217Z",
          "shell.execute_reply.started": "2022-01-12T06:23:01.001519Z",
          "shell.execute_reply": "2022-01-12T06:23:01.011525Z"
        },
        "trusted": true,
        "id": "Ctgc8y7ttD1d"
      },
      "execution_count": null,
      "outputs": []
    },
    {
      "cell_type": "code",
      "source": [
        "!pip install tika"
      ],
      "metadata": {
        "execution": {
          "iopub.status.busy": "2022-01-12T06:23:01.013759Z",
          "iopub.execute_input": "2022-01-12T06:23:01.014202Z",
          "iopub.status.idle": "2022-01-12T06:23:09.672802Z",
          "shell.execute_reply.started": "2022-01-12T06:23:01.01417Z",
          "shell.execute_reply": "2022-01-12T06:23:09.671849Z"
        },
        "trusted": true,
        "colab": {
          "base_uri": "https://localhost:8080/"
        },
        "id": "pRNSQt3JtD1f",
        "outputId": "720bac5b-d6d3-475b-a1a4-652f49f813f5"
      },
      "execution_count": null,
      "outputs": [
        {
          "output_type": "stream",
          "name": "stdout",
          "text": [
            "Looking in indexes: https://pypi.org/simple, https://us-python.pkg.dev/colab-wheels/public/simple/\n",
            "Requirement already satisfied: tika in /usr/local/lib/python3.9/dist-packages (2.6.0)\n",
            "Requirement already satisfied: setuptools in /usr/local/lib/python3.9/dist-packages (from tika) (67.6.1)\n",
            "Requirement already satisfied: requests in /usr/local/lib/python3.9/dist-packages (from tika) (2.27.1)\n",
            "Requirement already satisfied: idna<4,>=2.5 in /usr/local/lib/python3.9/dist-packages (from requests->tika) (3.4)\n",
            "Requirement already satisfied: charset-normalizer~=2.0.0 in /usr/local/lib/python3.9/dist-packages (from requests->tika) (2.0.12)\n",
            "Requirement already satisfied: urllib3<1.27,>=1.21.1 in /usr/local/lib/python3.9/dist-packages (from requests->tika) (1.26.15)\n",
            "Requirement already satisfied: certifi>=2017.4.17 in /usr/local/lib/python3.9/dist-packages (from requests->tika) (2022.12.7)\n"
          ]
        }
      ]
    },
    {
      "cell_type": "code",
      "source": [
        "!pip install PyPDF2"
      ],
      "metadata": {
        "colab": {
          "base_uri": "https://localhost:8080/"
        },
        "id": "ZY6DyvVLbvrG",
        "outputId": "ad73eb45-7d67-4ed1-9f29-89e8c646dd74"
      },
      "execution_count": null,
      "outputs": [
        {
          "output_type": "stream",
          "name": "stdout",
          "text": [
            "Looking in indexes: https://pypi.org/simple, https://us-python.pkg.dev/colab-wheels/public/simple/\n",
            "Requirement already satisfied: PyPDF2 in /usr/local/lib/python3.9/dist-packages (2.12.1)\n",
            "Requirement already satisfied: typing_extensions>=3.10.0.0 in /usr/local/lib/python3.9/dist-packages (from PyPDF2) (4.5.0)\n"
          ]
        }
      ]
    },
    {
      "cell_type": "code",
      "source": [
        "from tika import parser\n",
        "from PyPDF2 import PdfReader\n"
      ],
      "metadata": {
        "execution": {
          "iopub.status.busy": "2022-01-12T06:23:09.674352Z",
          "iopub.execute_input": "2022-01-12T06:23:09.674802Z",
          "iopub.status.idle": "2022-01-12T06:23:09.807424Z",
          "shell.execute_reply.started": "2022-01-12T06:23:09.674751Z",
          "shell.execute_reply": "2022-01-12T06:23:09.806598Z"
        },
        "trusted": true,
        "id": "pHjWGMratD1f"
      },
      "execution_count": null,
      "outputs": []
    },
    {
      "cell_type": "code",
      "source": [
        "file = r'/content/drive/MyDrive/NLP Package/Resume-Scoring-using-NLP-master/Resumes'\n",
        "# file =r'/content/drive/MyDrive/NLP Package/Resume-Scoring-using-NLP-master/Resumes'\n",
        "#Path for the files\n",
        "onlyfiles = [os.path.join(file, f) for f in os.listdir(file) if os.path.isfile(os.path.join(file, f))]\n",
        "text = {}\n",
        "j = 0\n",
        "for i in onlyfiles:\n",
        "\n",
        "  file_data = parser.from_file(i)\n",
        "  text[j] = file_data['content']\n",
        "  print(text[j])\n",
        "  j +=1\n",
        "  # print(\"next\")"
      ],
      "metadata": {
        "colab": {
          "base_uri": "https://localhost:8080/"
        },
        "id": "CHP-Svwa9bQT",
        "outputId": "0bf1ad85-bfc8-457e-c05f-d547036827a8"
      },
      "execution_count": null,
      "outputs": [
        {
          "output_type": "stream",
          "name": "stdout",
          "text": [
            "\n",
            "\n",
            "\n",
            "\n",
            "\n",
            "\n",
            "\n",
            "\n",
            "\n",
            "\n",
            "\n",
            "\n",
            "\n",
            "\n",
            "\n",
            "\n",
            "\n",
            "\n",
            "\n",
            "\n",
            "\n",
            "\n",
            "\n",
            "\n",
            "\n",
            "\n",
            "\n",
            "\n",
            "\n",
            "\n",
            "\n",
            "\n",
            "\n",
            "\n",
            "\n",
            "\n",
            "sample resume\n",
            "\n",
            "\n",
            "Aman Sharma \n",
            "Campus Address                         aman.sharma2016@vitstudent.ac.in Permanent Address \n",
            "\n",
            "MHA, VIT Chennai Cell-7550171006 6/E, Street-27, \n",
            "Chennai, Sector-1, Bhilai, \n",
            "Tamil Nadu  Chhattisgarh \n",
            " \n",
            "  \n",
            "\n",
            " \n",
            "\n",
            "OBJECTIVE  Seeking to leverage my technical knowledge to grow in your company. \n",
            " \n",
            "\n",
            "EDUCATION Vellore Institute of Technology, Chennai (T.N.) \n",
            " Bachelor of Computing Science and Engineering \n",
            " CGPA: 9.27/10.0 (Till III semester), to be awarded May 2020 \n",
            "  \n",
            "\n",
            " Senior Secondary School, Sector-10, Bhilai (C.G) \n",
            " HSC (Class XII), CBSE \n",
            " Percentage: 86.80, awarded May 2015 \n",
            " \n",
            "\n",
            " Senior Secondary School, Sector-10, Bhilai(C.G.) \n",
            " SSC (Class XII), CBSE \n",
            " CGPA: 10/10, awarded May 2013 \n",
            " \n",
            "\n",
            "DATE OF BIRTH 10-October-1997 \n",
            "\n",
            " \n",
            "\n",
            "LANGUAGES Hindi and English \n",
            "\n",
            "KNOWN \n",
            " \n",
            "\n",
            "COURSEWORK Object Oriented Programming               Digital Logic and design \n",
            " Database Management Systems Software Engineering \n",
            " Data Structures and Algorithms Computer Architecture \n",
            " Discrete Mathematics Statistics for Engineer \n",
            " \n",
            "\n",
            "COMPUTER Languages: Python, C, C++, R (Beginner) \n",
            "\n",
            "SKILLS  \n",
            " Skills:   HTML, PHP, JavaScript, SQL, Data Structures \n",
            ", \n",
            "  \n",
            "\n",
            "EXPERIENCE Developer at VIT Vibrance Website Team \n",
            " \n",
            "\n",
            " Participated in Web Hackathon conducted by Mozilla \n",
            "\n",
            "  \n",
            "\n",
            " Research Area: Clustering (Categorical Data) \n",
            "\n",
            "  \n",
            "\n",
            " Presented paper at ICMCE 2017 held at VIT Chennai \n",
            " (A Novel Dynamic Match Scheduling Algorithm for Equitable Queue Generation) \n",
            " (Co-authored by 2 more) \n",
            " \n",
            "\n",
            " Qualified Regional Mathematics Olympiad from Chhattisgarh State (2013) \n",
            " \n",
            " \n",
            "\n",
            "ACTIVITIES Novel Reading, Wandering in Political spheres. \n",
            "\n",
            "\n",
            "\n",
            "\n",
            "\n",
            "\n",
            "\n",
            "\n",
            "\n",
            "\n",
            "\n",
            "\n",
            "\n",
            "\n",
            "\n",
            "\n",
            "\n",
            "\n",
            "\n",
            "\n",
            "\n",
            "\n",
            "\n",
            "\n",
            "\n",
            "\n",
            "\n",
            "\n",
            "\n",
            "\n",
            "\n",
            "\n",
            "\n",
            "\n",
            "\n",
            "\n",
            "\n",
            "\n",
            "\n",
            "\n",
            "Chandler Bing \n",
            "\n",
            "chandler.bing@vit.ac.in \n",
            "8511192673 \n",
            "\n",
            "Education \n",
            "\n",
            "St. Patrick’s Junior College Agra, 97% , High School \n",
            "St. Patrick’s Juinor College Agra, 95% Secondary SchooL \n",
            "\n",
            "Date of birth \n",
            "\n",
            "12 May 1998 \n",
            "\n",
            " \n",
            "\n",
            "Languages known \n",
            "\n",
            "Hindi, English, Spanish \n",
            "\n",
            " \n",
            "\n",
            "Coursework \n",
            "\n",
            "Machine Learning \n",
            "Data Visualization \n",
            "Operating Systems \n",
            "Database Management System \n",
            "Discrete maths \n",
            "\n",
            " \n",
            " \n",
            "Skills \n",
            "\n",
            "C++        Java \n",
            "Python        Arduino \n",
            "Android       HTML \n",
            "PHP        Javascript \n",
            "MySQL        R studio \n",
            "Keras        NLTK \n",
            "Parser        SQL \n",
            "\n",
            " \n",
            " \n",
            "\n",
            "Experience \n",
            "\n",
            " Android club coordinator \n",
            "\n",
            " Front end developer in TechnoVIT website team \n",
            "\n",
            " Key entertainer in Friends \n",
            "\n",
            " \n",
            "\n",
            " \n",
            "\n",
            "mailto:VAISHALI.BIJOY2016@vitstudent.ac.in\n",
            "\n",
            "\n",
            "Projects \n",
            "\n",
            "Good for females \n",
            "An android application for women and health safety, emergency mode using android \n",
            "modules, safest route using image processing, disease prediction using SVM and linear \n",
            "regression. \n",
            " \n",
            "Face detection and recognition using openMP \n",
            "OpenCV, openMP, cuda \n",
            " \n",
            "Smart Farming \n",
            "Arduino coding, sensors , thingspeak \n",
            " \n",
            "NLP resume parsing \n",
            "Made resume parser based on nltk, spacy and other NLP tools \n",
            " \n",
            "\n",
            " \n",
            " \n",
            "\n",
            "Co-curricular activities \n",
            "\n",
            "Reading novels, painting  \n",
            "\n",
            " \n",
            "\n",
            " \n",
            "\n",
            " \n",
            "\n",
            "\n",
            "\n",
            "\n",
            "\n",
            "\n",
            "\n",
            "\n",
            "\n",
            "\n",
            "\n",
            "\n",
            "\n",
            "\n",
            "\n",
            "\n",
            "\n",
            "\n",
            "\n",
            "\n",
            "\n",
            "\n",
            "\n",
            "\n",
            "\n",
            "\n",
            "\n",
            "\n",
            "\n",
            "\n",
            "19pd09_Dhikshitha A--web dev\n",
            "\n",
            "\n",
            "DHIKSHITHA A\n",
            "19PD09\n",
            "\n",
            "Gender\n",
            "Date of Birth\n",
            "Languages known\n",
            "Email\n",
            "Mobile\n",
            "Linkedin\n",
            "Github\n",
            "\n",
            "Female\n",
            "29th April 2001\n",
            "English, Tamil, French\n",
            "19pd09@psgtech.ac.in\n",
            "+91-98428-48661\n",
            "linkedin.com/in/dhikshitha29\n",
            "github.com/dhikshitha29\n",
            "\n",
            "Address\n",
            "B3, 3rdFloor Orchid Grande Apartment, 277,\n",
            "Dr. Radhakrishnan Road, Tatabad, Coimbatore-12.\n",
            "\n",
            "OBJECTIVE\n",
            "\n",
            "To obtain a position as a student intern from May 2022 to November 2022 to\n",
            "gain experience and leverage my skills.\n",
            "\n",
            "ACADEMIC QUALIFICATION\n",
            "\n",
            "Currently pursuing 3rd year of 5-year Integrated M.Sc. Data Science at the\n",
            "Department of Applied Mathematics and Computational Sciences at PSG College of\n",
            "Technology.\n",
            "\n",
            "SKILL SET\n",
            "\n",
            "Languages C++, C, Python\n",
            "\n",
            " Back-End SQL, PHP, Node\n",
            "\n",
            "Front-End HTML, CSS, JavaScript\n",
            "\n",
            " Platform Windows\n",
            "\n",
            " Tools Code Blocks, Tableau, Spyder, MySQL, Excel, VS code\n",
            "\n",
            "AREAS OF INTEREST\n",
            "\n",
            "● Web Development\n",
            "\n",
            "● Data Visualization\n",
            "\n",
            "● Database Management System\n",
            "\n",
            "● Supervised and Unsupervised Learning\n",
            "\n",
            "ACADEMIC RECORD\n",
            "\n",
            "● M.Sc. Data Science\n",
            "PSG College of Technology, Coimbatore\n",
            "\n",
            "2019-2024\n",
            "\n",
            "8.72 CGPA\n",
            "\n",
            "● XII (Higher secondary, State board)\n",
            "GD Matriculation Higher Secondary School,\n",
            "Coimbatore\n",
            "\n",
            "2019\n",
            "\n",
            "91.33 %\n",
            "\n",
            "● X (SSLC, State board)\n",
            "GD Matriculation Higher Secondary School,\n",
            "Coimbatore\n",
            "\n",
            "2017\n",
            "\n",
            "97 %\n",
            "\n",
            "http://linkedin.com/in/dhikshitha29\n",
            "https://github.com/dhikshitha29\n",
            "\n",
            "\n",
            "NON-ACADEMIC PROJECTS\n",
            "\n",
            "● Youthference is a project built using PHP, SQL and Bootstrap for layout. It's a CRUD\n",
            "application that allows users to register for an event and store the details in phpMyAdmin\n",
            "provided by XAMPP.\n",
            "\n",
            "● Cinester, developed in Python, uses the Valence Aware Dictionary model for Sentiment\n",
            "Reasoning. VADER from the Natural Language ToolKit helps to classify reviews by\n",
            "summing up the intensity or the sentiment scores of each word in the text. It also uses\n",
            "TfidfVectorizer which provides a better accuracy than VADER.\n",
            "\n",
            "ACADEMIC PROJECTS\n",
            "\n",
            "● Expedia, developed in C++, maintains the records of reserved hotel rooms, payment\n",
            "details, details of customers, managing inventory and menu provided in the hotel by\n",
            "employing the UML concepts.\n",
            "\n",
            "● Musify, built in Python, classifies songs into different genres. GTZAN is an audio dataset\n",
            "and preprocessing has been done to convert the dataset to a csv file. To find the best\n",
            "model, several supervised machine learning algorithms have been used including Naive\n",
            "Bayes, Decision Trees, Logistic Regression, SVM, KNN, Random Forest and Catboost.\n",
            "\n",
            "● Movflix, developed using Python, provides a level of comfort and personalization that\n",
            "helps the user to interact better with the system and watch movies that cater to the\n",
            "user’s needs. It filters the list of movies using three types of recommender systems\n",
            "namely Demographic, Content-based and Collaborative.\n",
            "\n",
            "● ChatCord is a web-based chat application developed using Javascript. It uses node.js\n",
            "with the following framework: express.js and socket.io. It allows bidirectional\n",
            "communication between multiple clients in a room.\n",
            "\n",
            "EXTRA-CURRICULAR ACTIVITIES AND ACHIEVEMENTS\n",
            "\n",
            "● Completed a course in Udemy on Natural Language Processing with Python.\n",
            "● Completed a course in Coursera on Introduction to Data Science in Python.\n",
            "● Completed a course in Udemy on Modern PHP Web Development w/MySql.\n",
            "● Participated in Code Kaze 21 and secured 2089th rank.\n",
            "● State, District and Zonal level badminton player during school tenure.\n",
            "● Was a part of the torch relay for 7 consecutive years.\n",
            "● Won a few competitions in drawing and was Captain at school.\n",
            "\n",
            "DECLARATION\n",
            "\n",
            "I, Dhikshitha A, do hereby confirm that the information given above is true to\n",
            "the best of my knowledge.\n",
            "\n",
            "Place: Coimbatore\n",
            "Date : 12/01/2021 (Dhikshitha A)  \n",
            "\n",
            "https://github.com/dhikshitha29/youthference\n",
            "https://github.com/dhikshitha29/Cinester\n",
            "https://github.com/dhikshitha29/Expedia\n",
            "https://github.com/dhikshitha29/Musify\n",
            "http://github.com/dhikshitha29/Movflix\n",
            "https://github.com/dhikshitha29/ChatCord\n",
            "\n",
            "\n",
            "\n",
            "\n",
            "\n",
            "\n",
            "\n",
            "\n",
            "\n",
            "\n",
            "\n",
            "\n",
            "\n",
            "\n",
            "\n",
            "\n",
            "\n",
            "\n",
            "\n",
            "\n",
            "\n",
            "\n",
            "\n",
            "\n",
            "\n",
            "\n",
            "\n",
            "\n",
            "\n",
            "\n",
            "\n",
            "\n",
            "\n",
            "\n",
            "\n",
            "\n",
            "\n",
            "\n",
            "Dhikshitha A(DS)\n",
            "\n",
            "\n",
            "Dhikshitha A\n",
            "B3, 3rdFloor Orchid Grande\n",
            "Apartment, 277,\n",
            "Dr. Radhakrishnan Road,\n",
            "Tatabad, Coimbatore-12.\n",
            "\n",
            "S K I L L S\n",
            "\n",
            "Programming Languages :\n",
            " C++, C, Python, SQL, PHP,\n",
            "JavaScript\n",
            "\n",
            "Tools : Code Blocks, Tableau,\n",
            "Spyder, MySQL, VS code, Excel\n",
            "\n",
            "+91-98428-48661\n",
            "\n",
            "A R E A S  O F  I N T E R E S T\n",
            "\n",
            "Supervised and\n",
            "Unsupervised Learning\n",
            "Database Management\n",
            "System\n",
            "\n",
            "Data Visualization\n",
            "Web Development\n",
            "\n",
            "L A N G U A G E S  K N O W N\n",
            "\n",
            "English\n",
            "Tamil\n",
            "\n",
            "PROJECTS\n",
            "\n",
            "Musify, built in Python, classifies songs into different\n",
            "genres. GTZAN is an audio dataset and preprocessing has\n",
            "been done to convert the dataset to a csv file. To find the\n",
            "best model, several supervised machine learning algorithms\n",
            "have been used including Naive Bayes, Decision Trees,\n",
            "Logistic Regression, SVM, KNN, Random Forest and\n",
            "Catboost.\n",
            "\n",
            "Movflix, developed using Python, provides a level of\n",
            "comfort and personalization that helps the user to interact\n",
            "better with the system and watch movies that cater to\n",
            "user’s needs. It filters the list of movies using three types of\n",
            "recommender systems namely Demographic, Content-\n",
            "based and Collaborative.\n",
            "\n",
            "Expedia, developed in C++, maintains the records of\n",
            "reserved hotel rooms, payment details, details of customers,\n",
            "managing inventory and menu provided in the hotel by\n",
            "employing the UML concepts.\n",
            "\n",
            "Youthference is a project built using PHP, SQL and\n",
            "Bootstrap for layout. It's a CRUD application that allows\n",
            "users to register for an event and store the details in\n",
            "phpMyAdmin provided by XAMPP.\n",
            "\n",
            "Cinester, developed in Python, uses the VADER model from\n",
            "NLTK helps to classify reviews by summing up the intensity\n",
            "or the sentiment scores of each word in the text. It also\n",
            "uses TfidfVectorizer which provides better accuracy than\n",
            "VADER.\n",
            "\n",
            "EXTRA-CURRICULAR ACTIVITIES\n",
            "\n",
            "Completed a course in Natural Language Processing with\n",
            "Python.\n",
            "Completed a course on Introduction to Data Science in Python.\n",
            "Participated in events conducted by the Nature club.\n",
            "Participated in Code Kaze'21 and secured 2089th rank.\n",
            "State, District and Zonal level badminton player during school\n",
            "tenure.\n",
            "\n",
            "29th April 2001\n",
            "\n",
            "E D U C A T I O N\n",
            "\n",
            "M.Sc. Data Science (4th Year)    8.78\n",
            " PSG College of Technology,      2019-24  \n",
            "Coimbatore\n",
            "\n",
            "XII (HSC, State Board)                 91.3%\n",
            " GD Matriculation Higher             2019\n",
            "Secondary School, \n",
            "Coimbatore\n",
            "\n",
            "X (SSLC, State Board)                 97%\n",
            " GD Matriculation Higher             2017\n",
            "Secondary School, \n",
            "Coimbatore\n",
            "\n",
            "WORK EXPERIENCE\n",
            "\n",
            "JPMorgan Chase & Co.                               \n",
            "\n",
            "Worked in the Debt Capital Markets team, with exposure on\n",
            "both the Financial and Corpo rate side. Working on end-to-\n",
            "end pitches, capital structure analysis, identification of\n",
            "secondary trends, fair-value analysis and bond pricing. Apart\n",
            "from extensive understanding and analysis of capital\n",
            "structures, also suggested efficient ways of raising debt.\n",
            "\n",
            "June - December 2022Junior Analyst Intern\n",
            "\n",
            "dhikshithaarulkumar@gmail\n",
            ".com\n",
            "\n",
            "http://linkedin.com/in/dhikshitha29\n",
            "http://github.com/dhikshitha29\n",
            "https://github.com/dhikshitha29/Musify\n",
            "http://github.com/dhikshitha29/Movflix\n",
            "https://github.com/dhikshitha29/Musify\n",
            "https://github.com/dhikshitha29/Expedia\n",
            "https://github.com/dhikshitha29/Expedia\n",
            "https://github.com/dhikshitha29/Expedia\n",
            "https://github.com/dhikshitha29/Expedia\n",
            "https://github.com/dhikshitha29/Expedia\n",
            "https://github.com/dhikshitha29/Expedia\n",
            "https://github.com/dhikshitha29/youthference\n",
            "https://github.com/dhikshitha29/youthference\n",
            "https://github.com/dhikshitha29/youthference\n",
            "https://github.com/dhikshitha29/youthference\n",
            "https://github.com/dhikshitha29/youthference\n",
            "https://github.com/dhikshitha29/youthference\n",
            "https://github.com/dhikshitha29/youthference\n",
            "https://github.com/dhikshitha29/youthference\n",
            "https://github.com/dhikshitha29/youthference\n",
            "https://github.com/dhikshitha29/youthference\n",
            "https://github.com/dhikshitha29/youthference\n",
            "https://github.com/dhikshitha29/youthference\n",
            "https://github.com/dhikshitha29/youthference\n",
            "https://github.com/dhikshitha29/youthference\n",
            "https://github.com/dhikshitha29/Cinester\n",
            "https://github.com/dhikshitha29/Cinester\n",
            "https://github.com/dhikshitha29/Cinester\n",
            "https://github.com/dhikshitha29/Cinester\n",
            "https://github.com/dhikshitha29/Cinester\n",
            "https://github.com/dhikshitha29/Cinester\n",
            "https://github.com/dhikshitha29/Cinester\n",
            "https://github.com/dhikshitha29/Cinester\n",
            "https://github.com/dhikshitha29/Cinester\n",
            "https://github.com/dhikshitha29/Cinester\n",
            "https://github.com/dhikshitha29/Musify\n",
            "https://github.com/dhikshitha29/Musify\n",
            "https://github.com/dhikshitha29/Musify\n",
            "https://github.com/dhikshitha29/Musify\n",
            "https://github.com/dhikshitha29/Musify\n",
            "https://github.com/dhikshitha29/Musify\n",
            "https://github.com/dhikshitha29/Musify\n",
            "https://github.com/dhikshitha29/Musify\n",
            "https://github.com/dhikshitha29/Musify\n",
            "https://github.com/dhikshitha29/Musify\n",
            "https://github.com/dhikshitha29/Musify\n",
            "https://github.com/dhikshitha29/Musify\n",
            "https://github.com/dhikshitha29/Musify\n",
            "https://github.com/dhikshitha29/Musify\n",
            "https://github.com/dhikshitha29/Musify\n",
            "https://github.com/dhikshitha29/Musify\n",
            "https://github.com/dhikshitha29/Musify\n",
            "https://github.com/dhikshitha29/Musify\n",
            "https://github.com/dhikshitha29/Musify\n",
            "https://github.com/dhikshitha29/Musify\n",
            "\n",
            "\n",
            "\n",
            "\n",
            "\n",
            "\n",
            "\n",
            "\n",
            "\n",
            "\n",
            "\n",
            "\n",
            "\n",
            "\n",
            "\n",
            "\n",
            "\n",
            "\n",
            "\n",
            "\n",
            "\n",
            "\n",
            "\n",
            "\n",
            "\n",
            "\n",
            "\n",
            "\n",
            "\n",
            "\n",
            "\n",
            "\n",
            "\n",
            "\n",
            "\n",
            "\n",
            "\n",
            "\n",
            "\n",
            "\n",
            "\n",
            "\n",
            "VAISHALI BIJOY \n",
            "\n",
            "VAISHALI.BIJOY2016@vitstudent.ac.in \n",
            "8511192673 \n",
            "\n",
            "Education \n",
            "\n",
            "St. Patrick’s Junior College Agra, 97% , High School \n",
            "St. Patrick’s Juinor College Agra, 95% Secondary SchooL \n",
            "\n",
            "Date of birth \n",
            "\n",
            "12 May 1998 \n",
            "\n",
            " \n",
            "\n",
            "Languages known \n",
            "\n",
            "Hindi, English, Spanish \n",
            "\n",
            " \n",
            "\n",
            "Coursework \n",
            "\n",
            "Machine Learning \n",
            "Data Visualization \n",
            "Data structures and algorithms  \n",
            "Statistics \n",
            "Operating Systems \n",
            "Database Management System \n",
            "Discrete maths \n",
            "\n",
            " \n",
            " \n",
            "Skills \n",
            "\n",
            "C++        Java \n",
            "Python        Arduino \n",
            "Android                      HTML \n",
            "PHP        Javascript \n",
            "MySQL        R studio \n",
            "\n",
            " \n",
            " \n",
            "\n",
            "Experience \n",
            "\n",
            "• Android club coordinator \n",
            "\n",
            "• Front end developer in TechnoVIT website team \n",
            "\n",
            "• Online event coordinator in TechnoVIT \n",
            "\n",
            " \n",
            "\n",
            " \n",
            "\n",
            "mailto:VAISHALI.BIJOY2016@vitstudent.ac.in\n",
            "\n",
            "\n",
            "Projects \n",
            "\n",
            "Good for females \n",
            "An android application for women and health safety, emergency mode using android \n",
            "modules, safest route using image processing, disease prediction using SVM and linear \n",
            "regression. \n",
            " \n",
            "Face detection and recognition using openMP \n",
            "OpenCV, openMP, cuda \n",
            " \n",
            "Smart Farming \n",
            "Arduino coding, sensors , thingspeak \n",
            " \n",
            "\n",
            " \n",
            " \n",
            "\n",
            "Co-curricular activities \n",
            "\n",
            "Reading novels, painting  \n",
            "\n",
            " \n",
            "\n",
            " \n",
            "\n",
            " \n",
            "\n",
            "\n",
            "\n",
            "\n",
            "\n",
            "\n",
            "\n",
            "\n",
            "\n",
            "\n",
            "\n",
            "\n",
            "\n",
            "\n",
            "\n",
            "\n",
            "\n",
            "\n",
            "\n",
            "\n",
            "\n",
            "\n",
            "\n",
            "\n",
            "\n",
            "\n",
            "\n",
            "\n",
            "\n",
            "\n",
            "\n",
            "\n",
            "\n",
            "\n",
            "\n",
            "\n",
            "\n",
            "\n",
            "\n",
            "\n",
            "\n",
            "\n",
            "\n",
            "     Meghna Lohani \n",
            "Campus Address Meghna.lohani2016@vitstudent.ac.in Permanent Address \n",
            "\n",
            "LHA, VIT Chennai Cell-8511192673 F-203, Shangri La  \n",
            "\n",
            "Chennai, Apartments \n",
            "\n",
            "Tamil Nadu Vadodara  \n",
            " \n",
            " \n",
            " \n",
            " \n",
            "OBJECTIVE To apply my technical skills for the growth of the company \n",
            "\n",
            "EDUCATION Vellore Institute of Technology, Chennai (T.N.) \n",
            "\n",
            " Bachelor of Computing Science and Engineering \n",
            "\n",
            " CGPA: 9.24/10.0 (Till V semester), to be awarded May 2020 \n",
            "\n",
            " St. Patrick’s Junior College, Agra \n",
            "\n",
            " HSC (Class XII), ICSE  \n",
            "\n",
            " Percentage: 97, awarded May 2015  \n",
            "\n",
            " St. Patrick’s Junior College, Agra \n",
            "\n",
            " SSC (Class X), ICSE  \n",
            "\n",
            " Percentage:95 awarded May 2013  \n",
            "\n",
            "DATE OF BIRTH 12-May-1998  \n",
            "\n",
            "LANGUAGES Hindi and English  \n",
            "KNOWN    \n",
            "\n",
            "COURSEWORK Object Oriented Programming Digital Logic and design \n",
            "\n",
            " Database Management Systems Software Engineering \n",
            "\n",
            " Data Structures and Algorithms Computer Architecture \n",
            "\n",
            " \n",
            "\n",
            "Discrete Mathematics \n",
            "Machine Learning Statistics for Engineer \n",
            "\n",
            "COMPUTER Languages: Python, C, C++, R (Beginner), Java \n",
            "\n",
            "SKILLS    \n",
            "\n",
            " Skills: \n",
            "HTML, PHP, JavaScript, SQL, Data Structures, Data \n",
            "Science, Machine learning,Android \n",
            "\n",
            ",    \n",
            "\n",
            "EXPERIENCE Developer at VIT Technovit Website Team \n",
            "\n",
            " Won two hackathons \n",
            " \n",
            "\n",
            "Co-ordinator of the android club \n",
            "\n",
            " \n",
            " \n",
            " \n",
            "\n",
            " \n",
            "ACTIVITIES Drawing, Painting, Playing Chess \n",
            "\n",
            " \n",
            "\n",
            " \n",
            "\n",
            " \n",
            "\n",
            "\n",
            "\n",
            "Projects  \n",
            "\n",
            " \n",
            "\n",
            "Campus Commune \n",
            "Java Netbeans IDE, MySQL, JDBC \n",
            "An application which provides a platform for students from \n",
            "various colleges to interact, share knowledge about projects \n",
            "and courses. \n",
            "Good For Female - GFF \n",
            "Android Studio, PHP, Machine learning \n",
            "An android application which caters to women health and \n",
            "safety. Winner of the Best Problem Addressed Award on Social \n",
            "Welfare. \n",
            "Smart Farming \n",
            "Sensors, Actuators, Arduino, ThingSpeak, MIT Apps \n",
            "A smart farming application which allows remote automation \n",
            "and monitoring of farming activities. Data is sensed and \n",
            "pushed to cloud(ThingSpeak), can be controlled using an app. \n",
            "Face Detection and Identification \n",
            "C++, OpenMP, OpenCV \n",
            "A C++ application which detects and recognizes faces from \n",
            "input image, input video or live streaming video. \n",
            "Voice Automated Cloud with Face Authentication \n",
            "Docker, Speech Recognition, OpenCV \n",
            "Created own cloud which authorizes user using Face Detection \n",
            "and provides various services (SaaS, PaaS, IaaS) using voice \n",
            "commands. \n",
            "  \n",
            "\n",
            "\n",
            "\n",
            "\n",
            "\n",
            "\n",
            "\n",
            "\n",
            "\n",
            "\n",
            "\n",
            "\n",
            "\n",
            "\n",
            "\n",
            "\n",
            "\n",
            "\n",
            "\n",
            "\n",
            "\n",
            "\n",
            "\n",
            "\n",
            "\n",
            "\n",
            "\n",
            "\n",
            "\n",
            "\n",
            "\n",
            "\n",
            "\n",
            "\n",
            "\n",
            "\n",
            "\n",
            "\n",
            "\n",
            "\n",
            "Phoebe Buffay  \n",
            "\n",
            "Phobe.buffaycat@vit.ac.in \n",
            "8511192673 \n",
            "\n",
            "Education \n",
            "\n",
            "Montessori School,97% \n",
            "St. Patrick’s Juinor College Agra, 95% Secondary SchooL \n",
            "\n",
            "Date of birth \n",
            "\n",
            "12 May 1973 \n",
            "\n",
            " \n",
            "\n",
            "Languages known \n",
            "\n",
            "English, Spanish,French \n",
            "\n",
            " \n",
            "\n",
            "Coursework \n",
            "\n",
            "Machine Learning \n",
            "Data Visualization \n",
            "Operating Systems \n",
            "Database Management System \n",
            "Discrete maths \n",
            "\n",
            " \n",
            " \n",
            "Skills \n",
            "\n",
            "C++        Java \n",
            "C        Ruby on Rails \n",
            "Python        Arduino \n",
            "Android       HTML \n",
            "PHP        Javascript \n",
            "MySQL        R studio \n",
            "Keras        NLTK \n",
            "Parser        SQL \n",
            "Cuda        OpenMP \n",
            "OpenCv       CNN \n",
            "\n",
            " \n",
            " \n",
            "\n",
            "Experience \n",
            "\n",
            " Android club coordinator \n",
            "\n",
            " Front end developer in TechnoVIT website team \n",
            "\n",
            " Key entertainer in Friends \n",
            "\n",
            "\n",
            "\n",
            " \n",
            "\n",
            " \n",
            "\n",
            "Projects \n",
            "\n",
            "Good for females \n",
            "An android application for women and health safety, emergency mode using android \n",
            "modules, safest route using image processing, disease prediction using SVM and linear \n",
            "regression. \n",
            " \n",
            "Face detection and recognition using openMP \n",
            "OpenCV, openMP, cuda \n",
            " \n",
            "Smart Farming \n",
            "Arduino coding, sensors , thingspeak \n",
            " \n",
            "NLP resume parsing \n",
            "Made resume parser based on nltk, spacy and other NLP tools \n",
            " \n",
            "Breast Cancer detection \n",
            "Made a classifier to detect breast cancer using deep learning in keras and tensorflow \n",
            " \n",
            "\n",
            " \n",
            " \n",
            "\n",
            "Co-curricular activities \n",
            "\n",
            "Reading novels, painting  \n",
            "\n",
            " \n",
            "\n",
            " \n",
            "\n",
            " \n",
            "\n",
            " \n",
            "\n",
            "\n",
            "\n"
          ]
        }
      ]
    },
    {
      "cell_type": "code",
      "source": [
        "pip install pymupdf"
      ],
      "metadata": {
        "colab": {
          "base_uri": "https://localhost:8080/"
        },
        "id": "py85jLn2k_Xa",
        "outputId": "bc70d6c2-b8cb-4e2d-bd82-eef22effb963"
      },
      "execution_count": null,
      "outputs": [
        {
          "output_type": "stream",
          "name": "stdout",
          "text": [
            "Looking in indexes: https://pypi.org/simple, https://us-python.pkg.dev/colab-wheels/public/simple/\n",
            "Requirement already satisfied: pymupdf in /usr/local/lib/python3.9/dist-packages (1.21.1)\n"
          ]
        }
      ]
    },
    {
      "cell_type": "code",
      "source": [
        "!pip install fitz"
      ],
      "metadata": {
        "colab": {
          "base_uri": "https://localhost:8080/",
          "height": 816
        },
        "id": "cKw7J2aUfV8Z",
        "outputId": "3863c1ce-7675-44e0-efaf-d017f8983180"
      },
      "execution_count": null,
      "outputs": [
        {
          "output_type": "stream",
          "name": "stdout",
          "text": [
            "Looking in indexes: https://pypi.org/simple, https://us-python.pkg.dev/colab-wheels/public/simple/\n",
            "Collecting fitz\n",
            "  Using cached fitz-0.0.1.dev2-py2.py3-none-any.whl (20 kB)\n",
            "Requirement already satisfied: numpy in /usr/local/lib/python3.9/dist-packages (from fitz) (1.22.4)\n",
            "Requirement already satisfied: nibabel in /usr/local/lib/python3.9/dist-packages (from fitz) (3.0.2)\n",
            "Requirement already satisfied: httplib2 in /usr/local/lib/python3.9/dist-packages (from fitz) (0.21.0)\n",
            "Requirement already satisfied: configparser in /usr/local/lib/python3.9/dist-packages (from fitz) (5.3.0)\n",
            "Requirement already satisfied: nipype in /usr/local/lib/python3.9/dist-packages (from fitz) (1.8.5)\n",
            "Requirement already satisfied: pyxnat in /usr/local/lib/python3.9/dist-packages (from fitz) (1.5)\n",
            "Requirement already satisfied: scipy in /usr/local/lib/python3.9/dist-packages (from fitz) (1.10.1)\n",
            "Requirement already satisfied: pandas in /usr/local/lib/python3.9/dist-packages (from fitz) (1.4.4)\n",
            "Requirement already satisfied: configobj in /usr/local/lib/python3.9/dist-packages (from fitz) (5.0.8)\n",
            "Requirement already satisfied: six in /usr/local/lib/python3.9/dist-packages (from configobj->fitz) (1.16.0)\n",
            "Requirement already satisfied: pyparsing!=3.0.0,!=3.0.1,!=3.0.2,!=3.0.3,<4,>=2.4.2 in /usr/local/lib/python3.9/dist-packages (from httplib2->fitz) (3.0.9)\n",
            "Requirement already satisfied: python-dateutil>=2.2 in /usr/local/lib/python3.9/dist-packages (from nipype->fitz) (2.8.2)\n",
            "Requirement already satisfied: etelemetry>=0.2.0 in /usr/local/lib/python3.9/dist-packages (from nipype->fitz) (0.3.0)\n",
            "Requirement already satisfied: click>=6.6.0 in /usr/local/lib/python3.9/dist-packages (from nipype->fitz) (8.1.3)\n",
            "Requirement already satisfied: prov>=1.5.2 in /usr/local/lib/python3.9/dist-packages (from nipype->fitz) (2.0.0)\n",
            "Requirement already satisfied: simplejson>=3.8.0 in /usr/local/lib/python3.9/dist-packages (from nipype->fitz) (3.18.4)\n",
            "Requirement already satisfied: pydot>=1.2.3 in /usr/local/lib/python3.9/dist-packages (from nipype->fitz) (1.4.2)\n",
            "Requirement already satisfied: networkx>=2.0 in /usr/local/lib/python3.9/dist-packages (from nipype->fitz) (3.0)\n",
            "Requirement already satisfied: packaging in /usr/local/lib/python3.9/dist-packages (from nipype->fitz) (23.0)\n",
            "Requirement already satisfied: traits!=5.0,<6.4,>=4.6 in /usr/local/lib/python3.9/dist-packages (from nipype->fitz) (6.3.2)\n",
            "Requirement already satisfied: filelock>=3.0.0 in /usr/local/lib/python3.9/dist-packages (from nipype->fitz) (3.10.7)\n",
            "Requirement already satisfied: looseversion in /usr/local/lib/python3.9/dist-packages (from nipype->fitz) (1.1.2)\n",
            "Requirement already satisfied: rdflib>=5.0.0 in /usr/local/lib/python3.9/dist-packages (from nipype->fitz) (6.3.2)\n",
            "Requirement already satisfied: pytz>=2020.1 in /usr/local/lib/python3.9/dist-packages (from pandas->fitz) (2022.7.1)\n",
            "Requirement already satisfied: lxml>=4.3 in /usr/local/lib/python3.9/dist-packages (from pyxnat->fitz) (4.9.2)\n",
            "Requirement already satisfied: requests>=2.20 in /usr/local/lib/python3.9/dist-packages (from pyxnat->fitz) (2.27.1)\n",
            "Requirement already satisfied: pathlib>=1.0 in /usr/local/lib/python3.9/dist-packages (from pyxnat->fitz) (1.0.1)\n",
            "Requirement already satisfied: future>=0.16 in /usr/local/lib/python3.9/dist-packages (from pyxnat->fitz) (0.18.3)\n",
            "Requirement already satisfied: ci-info>=0.2 in /usr/local/lib/python3.9/dist-packages (from etelemetry>=0.2.0->nipype->fitz) (0.3.0)\n",
            "Requirement already satisfied: isodate<0.7.0,>=0.6.0 in /usr/local/lib/python3.9/dist-packages (from rdflib>=5.0.0->nipype->fitz) (0.6.1)\n",
            "Requirement already satisfied: idna<4,>=2.5 in /usr/local/lib/python3.9/dist-packages (from requests>=2.20->pyxnat->fitz) (3.4)\n",
            "Requirement already satisfied: charset-normalizer~=2.0.0 in /usr/local/lib/python3.9/dist-packages (from requests>=2.20->pyxnat->fitz) (2.0.12)\n",
            "Requirement already satisfied: urllib3<1.27,>=1.21.1 in /usr/local/lib/python3.9/dist-packages (from requests>=2.20->pyxnat->fitz) (1.26.15)\n",
            "Requirement already satisfied: certifi>=2017.4.17 in /usr/local/lib/python3.9/dist-packages (from requests>=2.20->pyxnat->fitz) (2022.12.7)\n",
            "Installing collected packages: fitz\n",
            "Successfully installed fitz-0.0.1.dev2\n"
          ]
        },
        {
          "output_type": "display_data",
          "data": {
            "application/vnd.colab-display-data+json": {
              "pip_warning": {
                "packages": [
                  "fitz"
                ]
              }
            }
          },
          "metadata": {}
        }
      ]
    },
    {
      "cell_type": "code",
      "source": [
        "file = r'/content/drive/MyDrive/NLP Package/Resume-Scoring-using-NLP-master/Resumes'\n",
        "# file =r'/content/drive/MyDrive/NLP Package/Resume-Scoring-using-NLP-master/Resumes'\n",
        "#Path for the files\n",
        "onlyfiles = [os.path.join(file, f) for f in os.listdir(file) if os.path.isfile(os.path.join(file, f))]\n",
        "text = {}\n",
        "j = 0\n",
        "for i in onlyfiles:\n",
        "\n",
        "  file_data = fitz.open(i)\n",
        "  text1 = \"\"\n",
        "  for page in file_data:\n",
        "    text1+=page.get_text()\n",
        "  text[j]=text1\n",
        "  j+=1\n"
      ],
      "metadata": {
        "id": "T1k0DBRLdTYq"
      },
      "execution_count": null,
      "outputs": []
    },
    {
      "cell_type": "code",
      "source": [
        "len(text)"
      ],
      "metadata": {
        "colab": {
          "base_uri": "https://localhost:8080/"
        },
        "id": "hN8qN3WX9h8h",
        "outputId": "90b28e67-1b0e-4f42-c3b8-0860f87412d1"
      },
      "execution_count": null,
      "outputs": [
        {
          "output_type": "execute_result",
          "data": {
            "text/plain": [
              "7"
            ]
          },
          "metadata": {},
          "execution_count": 47
        }
      ]
    },
    {
      "cell_type": "code",
      "source": [
        "print(text)"
      ],
      "metadata": {
        "colab": {
          "base_uri": "https://localhost:8080/"
        },
        "id": "bq9Hrj9VBTMl",
        "outputId": "ad057fde-75b9-473d-a046-ef435488b453"
      },
      "execution_count": null,
      "outputs": [
        {
          "output_type": "stream",
          "name": "stdout",
          "text": [
            "{0: 'Aman Sharma \\nCampus Address                         aman.sharma2016@vitstudent.ac.in \\nPermanent Address \\nMHA, VIT Chennai \\nCell-7550171006 \\n6/E, Street-27, \\nChennai, \\nSector-1, Bhilai, \\nTamil Nadu  \\nChhattisgarh \\n \\n \\n \\n \\nOBJECTIVE  \\nSeeking to leverage my technical knowledge to grow in your company. \\n \\nEDUCATION \\nVellore Institute of Technology, Chennai (T.N.) \\n \\nBachelor of Computing Science and Engineering \\n \\nCGPA: 9.27/10.0 (Till III semester), to be awarded May 2020 \\n \\n \\n \\nSenior Secondary School, Sector-10, Bhilai (C.G) \\n \\nHSC (Class XII), CBSE \\n \\nPercentage: 86.80, awarded May 2015 \\n \\n \\nSenior Secondary School, Sector-10, Bhilai(C.G.) \\n \\nSSC (Class XII), CBSE \\n \\nCGPA: 10/10, awarded May 2013 \\n \\nDATE OF BIRTH \\n10-October-1997 \\n \\nLANGUAGES \\nHindi and English \\nKNOWN \\n \\nCOURSEWORK \\nObject Oriented Programming               Digital Logic and design \\n \\nDatabase Management Systems \\nSoftware Engineering \\n \\nData Structures and Algorithms \\nComputer Architecture \\n \\nDiscrete Mathematics \\nStatistics for Engineer \\n \\nCOMPUTER \\nLanguages: \\nPython, C, C++, R (Beginner) \\nSKILLS \\n \\n \\nSkills:   \\nHTML, PHP, JavaScript, SQL, Data Structures \\n, \\n \\n \\nEXPERIENCE \\nDeveloper at VIT Vibrance Website Team \\n \\n \\nParticipated in Web Hackathon conducted by Mozilla \\n \\n \\n \\nResearch Area: Clustering (Categorical Data) \\n \\n \\n \\nPresented paper at ICMCE 2017 held at VIT Chennai \\n \\n(A Novel Dynamic Match Scheduling Algorithm for Equitable Queue Generation) \\n \\n(Co-authored by 2 more) \\n \\n \\nQualified Regional Mathematics Olympiad from Chhattisgarh State (2013) \\n \\n \\nACTIVITIES \\nNovel Reading, Wandering in Political spheres. \\n', 1: 'Chandler Bing \\nchandler.bing@vit.ac.in \\n8511192673 \\nEducation \\nSt. Patrick’s Junior College Agra, 97% , High School \\nSt. Patrick’s Juinor College Agra, 95% Secondary SchooL \\nDate of birth \\n12 May 1998 \\n \\nLanguages known \\nHindi, English, Spanish \\n \\nCoursework \\nMachine Learning \\nData Visualization \\nOperating Systems \\nDatabase Management System \\nDiscrete maths \\n \\n \\nSkills \\nC++ \\n \\n \\n \\n \\n \\n \\n \\nJava \\nPython  \\n \\n \\n \\n \\n \\n \\nArduino \\nAndroid \\n \\n \\n \\n \\n \\n \\nHTML \\nPHP \\n \\n \\n \\n \\n \\n \\n \\nJavascript \\nMySQL  \\n \\n \\n \\n \\n \\n \\nR studio \\nKeras  \\n \\n \\n \\n \\n \\n \\nNLTK \\nParser  \\n \\n \\n \\n \\n \\n \\nSQL \\n \\n \\nExperience \\n\\uf0b7 Android club coordinator \\n\\uf0b7 Front end developer in TechnoVIT website team \\n\\uf0b7 Key entertainer in Friends \\n \\n \\nProjects \\nGood for females \\nAn android application for women and health safety, emergency mode using android \\nmodules, safest route using image processing, disease prediction using SVM and linear \\nregression. \\n \\nFace detection and recognition using openMP \\nOpenCV, openMP, cuda \\n \\nSmart Farming \\nArduino coding, sensors , thingspeak \\n \\nNLP resume parsing \\nMade resume parser based on nltk, spacy and other NLP tools \\n \\n \\n \\nCo-curricular activities \\nReading novels, painting  \\n \\n \\n \\n', 2: \"DHIKSHITHA A\\n19PD09\\nGender\\nDate of Birth\\nLanguages known\\nEmail\\nMobile\\nLinkedin\\nGithub\\nFemale\\n29th April 2001\\nEnglish, Tamil, French\\n19pd09@psgtech.ac.in\\n+91-98428-48661\\nlinkedin.com/in/dhikshitha29\\ngithub.com/dhikshitha29\\nAddress\\nB3, 3rdFloor Orchid Grande Apartment, 277,\\nDr. Radhakrishnan Road, Tatabad, Coimbatore-12.\\nOBJECTIVE\\nTo obtain a position as a student intern from May 2022 to November 2022 to\\ngain experience and leverage my skills.\\nACADEMIC QUALIFICATION\\nCurrently pursuing 3rd year of 5-year Integrated M.Sc. Data Science at the\\nDepartment of Applied Mathematics and Computational Sciences at PSG College of\\nTechnology.\\nSKILL SET\\nLanguages\\nC++, C, Python\\n Back-End\\nSQL, PHP, Node\\nFront-End\\nHTML, CSS, JavaScript\\n Platform\\nWindows\\n Tools\\nCode Blocks, Tableau, Spyder, MySQL, Excel, VS code\\nAREAS OF INTEREST\\n● Web Development\\n● Data Visualization\\n●\\nDatabase Management System\\n●\\nSupervised and Unsupervised Learning\\nACADEMIC RECORD\\n● M.Sc. Data Science\\nPSG College of Technology, Coimbatore\\n2019-2024\\n8.72 CGPA\\n● XII (Higher secondary, State board)\\nGD Matriculation Higher Secondary School,\\nCoimbatore\\n2019\\n91.33 %\\n● X (SSLC, State board)\\nGD Matriculation Higher Secondary School,\\nCoimbatore\\n2017\\n97 %\\nNON-ACADEMIC PROJECTS\\n● Youthference is a project built using PHP, SQL and Bootstrap for layout. It's a CRUD\\napplication that allows users to register for an event and store the details in phpMyAdmin\\nprovided by XAMPP.\\n● Cinester, developed in Python, uses the Valence Aware Dictionary model for Sentiment\\nReasoning. VADER from the Natural Language ToolKit helps to classify reviews by\\nsumming up the intensity or the sentiment scores of each word in the text. It also uses\\nTfidfVectorizer which provides a better accuracy than VADER.\\nACADEMIC PROJECTS\\n● Expedia, developed in C++, maintains the records of reserved hotel rooms, payment\\ndetails, details of customers, managing inventory and menu provided in the hotel by\\nemploying the UML concepts.\\n● Musify, built in Python, classifies songs into different genres. GTZAN is an audio dataset\\nand preprocessing has been done to convert the dataset to a csv file. To find the best\\nmodel, several supervised machine learning algorithms have been used including Naive\\nBayes, Decision Trees, Logistic Regression, SVM, KNN, Random Forest and Catboost.\\n● Movflix, developed using Python, provides a level of comfort and personalization that\\nhelps the user to interact better with the system and watch movies that cater to the\\nuser’s needs. It filters the list of movies using three types of recommender systems\\nnamely Demographic, Content-based and Collaborative.\\n● ChatCord is a web-based chat application developed using Javascript. It uses node.js\\nwith the following framework: express.js and socket.io. It allows bidirectional\\ncommunication between multiple clients in a room.\\nEXTRA-CURRICULAR ACTIVITIES AND ACHIEVEMENTS\\n● Completed a course in Udemy on Natural Language Processing with Python.\\n● Completed a course in Coursera on Introduction to Data Science in Python.\\n● Completed a course in Udemy on Modern PHP Web Development w/MySql.\\n● Participated in Code Kaze 21 and secured 2089th rank.\\n● State, District and Zonal level badminton player during school tenure.\\n● Was a part of the torch relay for 7 consecutive years.\\n● Won a few competitions in drawing and was Captain at school.\\nDECLARATION\\nI, Dhikshitha A, do hereby confirm that the information given above is true to\\nthe best of my knowledge.\\nPlace: Coimbatore\\nDate : 12/01/2021 \\n(Dhikshitha A)  \\n\", 3: \"Dhikshitha A\\nB3, 3rdFloor Orchid Grande\\nApartment, 277,\\nDr. Radhakrishnan Road,\\nTatabad, Coimbatore-12.\\nSKILLS\\nProgramming Languages :\\n C++, C, Python, SQL, PHP,\\nJavaScript\\nTools : Code Blocks, Tableau,\\nSpyder, MySQL, VS code, Excel\\n+91-98428-48661\\nAREAS OF INTEREST\\nSupervised and\\nUnsupervised Learning\\nDatabase Management\\nSystem\\nData Visualization\\nWeb Development\\nLANGUAGES KNOWN\\nEnglish\\nTamil\\nPROJECTS\\nMusify, built in Python, classifies songs into different\\ngenres. GTZAN is an audio dataset and preprocessing has\\nbeen done to convert the dataset to a csv file. To find the\\nbest model, several supervised machine learning algorithms\\nhave been used including Naive Bayes, Decision Trees,\\nLogistic Regression, SVM, KNN, Random Forest and\\nCatboost.\\nMovflix, developed using Python, provides a level of\\ncomfort and personalization that helps the user to interact\\nbetter with the system and watch movies that cater to\\nuser’s needs. It filters the list of movies using three types of\\nrecommender systems namely Demographic, Content-\\nbased and Collaborative.\\nExpedia, developed in C++, maintains the records of\\nreserved hotel rooms, payment details, details of customers,\\nmanaging inventory and menu provided in the hotel by\\nemploying the UML concepts.\\nYouthference is a project built using PHP, SQL and\\nBootstrap for layout. It's a CRUD application that allows\\nusers to register for an event and store the details in\\nphpMyAdmin provided by XAMPP.\\nCinester, developed in Python, uses the VADER model from\\nNLTK helps to classify reviews by summing up the intensity\\nor the sentiment scores of each word in the text. It also\\nuses TfidfVectorizer which provides better accuracy than\\nVADER.\\nEXTRA-CURRICULAR ACTIVITIES\\nCompleted a course in Natural Language Processing with\\nPython.\\nCompleted a course on Introduction to Data Science in Python.\\nParticipated in events conducted by the Nature club.\\nParticipated in Code Kaze'21 and secured 2089th rank.\\nState, District and Zonal level badminton player during school\\ntenure.\\n29th April 2001\\nEDUCATION\\nM.Sc. Data Science (4th Year)    8.78\\n PSG College of Technology,      2019-24  \\nCoimbatore\\nXII (HSC, State Board)                 91.3%\\n GD Matriculation Higher             2019\\nSecondary School, \\nCoimbatore\\nX (SSLC, State Board)                 97%\\n GD Matriculation Higher             2017\\nSecondary School, \\nCoimbatore\\nWORK EXPERIENCE\\nJPMorgan Chase & Co.                               \\nWorked in the Debt Capital Markets team, with exposure on\\nboth the Financial and Corpo rate side. Working on end-to-\\nend pitches, capital structure analysis, identification of\\nsecondary trends, fair-value analysis and bond pricing. Apart\\nfrom extensive understanding and analysis of capital\\nstructures, also suggested efficient ways of raising debt.\\nJune - December 2022\\nJunior Analyst Intern\\ndhikshithaarulkumar@gmail\\n.com\\n\", 4: 'VAISHALI BIJOY \\nVAISHALI.BIJOY2016@vitstudent.ac.in \\n8511192673 \\nEducation \\nSt. Patrick’s Junior College Agra, 97% , High School \\nSt. Patrick’s Juinor College Agra, 95% Secondary SchooL \\nDate of birth \\n12 May 1998 \\n \\nLanguages known \\nHindi, English, Spanish \\n \\nCoursework \\nMachine Learning \\nData Visualization \\nData structures and algorithms  \\nStatistics \\nOperating Systems \\nDatabase Management System \\nDiscrete maths \\n \\n \\nSkills \\nC++ \\n \\n \\n \\n \\n \\n \\n \\nJava \\nPython  \\n \\n \\n \\n \\n \\n \\nArduino \\nAndroid \\n \\n \\n \\n \\n \\n \\n               HTML \\nPHP \\n \\n \\n \\n \\n \\n \\n \\nJavascript \\nMySQL  \\n \\n \\n \\n \\n \\n \\nR studio \\n \\n \\nExperience \\n• Android club coordinator \\n• Front end developer in TechnoVIT website team \\n• Online event coordinator in TechnoVIT \\n \\n \\nProjects \\nGood for females \\nAn android application for women and health safety, emergency mode using android \\nmodules, safest route using image processing, disease prediction using SVM and linear \\nregression. \\n \\nFace detection and recognition using openMP \\nOpenCV, openMP, cuda \\n \\nSmart Farming \\nArduino coding, sensors , thingspeak \\n \\n \\n \\nCo-curricular activities \\nReading novels, painting  \\n \\n \\n \\n', 5: ' \\n \\n \\n \\n \\nMeghna Lohani \\nCampus Address \\nMeghna.lohani2016@vitstudent.ac.in \\nPermanent Address \\nLHA, VIT Chennai \\nCell-8511192673 \\nF-203, Shangri La  \\nChennai, \\nApartments \\nTamil Nadu \\nVadodara \\n  \\n \\n \\n \\nOBJECTIVE \\nTo apply my technical skills for the growth of the company \\nEDUCATION \\nVellore Institute of Technology, Chennai (T.N.) \\n \\nBachelor of Computing Science and Engineering \\n \\nCGPA: 9.24/10.0 (Till V semester), to be awarded May 2020 \\n \\nSt. Patrick’s Junior College, Agra \\n \\nHSC (Class XII), ICSE \\n \\n \\nPercentage: 97, awarded May 2015 \\n \\n \\nSt. Patrick’s Junior College, Agra \\n \\nSSC (Class X), ICSE \\n \\n \\nPercentage:95 awarded May 2013 \\n \\nDATE OF BIRTH \\n12-May-1998 \\n \\nLANGUAGES \\nHindi and English \\n \\nKNOWN \\n \\n \\n \\nCOURSEWORK \\nObject Oriented Programming \\nDigital Logic and design \\n \\nDatabase Management Systems \\nSoftware Engineering \\n \\nData Structures and Algorithms \\nComputer Architecture \\n \\nDiscrete Mathematics \\nMachine Learning \\nStatistics for Engineer \\nCOMPUTER \\nLanguages: \\nPython, C, C++, R (Beginner), Java \\nSKILLS \\n \\n \\n \\n \\nSkills: \\nHTML, PHP, JavaScript, SQL, Data Structures, Data \\nScience, Machine learning,Android \\n, \\n \\n \\n \\nEXPERIENCE \\nDeveloper at VIT Technovit Website Team \\n \\nWon two hackathons \\n \\nCo-ordinator of the android club \\n \\n \\n \\n \\nACTIVITIES \\nDrawing, Painting, Playing Chess \\n \\n \\n \\nProjects  \\n \\nCampus Commune \\nJava Netbeans IDE, MySQL, JDBC \\nAn application which provides a platform for students from \\nvarious colleges to interact, share knowledge about projects \\nand courses. \\nGood For Female - GFF \\nAndroid Studio, PHP, Machine learning \\nAn android application which caters to women health and \\nsafety. Winner of the Best Problem Addressed Award on Social \\nWelfare. \\nSmart Farming \\nSensors, Actuators, Arduino, ThingSpeak, MIT Apps \\nA smart farming application which allows remote automation \\nand monitoring of farming activities. Data is sensed and \\npushed to cloud(ThingSpeak), can be controlled using an app. \\nFace Detection and Identification \\nC++, OpenMP, OpenCV \\nA C++ application which detects and recognizes faces from \\ninput image, input video or live streaming video. \\nVoice Automated Cloud with Face Authentication \\nDocker, Speech Recognition, OpenCV \\nCreated own cloud which authorizes user using Face Detection \\nand provides various services (SaaS, PaaS, IaaS) using voice \\ncommands. \\n  \\n', 6: 'Phoebe Buffay \\n \\nPhobe.buffaycat@vit.ac.in \\n8511192673 \\nEducation \\nMontessori School,97% \\nSt. Patrick’s Juinor College Agra, 95% Secondary SchooL \\nDate of birth \\n12 May 1973 \\n \\nLanguages known \\nEnglish, Spanish,French \\n \\nCoursework \\nMachine Learning \\nData Visualization \\nOperating Systems \\nDatabase Management System \\nDiscrete maths \\n \\n \\nSkills \\nC++ \\n \\n \\n \\n \\n \\n \\n \\nJava \\nC \\n \\n \\n \\n \\n \\n \\n \\nRuby on Rails \\nPython  \\n \\n \\n \\n \\n \\n \\nArduino \\nAndroid \\n \\n \\n \\n \\n \\n \\nHTML \\nPHP \\n \\n \\n \\n \\n \\n \\n \\nJavascript \\nMySQL  \\n \\n \\n \\n \\n \\n \\nR studio \\nKeras  \\n \\n \\n \\n \\n \\n \\nNLTK \\nParser  \\n \\n \\n \\n \\n \\n \\nSQL \\nCuda  \\n \\n \\n \\n \\n \\n \\nOpenMP \\nOpenCv \\n \\n \\n \\n \\n \\n \\nCNN \\n \\n \\nExperience \\n\\uf0b7 Android club coordinator \\n\\uf0b7 Front end developer in TechnoVIT website team \\n\\uf0b7 Key entertainer in Friends \\n \\n \\nProjects \\nGood for females \\nAn android application for women and health safety, emergency mode using android \\nmodules, safest route using image processing, disease prediction using SVM and linear \\nregression. \\n \\nFace detection and recognition using openMP \\nOpenCV, openMP, cuda \\n \\nSmart Farming \\nArduino coding, sensors , thingspeak \\n \\nNLP resume parsing \\nMade resume parser based on nltk, spacy and other NLP tools \\n \\nBreast Cancer detection \\nMade a classifier to detect breast cancer using deep learning in keras and tensorflow \\n \\n \\n \\nCo-curricular activities \\nReading novels, painting  \\n \\n \\n \\n \\n'}\n"
          ]
        }
      ]
    },
    {
      "cell_type": "code",
      "source": [
        "# text = text + \"1234567891\""
      ],
      "metadata": {
        "execution": {
          "iopub.status.busy": "2022-01-12T06:23:09.809905Z",
          "iopub.execute_input": "2022-01-12T06:23:09.810817Z",
          "iopub.status.idle": "2022-01-12T06:23:09.814491Z",
          "shell.execute_reply.started": "2022-01-12T06:23:09.81078Z",
          "shell.execute_reply": "2022-01-12T06:23:09.813689Z"
        },
        "trusted": true,
        "id": "wCGubn0ztD1f"
      },
      "execution_count": null,
      "outputs": []
    },
    {
      "cell_type": "code",
      "source": [
        "extracted_text = {}"
      ],
      "metadata": {
        "execution": {
          "iopub.status.busy": "2022-01-12T06:23:09.815665Z",
          "iopub.execute_input": "2022-01-12T06:23:09.81648Z",
          "iopub.status.idle": "2022-01-12T06:23:09.827653Z",
          "shell.execute_reply.started": "2022-01-12T06:23:09.81643Z",
          "shell.execute_reply": "2022-01-12T06:23:09.826691Z"
        },
        "trusted": true,
        "id": "ko76RGsztD1f"
      },
      "execution_count": null,
      "outputs": []
    },
    {
      "cell_type": "markdown",
      "source": [
        "## **Email-ID**"
      ],
      "metadata": {
        "id": "ytE-8AyRCN3W"
      }
    },
    {
      "cell_type": "code",
      "source": [
        "#E-MAIL\n",
        "import re\n",
        "def get_email_addresses(string):\n",
        "    r = re.compile(r'[\\w\\.-]+@[\\w\\.-]+')\n",
        "    return r.findall(string)\n",
        "i=0\n",
        "list1=[]\n",
        "# for key,value in text.items():\n",
        "#   email = get_email_addresses(text[key])\n",
        "#   print(email)\n",
        "#   list1.append(email)\n",
        "#   extracted_text[i]=list1\n",
        "#   i+=1\n",
        "\n",
        "for i in range(0,len(text)):\n",
        "  email = get_email_addresses(text[i])\n",
        "  extracted_text[i]=email"
      ],
      "metadata": {
        "execution": {
          "iopub.status.busy": "2022-01-12T06:23:09.830073Z",
          "iopub.execute_input": "2022-01-12T06:23:09.830848Z",
          "iopub.status.idle": "2022-01-12T06:23:09.839859Z",
          "shell.execute_reply.started": "2022-01-12T06:23:09.830808Z",
          "shell.execute_reply": "2022-01-12T06:23:09.838868Z"
        },
        "trusted": true,
        "id": "2miUpaDjtD1g"
      },
      "execution_count": null,
      "outputs": []
    },
    {
      "cell_type": "code",
      "source": [
        "\n",
        "text2 = []"
      ],
      "metadata": {
        "id": "PL8WcDyRAlAC"
      },
      "execution_count": null,
      "outputs": []
    },
    {
      "cell_type": "code",
      "source": [
        "text2 = []\n",
        "extracted_text2 = {}\n",
        "for i in range(0,len(extracted_text)):\n",
        "  text3 = extracted_text[i][0]\n",
        "  extracted_text2[i] = text3\n",
        "  text2.append(text3)"
      ],
      "metadata": {
        "id": "1jUgy5RYEGZm"
      },
      "execution_count": null,
      "outputs": []
    },
    {
      "cell_type": "code",
      "source": [
        "extracted_text2"
      ],
      "metadata": {
        "colab": {
          "base_uri": "https://localhost:8080/"
        },
        "id": "pvjQINTHE1nW",
        "outputId": "972bd4a2-7f98-4267-cd70-5a48c8d4f36e"
      },
      "execution_count": null,
      "outputs": [
        {
          "output_type": "execute_result",
          "data": {
            "text/plain": [
              "{0: 'aman.sharma2016@vitstudent.ac.in',\n",
              " 1: 'chandler.bing@vit.ac.in',\n",
              " 2: '19pd09@psgtech.ac.in',\n",
              " 3: 'dhikshithaarulkumar@gmail',\n",
              " 4: 'VAISHALI.BIJOY2016@vitstudent.ac.in',\n",
              " 5: 'Meghna.lohani2016@vitstudent.ac.in',\n",
              " 6: 'Phobe.buffaycat@vit.ac.in'}"
            ]
          },
          "metadata": {},
          "execution_count": 54
        }
      ]
    },
    {
      "cell_type": "code",
      "source": [
        "text2"
      ],
      "metadata": {
        "colab": {
          "base_uri": "https://localhost:8080/"
        },
        "id": "oCZPphOnGnc9",
        "outputId": "c0e26669-cdf5-4583-a58e-9418befaa53c"
      },
      "execution_count": null,
      "outputs": [
        {
          "output_type": "execute_result",
          "data": {
            "text/plain": [
              "['aman.sharma2016@vitstudent.ac.in',\n",
              " 'chandler.bing@vit.ac.in',\n",
              " '19pd09@psgtech.ac.in',\n",
              " 'dhikshithaarulkumar@gmail',\n",
              " 'VAISHALI.BIJOY2016@vitstudent.ac.in',\n",
              " 'Meghna.lohani2016@vitstudent.ac.in',\n",
              " 'Phobe.buffaycat@vit.ac.in']"
            ]
          },
          "metadata": {},
          "execution_count": 55
        }
      ]
    },
    {
      "cell_type": "code",
      "source": [
        "df = pd.DataFrame(text2)\n",
        "df.rename(columns = {0:'Email'}, inplace = True)\n",
        "df"
      ],
      "metadata": {
        "colab": {
          "base_uri": "https://localhost:8080/",
          "height": 268
        },
        "id": "tbrAkXH3DU5b",
        "outputId": "b9a81053-cbec-4150-9af4-a3f9b8095866"
      },
      "execution_count": null,
      "outputs": [
        {
          "output_type": "execute_result",
          "data": {
            "text/plain": [
              "                                 Email\n",
              "0     aman.sharma2016@vitstudent.ac.in\n",
              "1              chandler.bing@vit.ac.in\n",
              "2                 19pd09@psgtech.ac.in\n",
              "3            dhikshithaarulkumar@gmail\n",
              "4  VAISHALI.BIJOY2016@vitstudent.ac.in\n",
              "5   Meghna.lohani2016@vitstudent.ac.in\n",
              "6            Phobe.buffaycat@vit.ac.in"
            ],
            "text/html": [
              "\n",
              "  <div id=\"df-67c85dd6-1c0d-48ff-864c-dbef0a713f78\">\n",
              "    <div class=\"colab-df-container\">\n",
              "      <div>\n",
              "<style scoped>\n",
              "    .dataframe tbody tr th:only-of-type {\n",
              "        vertical-align: middle;\n",
              "    }\n",
              "\n",
              "    .dataframe tbody tr th {\n",
              "        vertical-align: top;\n",
              "    }\n",
              "\n",
              "    .dataframe thead th {\n",
              "        text-align: right;\n",
              "    }\n",
              "</style>\n",
              "<table border=\"1\" class=\"dataframe\">\n",
              "  <thead>\n",
              "    <tr style=\"text-align: right;\">\n",
              "      <th></th>\n",
              "      <th>Email</th>\n",
              "    </tr>\n",
              "  </thead>\n",
              "  <tbody>\n",
              "    <tr>\n",
              "      <th>0</th>\n",
              "      <td>aman.sharma2016@vitstudent.ac.in</td>\n",
              "    </tr>\n",
              "    <tr>\n",
              "      <th>1</th>\n",
              "      <td>chandler.bing@vit.ac.in</td>\n",
              "    </tr>\n",
              "    <tr>\n",
              "      <th>2</th>\n",
              "      <td>19pd09@psgtech.ac.in</td>\n",
              "    </tr>\n",
              "    <tr>\n",
              "      <th>3</th>\n",
              "      <td>dhikshithaarulkumar@gmail</td>\n",
              "    </tr>\n",
              "    <tr>\n",
              "      <th>4</th>\n",
              "      <td>VAISHALI.BIJOY2016@vitstudent.ac.in</td>\n",
              "    </tr>\n",
              "    <tr>\n",
              "      <th>5</th>\n",
              "      <td>Meghna.lohani2016@vitstudent.ac.in</td>\n",
              "    </tr>\n",
              "    <tr>\n",
              "      <th>6</th>\n",
              "      <td>Phobe.buffaycat@vit.ac.in</td>\n",
              "    </tr>\n",
              "  </tbody>\n",
              "</table>\n",
              "</div>\n",
              "      <button class=\"colab-df-convert\" onclick=\"convertToInteractive('df-67c85dd6-1c0d-48ff-864c-dbef0a713f78')\"\n",
              "              title=\"Convert this dataframe to an interactive table.\"\n",
              "              style=\"display:none;\">\n",
              "        \n",
              "  <svg xmlns=\"http://www.w3.org/2000/svg\" height=\"24px\"viewBox=\"0 0 24 24\"\n",
              "       width=\"24px\">\n",
              "    <path d=\"M0 0h24v24H0V0z\" fill=\"none\"/>\n",
              "    <path d=\"M18.56 5.44l.94 2.06.94-2.06 2.06-.94-2.06-.94-.94-2.06-.94 2.06-2.06.94zm-11 1L8.5 8.5l.94-2.06 2.06-.94-2.06-.94L8.5 2.5l-.94 2.06-2.06.94zm10 10l.94 2.06.94-2.06 2.06-.94-2.06-.94-.94-2.06-.94 2.06-2.06.94z\"/><path d=\"M17.41 7.96l-1.37-1.37c-.4-.4-.92-.59-1.43-.59-.52 0-1.04.2-1.43.59L10.3 9.45l-7.72 7.72c-.78.78-.78 2.05 0 2.83L4 21.41c.39.39.9.59 1.41.59.51 0 1.02-.2 1.41-.59l7.78-7.78 2.81-2.81c.8-.78.8-2.07 0-2.86zM5.41 20L4 18.59l7.72-7.72 1.47 1.35L5.41 20z\"/>\n",
              "  </svg>\n",
              "      </button>\n",
              "      \n",
              "  <style>\n",
              "    .colab-df-container {\n",
              "      display:flex;\n",
              "      flex-wrap:wrap;\n",
              "      gap: 12px;\n",
              "    }\n",
              "\n",
              "    .colab-df-convert {\n",
              "      background-color: #E8F0FE;\n",
              "      border: none;\n",
              "      border-radius: 50%;\n",
              "      cursor: pointer;\n",
              "      display: none;\n",
              "      fill: #1967D2;\n",
              "      height: 32px;\n",
              "      padding: 0 0 0 0;\n",
              "      width: 32px;\n",
              "    }\n",
              "\n",
              "    .colab-df-convert:hover {\n",
              "      background-color: #E2EBFA;\n",
              "      box-shadow: 0px 1px 2px rgba(60, 64, 67, 0.3), 0px 1px 3px 1px rgba(60, 64, 67, 0.15);\n",
              "      fill: #174EA6;\n",
              "    }\n",
              "\n",
              "    [theme=dark] .colab-df-convert {\n",
              "      background-color: #3B4455;\n",
              "      fill: #D2E3FC;\n",
              "    }\n",
              "\n",
              "    [theme=dark] .colab-df-convert:hover {\n",
              "      background-color: #434B5C;\n",
              "      box-shadow: 0px 1px 3px 1px rgba(0, 0, 0, 0.15);\n",
              "      filter: drop-shadow(0px 1px 2px rgba(0, 0, 0, 0.3));\n",
              "      fill: #FFFFFF;\n",
              "    }\n",
              "  </style>\n",
              "\n",
              "      <script>\n",
              "        const buttonEl =\n",
              "          document.querySelector('#df-67c85dd6-1c0d-48ff-864c-dbef0a713f78 button.colab-df-convert');\n",
              "        buttonEl.style.display =\n",
              "          google.colab.kernel.accessAllowed ? 'block' : 'none';\n",
              "\n",
              "        async function convertToInteractive(key) {\n",
              "          const element = document.querySelector('#df-67c85dd6-1c0d-48ff-864c-dbef0a713f78');\n",
              "          const dataTable =\n",
              "            await google.colab.kernel.invokeFunction('convertToInteractive',\n",
              "                                                     [key], {});\n",
              "          if (!dataTable) return;\n",
              "\n",
              "          const docLinkHtml = 'Like what you see? Visit the ' +\n",
              "            '<a target=\"_blank\" href=https://colab.research.google.com/notebooks/data_table.ipynb>data table notebook</a>'\n",
              "            + ' to learn more about interactive tables.';\n",
              "          element.innerHTML = '';\n",
              "          dataTable['output_type'] = 'display_data';\n",
              "          await google.colab.output.renderOutput(dataTable, element);\n",
              "          const docLink = document.createElement('div');\n",
              "          docLink.innerHTML = docLinkHtml;\n",
              "          element.appendChild(docLink);\n",
              "        }\n",
              "      </script>\n",
              "    </div>\n",
              "  </div>\n",
              "  "
            ]
          },
          "metadata": {},
          "execution_count": 56
        }
      ]
    },
    {
      "cell_type": "code",
      "source": [
        "text #dictionary ==> 0th index corresponds to data of a student"
      ],
      "metadata": {
        "colab": {
          "base_uri": "https://localhost:8080/"
        },
        "id": "zfCJl0nuG_nG",
        "outputId": "64e2c621-95ee-4cb2-bcb2-24364d4b8bb8"
      },
      "execution_count": null,
      "outputs": [
        {
          "output_type": "execute_result",
          "data": {
            "text/plain": [
              "{0: 'Aman Sharma \\nCampus Address                         aman.sharma2016@vitstudent.ac.in \\nPermanent Address \\nMHA, VIT Chennai \\nCell-7550171006 \\n6/E, Street-27, \\nChennai, \\nSector-1, Bhilai, \\nTamil Nadu  \\nChhattisgarh \\n \\n \\n \\n \\nOBJECTIVE  \\nSeeking to leverage my technical knowledge to grow in your company. \\n \\nEDUCATION \\nVellore Institute of Technology, Chennai (T.N.) \\n \\nBachelor of Computing Science and Engineering \\n \\nCGPA: 9.27/10.0 (Till III semester), to be awarded May 2020 \\n \\n \\n \\nSenior Secondary School, Sector-10, Bhilai (C.G) \\n \\nHSC (Class XII), CBSE \\n \\nPercentage: 86.80, awarded May 2015 \\n \\n \\nSenior Secondary School, Sector-10, Bhilai(C.G.) \\n \\nSSC (Class XII), CBSE \\n \\nCGPA: 10/10, awarded May 2013 \\n \\nDATE OF BIRTH \\n10-October-1997 \\n \\nLANGUAGES \\nHindi and English \\nKNOWN \\n \\nCOURSEWORK \\nObject Oriented Programming               Digital Logic and design \\n \\nDatabase Management Systems \\nSoftware Engineering \\n \\nData Structures and Algorithms \\nComputer Architecture \\n \\nDiscrete Mathematics \\nStatistics for Engineer \\n \\nCOMPUTER \\nLanguages: \\nPython, C, C++, R (Beginner) \\nSKILLS \\n \\n \\nSkills:   \\nHTML, PHP, JavaScript, SQL, Data Structures \\n, \\n \\n \\nEXPERIENCE \\nDeveloper at VIT Vibrance Website Team \\n \\n \\nParticipated in Web Hackathon conducted by Mozilla \\n \\n \\n \\nResearch Area: Clustering (Categorical Data) \\n \\n \\n \\nPresented paper at ICMCE 2017 held at VIT Chennai \\n \\n(A Novel Dynamic Match Scheduling Algorithm for Equitable Queue Generation) \\n \\n(Co-authored by 2 more) \\n \\n \\nQualified Regional Mathematics Olympiad from Chhattisgarh State (2013) \\n \\n \\nACTIVITIES \\nNovel Reading, Wandering in Political spheres. \\n',\n",
              " 1: 'Chandler Bing \\nchandler.bing@vit.ac.in \\n8511192673 \\nEducation \\nSt. Patrick’s Junior College Agra, 97% , High School \\nSt. Patrick’s Juinor College Agra, 95% Secondary SchooL \\nDate of birth \\n12 May 1998 \\n \\nLanguages known \\nHindi, English, Spanish \\n \\nCoursework \\nMachine Learning \\nData Visualization \\nOperating Systems \\nDatabase Management System \\nDiscrete maths \\n \\n \\nSkills \\nC++ \\n \\n \\n \\n \\n \\n \\n \\nJava \\nPython  \\n \\n \\n \\n \\n \\n \\nArduino \\nAndroid \\n \\n \\n \\n \\n \\n \\nHTML \\nPHP \\n \\n \\n \\n \\n \\n \\n \\nJavascript \\nMySQL  \\n \\n \\n \\n \\n \\n \\nR studio \\nKeras  \\n \\n \\n \\n \\n \\n \\nNLTK \\nParser  \\n \\n \\n \\n \\n \\n \\nSQL \\n \\n \\nExperience \\n\\uf0b7 Android club coordinator \\n\\uf0b7 Front end developer in TechnoVIT website team \\n\\uf0b7 Key entertainer in Friends \\n \\n \\nProjects \\nGood for females \\nAn android application for women and health safety, emergency mode using android \\nmodules, safest route using image processing, disease prediction using SVM and linear \\nregression. \\n \\nFace detection and recognition using openMP \\nOpenCV, openMP, cuda \\n \\nSmart Farming \\nArduino coding, sensors , thingspeak \\n \\nNLP resume parsing \\nMade resume parser based on nltk, spacy and other NLP tools \\n \\n \\n \\nCo-curricular activities \\nReading novels, painting  \\n \\n \\n \\n',\n",
              " 2: \"DHIKSHITHA A\\n19PD09\\nGender\\nDate of Birth\\nLanguages known\\nEmail\\nMobile\\nLinkedin\\nGithub\\nFemale\\n29th April 2001\\nEnglish, Tamil, French\\n19pd09@psgtech.ac.in\\n+91-98428-48661\\nlinkedin.com/in/dhikshitha29\\ngithub.com/dhikshitha29\\nAddress\\nB3, 3rdFloor Orchid Grande Apartment, 277,\\nDr. Radhakrishnan Road, Tatabad, Coimbatore-12.\\nOBJECTIVE\\nTo obtain a position as a student intern from May 2022 to November 2022 to\\ngain experience and leverage my skills.\\nACADEMIC QUALIFICATION\\nCurrently pursuing 3rd year of 5-year Integrated M.Sc. Data Science at the\\nDepartment of Applied Mathematics and Computational Sciences at PSG College of\\nTechnology.\\nSKILL SET\\nLanguages\\nC++, C, Python\\n Back-End\\nSQL, PHP, Node\\nFront-End\\nHTML, CSS, JavaScript\\n Platform\\nWindows\\n Tools\\nCode Blocks, Tableau, Spyder, MySQL, Excel, VS code\\nAREAS OF INTEREST\\n● Web Development\\n● Data Visualization\\n●\\nDatabase Management System\\n●\\nSupervised and Unsupervised Learning\\nACADEMIC RECORD\\n● M.Sc. Data Science\\nPSG College of Technology, Coimbatore\\n2019-2024\\n8.72 CGPA\\n● XII (Higher secondary, State board)\\nGD Matriculation Higher Secondary School,\\nCoimbatore\\n2019\\n91.33 %\\n● X (SSLC, State board)\\nGD Matriculation Higher Secondary School,\\nCoimbatore\\n2017\\n97 %\\nNON-ACADEMIC PROJECTS\\n● Youthference is a project built using PHP, SQL and Bootstrap for layout. It's a CRUD\\napplication that allows users to register for an event and store the details in phpMyAdmin\\nprovided by XAMPP.\\n● Cinester, developed in Python, uses the Valence Aware Dictionary model for Sentiment\\nReasoning. VADER from the Natural Language ToolKit helps to classify reviews by\\nsumming up the intensity or the sentiment scores of each word in the text. It also uses\\nTfidfVectorizer which provides a better accuracy than VADER.\\nACADEMIC PROJECTS\\n● Expedia, developed in C++, maintains the records of reserved hotel rooms, payment\\ndetails, details of customers, managing inventory and menu provided in the hotel by\\nemploying the UML concepts.\\n● Musify, built in Python, classifies songs into different genres. GTZAN is an audio dataset\\nand preprocessing has been done to convert the dataset to a csv file. To find the best\\nmodel, several supervised machine learning algorithms have been used including Naive\\nBayes, Decision Trees, Logistic Regression, SVM, KNN, Random Forest and Catboost.\\n● Movflix, developed using Python, provides a level of comfort and personalization that\\nhelps the user to interact better with the system and watch movies that cater to the\\nuser’s needs. It filters the list of movies using three types of recommender systems\\nnamely Demographic, Content-based and Collaborative.\\n● ChatCord is a web-based chat application developed using Javascript. It uses node.js\\nwith the following framework: express.js and socket.io. It allows bidirectional\\ncommunication between multiple clients in a room.\\nEXTRA-CURRICULAR ACTIVITIES AND ACHIEVEMENTS\\n● Completed a course in Udemy on Natural Language Processing with Python.\\n● Completed a course in Coursera on Introduction to Data Science in Python.\\n● Completed a course in Udemy on Modern PHP Web Development w/MySql.\\n● Participated in Code Kaze 21 and secured 2089th rank.\\n● State, District and Zonal level badminton player during school tenure.\\n● Was a part of the torch relay for 7 consecutive years.\\n● Won a few competitions in drawing and was Captain at school.\\nDECLARATION\\nI, Dhikshitha A, do hereby confirm that the information given above is true to\\nthe best of my knowledge.\\nPlace: Coimbatore\\nDate : 12/01/2021 \\n(Dhikshitha A)  \\n\",\n",
              " 3: \"Dhikshitha A\\nB3, 3rdFloor Orchid Grande\\nApartment, 277,\\nDr. Radhakrishnan Road,\\nTatabad, Coimbatore-12.\\nSKILLS\\nProgramming Languages :\\n C++, C, Python, SQL, PHP,\\nJavaScript\\nTools : Code Blocks, Tableau,\\nSpyder, MySQL, VS code, Excel\\n+91-98428-48661\\nAREAS OF INTEREST\\nSupervised and\\nUnsupervised Learning\\nDatabase Management\\nSystem\\nData Visualization\\nWeb Development\\nLANGUAGES KNOWN\\nEnglish\\nTamil\\nPROJECTS\\nMusify, built in Python, classifies songs into different\\ngenres. GTZAN is an audio dataset and preprocessing has\\nbeen done to convert the dataset to a csv file. To find the\\nbest model, several supervised machine learning algorithms\\nhave been used including Naive Bayes, Decision Trees,\\nLogistic Regression, SVM, KNN, Random Forest and\\nCatboost.\\nMovflix, developed using Python, provides a level of\\ncomfort and personalization that helps the user to interact\\nbetter with the system and watch movies that cater to\\nuser’s needs. It filters the list of movies using three types of\\nrecommender systems namely Demographic, Content-\\nbased and Collaborative.\\nExpedia, developed in C++, maintains the records of\\nreserved hotel rooms, payment details, details of customers,\\nmanaging inventory and menu provided in the hotel by\\nemploying the UML concepts.\\nYouthference is a project built using PHP, SQL and\\nBootstrap for layout. It's a CRUD application that allows\\nusers to register for an event and store the details in\\nphpMyAdmin provided by XAMPP.\\nCinester, developed in Python, uses the VADER model from\\nNLTK helps to classify reviews by summing up the intensity\\nor the sentiment scores of each word in the text. It also\\nuses TfidfVectorizer which provides better accuracy than\\nVADER.\\nEXTRA-CURRICULAR ACTIVITIES\\nCompleted a course in Natural Language Processing with\\nPython.\\nCompleted a course on Introduction to Data Science in Python.\\nParticipated in events conducted by the Nature club.\\nParticipated in Code Kaze'21 and secured 2089th rank.\\nState, District and Zonal level badminton player during school\\ntenure.\\n29th April 2001\\nEDUCATION\\nM.Sc. Data Science (4th Year)    8.78\\n PSG College of Technology,      2019-24  \\nCoimbatore\\nXII (HSC, State Board)                 91.3%\\n GD Matriculation Higher             2019\\nSecondary School, \\nCoimbatore\\nX (SSLC, State Board)                 97%\\n GD Matriculation Higher             2017\\nSecondary School, \\nCoimbatore\\nWORK EXPERIENCE\\nJPMorgan Chase & Co.                               \\nWorked in the Debt Capital Markets team, with exposure on\\nboth the Financial and Corpo rate side. Working on end-to-\\nend pitches, capital structure analysis, identification of\\nsecondary trends, fair-value analysis and bond pricing. Apart\\nfrom extensive understanding and analysis of capital\\nstructures, also suggested efficient ways of raising debt.\\nJune - December 2022\\nJunior Analyst Intern\\ndhikshithaarulkumar@gmail\\n.com\\n\",\n",
              " 4: 'VAISHALI BIJOY \\nVAISHALI.BIJOY2016@vitstudent.ac.in \\n8511192673 \\nEducation \\nSt. Patrick’s Junior College Agra, 97% , High School \\nSt. Patrick’s Juinor College Agra, 95% Secondary SchooL \\nDate of birth \\n12 May 1998 \\n \\nLanguages known \\nHindi, English, Spanish \\n \\nCoursework \\nMachine Learning \\nData Visualization \\nData structures and algorithms  \\nStatistics \\nOperating Systems \\nDatabase Management System \\nDiscrete maths \\n \\n \\nSkills \\nC++ \\n \\n \\n \\n \\n \\n \\n \\nJava \\nPython  \\n \\n \\n \\n \\n \\n \\nArduino \\nAndroid \\n \\n \\n \\n \\n \\n \\n               HTML \\nPHP \\n \\n \\n \\n \\n \\n \\n \\nJavascript \\nMySQL  \\n \\n \\n \\n \\n \\n \\nR studio \\n \\n \\nExperience \\n• Android club coordinator \\n• Front end developer in TechnoVIT website team \\n• Online event coordinator in TechnoVIT \\n \\n \\nProjects \\nGood for females \\nAn android application for women and health safety, emergency mode using android \\nmodules, safest route using image processing, disease prediction using SVM and linear \\nregression. \\n \\nFace detection and recognition using openMP \\nOpenCV, openMP, cuda \\n \\nSmart Farming \\nArduino coding, sensors , thingspeak \\n \\n \\n \\nCo-curricular activities \\nReading novels, painting  \\n \\n \\n \\n',\n",
              " 5: ' \\n \\n \\n \\n \\nMeghna Lohani \\nCampus Address \\nMeghna.lohani2016@vitstudent.ac.in \\nPermanent Address \\nLHA, VIT Chennai \\nCell-8511192673 \\nF-203, Shangri La  \\nChennai, \\nApartments \\nTamil Nadu \\nVadodara \\n  \\n \\n \\n \\nOBJECTIVE \\nTo apply my technical skills for the growth of the company \\nEDUCATION \\nVellore Institute of Technology, Chennai (T.N.) \\n \\nBachelor of Computing Science and Engineering \\n \\nCGPA: 9.24/10.0 (Till V semester), to be awarded May 2020 \\n \\nSt. Patrick’s Junior College, Agra \\n \\nHSC (Class XII), ICSE \\n \\n \\nPercentage: 97, awarded May 2015 \\n \\n \\nSt. Patrick’s Junior College, Agra \\n \\nSSC (Class X), ICSE \\n \\n \\nPercentage:95 awarded May 2013 \\n \\nDATE OF BIRTH \\n12-May-1998 \\n \\nLANGUAGES \\nHindi and English \\n \\nKNOWN \\n \\n \\n \\nCOURSEWORK \\nObject Oriented Programming \\nDigital Logic and design \\n \\nDatabase Management Systems \\nSoftware Engineering \\n \\nData Structures and Algorithms \\nComputer Architecture \\n \\nDiscrete Mathematics \\nMachine Learning \\nStatistics for Engineer \\nCOMPUTER \\nLanguages: \\nPython, C, C++, R (Beginner), Java \\nSKILLS \\n \\n \\n \\n \\nSkills: \\nHTML, PHP, JavaScript, SQL, Data Structures, Data \\nScience, Machine learning,Android \\n, \\n \\n \\n \\nEXPERIENCE \\nDeveloper at VIT Technovit Website Team \\n \\nWon two hackathons \\n \\nCo-ordinator of the android club \\n \\n \\n \\n \\nACTIVITIES \\nDrawing, Painting, Playing Chess \\n \\n \\n \\nProjects  \\n \\nCampus Commune \\nJava Netbeans IDE, MySQL, JDBC \\nAn application which provides a platform for students from \\nvarious colleges to interact, share knowledge about projects \\nand courses. \\nGood For Female - GFF \\nAndroid Studio, PHP, Machine learning \\nAn android application which caters to women health and \\nsafety. Winner of the Best Problem Addressed Award on Social \\nWelfare. \\nSmart Farming \\nSensors, Actuators, Arduino, ThingSpeak, MIT Apps \\nA smart farming application which allows remote automation \\nand monitoring of farming activities. Data is sensed and \\npushed to cloud(ThingSpeak), can be controlled using an app. \\nFace Detection and Identification \\nC++, OpenMP, OpenCV \\nA C++ application which detects and recognizes faces from \\ninput image, input video or live streaming video. \\nVoice Automated Cloud with Face Authentication \\nDocker, Speech Recognition, OpenCV \\nCreated own cloud which authorizes user using Face Detection \\nand provides various services (SaaS, PaaS, IaaS) using voice \\ncommands. \\n  \\n',\n",
              " 6: 'Phoebe Buffay \\n \\nPhobe.buffaycat@vit.ac.in \\n8511192673 \\nEducation \\nMontessori School,97% \\nSt. Patrick’s Juinor College Agra, 95% Secondary SchooL \\nDate of birth \\n12 May 1973 \\n \\nLanguages known \\nEnglish, Spanish,French \\n \\nCoursework \\nMachine Learning \\nData Visualization \\nOperating Systems \\nDatabase Management System \\nDiscrete maths \\n \\n \\nSkills \\nC++ \\n \\n \\n \\n \\n \\n \\n \\nJava \\nC \\n \\n \\n \\n \\n \\n \\n \\nRuby on Rails \\nPython  \\n \\n \\n \\n \\n \\n \\nArduino \\nAndroid \\n \\n \\n \\n \\n \\n \\nHTML \\nPHP \\n \\n \\n \\n \\n \\n \\n \\nJavascript \\nMySQL  \\n \\n \\n \\n \\n \\n \\nR studio \\nKeras  \\n \\n \\n \\n \\n \\n \\nNLTK \\nParser  \\n \\n \\n \\n \\n \\n \\nSQL \\nCuda  \\n \\n \\n \\n \\n \\n \\nOpenMP \\nOpenCv \\n \\n \\n \\n \\n \\n \\nCNN \\n \\n \\nExperience \\n\\uf0b7 Android club coordinator \\n\\uf0b7 Front end developer in TechnoVIT website team \\n\\uf0b7 Key entertainer in Friends \\n \\n \\nProjects \\nGood for females \\nAn android application for women and health safety, emergency mode using android \\nmodules, safest route using image processing, disease prediction using SVM and linear \\nregression. \\n \\nFace detection and recognition using openMP \\nOpenCV, openMP, cuda \\n \\nSmart Farming \\nArduino coding, sensors , thingspeak \\n \\nNLP resume parsing \\nMade resume parser based on nltk, spacy and other NLP tools \\n \\nBreast Cancer detection \\nMade a classifier to detect breast cancer using deep learning in keras and tensorflow \\n \\n \\n \\nCo-curricular activities \\nReading novels, painting  \\n \\n \\n \\n \\n'}"
            ]
          },
          "metadata": {},
          "execution_count": 57
        }
      ]
    },
    {
      "cell_type": "markdown",
      "source": [
        "## **Phone Number**"
      ],
      "metadata": {
        "id": "d6_EVrmnCRBt"
      }
    },
    {
      "cell_type": "code",
      "source": [
        "def find_phone(text):\n",
        "  try:\n",
        "    return list(iter(phonenumbers.PhoneNumberMatcher(text, None)))[0].raw_string\n",
        "  except:\n",
        "    return re.search(r'(\\d{3}[-\\.\\s]??\\d{3}[-\\.\\s]??\\d{4}|\\(\\d{3}\\)\\s*\\d{3}[-\\.\\s]??\\d{4}|\\d{3}[-\\.\\s]??\\d{4})', text).group()\n",
        "\n",
        "list2 = []\n",
        "for i in range(0,len(text)):\n",
        "  phone_number= find_phone(text[i])\n",
        "  print(phone_number)\n",
        "  list2.append(phone_number)"
      ],
      "metadata": {
        "colab": {
          "base_uri": "https://localhost:8080/"
        },
        "id": "ZVfGR-RvuTBm",
        "outputId": "b87c388f-3265-4dd7-a610-859af6c8b903"
      },
      "execution_count": null,
      "outputs": [
        {
          "output_type": "stream",
          "name": "stdout",
          "text": [
            "7550171006\n",
            "8511192673\n",
            "+91-98428-48661\n",
            "+91-98428-48661\n",
            "8511192673\n",
            "8511192673\n",
            "8511192673\n"
          ]
        }
      ]
    },
    {
      "cell_type": "code",
      "source": [
        "list2"
      ],
      "metadata": {
        "colab": {
          "base_uri": "https://localhost:8080/"
        },
        "id": "66W6qS3GSb-R",
        "outputId": "73366cd0-d7c9-41a7-d0c0-9b2809d2885d"
      },
      "execution_count": null,
      "outputs": [
        {
          "output_type": "execute_result",
          "data": {
            "text/plain": [
              "['7550171006',\n",
              " '8511192673',\n",
              " '+91-98428-48661',\n",
              " '+91-98428-48661',\n",
              " '8511192673',\n",
              " '8511192673',\n",
              " '8511192673']"
            ]
          },
          "metadata": {},
          "execution_count": 59
        }
      ]
    },
    {
      "cell_type": "code",
      "source": [
        "df['Contact-number']=list2"
      ],
      "metadata": {
        "id": "1j19sdLMTU-L"
      },
      "execution_count": null,
      "outputs": []
    },
    {
      "cell_type": "code",
      "source": [
        "df"
      ],
      "metadata": {
        "colab": {
          "base_uri": "https://localhost:8080/",
          "height": 268
        },
        "id": "7InIuNYSTkc3",
        "outputId": "f0379c3c-5a15-4cb1-fc76-121b6da81e5c"
      },
      "execution_count": null,
      "outputs": [
        {
          "output_type": "execute_result",
          "data": {
            "text/plain": [
              "                                 Email   Contact-number\n",
              "0     aman.sharma2016@vitstudent.ac.in       7550171006\n",
              "1              chandler.bing@vit.ac.in       8511192673\n",
              "2                 19pd09@psgtech.ac.in  +91-98428-48661\n",
              "3            dhikshithaarulkumar@gmail  +91-98428-48661\n",
              "4  VAISHALI.BIJOY2016@vitstudent.ac.in       8511192673\n",
              "5   Meghna.lohani2016@vitstudent.ac.in       8511192673\n",
              "6            Phobe.buffaycat@vit.ac.in       8511192673"
            ],
            "text/html": [
              "\n",
              "  <div id=\"df-fc197825-4f17-43ac-81d2-e18811cef3b7\">\n",
              "    <div class=\"colab-df-container\">\n",
              "      <div>\n",
              "<style scoped>\n",
              "    .dataframe tbody tr th:only-of-type {\n",
              "        vertical-align: middle;\n",
              "    }\n",
              "\n",
              "    .dataframe tbody tr th {\n",
              "        vertical-align: top;\n",
              "    }\n",
              "\n",
              "    .dataframe thead th {\n",
              "        text-align: right;\n",
              "    }\n",
              "</style>\n",
              "<table border=\"1\" class=\"dataframe\">\n",
              "  <thead>\n",
              "    <tr style=\"text-align: right;\">\n",
              "      <th></th>\n",
              "      <th>Email</th>\n",
              "      <th>Contact-number</th>\n",
              "    </tr>\n",
              "  </thead>\n",
              "  <tbody>\n",
              "    <tr>\n",
              "      <th>0</th>\n",
              "      <td>aman.sharma2016@vitstudent.ac.in</td>\n",
              "      <td>7550171006</td>\n",
              "    </tr>\n",
              "    <tr>\n",
              "      <th>1</th>\n",
              "      <td>chandler.bing@vit.ac.in</td>\n",
              "      <td>8511192673</td>\n",
              "    </tr>\n",
              "    <tr>\n",
              "      <th>2</th>\n",
              "      <td>19pd09@psgtech.ac.in</td>\n",
              "      <td>+91-98428-48661</td>\n",
              "    </tr>\n",
              "    <tr>\n",
              "      <th>3</th>\n",
              "      <td>dhikshithaarulkumar@gmail</td>\n",
              "      <td>+91-98428-48661</td>\n",
              "    </tr>\n",
              "    <tr>\n",
              "      <th>4</th>\n",
              "      <td>VAISHALI.BIJOY2016@vitstudent.ac.in</td>\n",
              "      <td>8511192673</td>\n",
              "    </tr>\n",
              "    <tr>\n",
              "      <th>5</th>\n",
              "      <td>Meghna.lohani2016@vitstudent.ac.in</td>\n",
              "      <td>8511192673</td>\n",
              "    </tr>\n",
              "    <tr>\n",
              "      <th>6</th>\n",
              "      <td>Phobe.buffaycat@vit.ac.in</td>\n",
              "      <td>8511192673</td>\n",
              "    </tr>\n",
              "  </tbody>\n",
              "</table>\n",
              "</div>\n",
              "      <button class=\"colab-df-convert\" onclick=\"convertToInteractive('df-fc197825-4f17-43ac-81d2-e18811cef3b7')\"\n",
              "              title=\"Convert this dataframe to an interactive table.\"\n",
              "              style=\"display:none;\">\n",
              "        \n",
              "  <svg xmlns=\"http://www.w3.org/2000/svg\" height=\"24px\"viewBox=\"0 0 24 24\"\n",
              "       width=\"24px\">\n",
              "    <path d=\"M0 0h24v24H0V0z\" fill=\"none\"/>\n",
              "    <path d=\"M18.56 5.44l.94 2.06.94-2.06 2.06-.94-2.06-.94-.94-2.06-.94 2.06-2.06.94zm-11 1L8.5 8.5l.94-2.06 2.06-.94-2.06-.94L8.5 2.5l-.94 2.06-2.06.94zm10 10l.94 2.06.94-2.06 2.06-.94-2.06-.94-.94-2.06-.94 2.06-2.06.94z\"/><path d=\"M17.41 7.96l-1.37-1.37c-.4-.4-.92-.59-1.43-.59-.52 0-1.04.2-1.43.59L10.3 9.45l-7.72 7.72c-.78.78-.78 2.05 0 2.83L4 21.41c.39.39.9.59 1.41.59.51 0 1.02-.2 1.41-.59l7.78-7.78 2.81-2.81c.8-.78.8-2.07 0-2.86zM5.41 20L4 18.59l7.72-7.72 1.47 1.35L5.41 20z\"/>\n",
              "  </svg>\n",
              "      </button>\n",
              "      \n",
              "  <style>\n",
              "    .colab-df-container {\n",
              "      display:flex;\n",
              "      flex-wrap:wrap;\n",
              "      gap: 12px;\n",
              "    }\n",
              "\n",
              "    .colab-df-convert {\n",
              "      background-color: #E8F0FE;\n",
              "      border: none;\n",
              "      border-radius: 50%;\n",
              "      cursor: pointer;\n",
              "      display: none;\n",
              "      fill: #1967D2;\n",
              "      height: 32px;\n",
              "      padding: 0 0 0 0;\n",
              "      width: 32px;\n",
              "    }\n",
              "\n",
              "    .colab-df-convert:hover {\n",
              "      background-color: #E2EBFA;\n",
              "      box-shadow: 0px 1px 2px rgba(60, 64, 67, 0.3), 0px 1px 3px 1px rgba(60, 64, 67, 0.15);\n",
              "      fill: #174EA6;\n",
              "    }\n",
              "\n",
              "    [theme=dark] .colab-df-convert {\n",
              "      background-color: #3B4455;\n",
              "      fill: #D2E3FC;\n",
              "    }\n",
              "\n",
              "    [theme=dark] .colab-df-convert:hover {\n",
              "      background-color: #434B5C;\n",
              "      box-shadow: 0px 1px 3px 1px rgba(0, 0, 0, 0.15);\n",
              "      filter: drop-shadow(0px 1px 2px rgba(0, 0, 0, 0.3));\n",
              "      fill: #FFFFFF;\n",
              "    }\n",
              "  </style>\n",
              "\n",
              "      <script>\n",
              "        const buttonEl =\n",
              "          document.querySelector('#df-fc197825-4f17-43ac-81d2-e18811cef3b7 button.colab-df-convert');\n",
              "        buttonEl.style.display =\n",
              "          google.colab.kernel.accessAllowed ? 'block' : 'none';\n",
              "\n",
              "        async function convertToInteractive(key) {\n",
              "          const element = document.querySelector('#df-fc197825-4f17-43ac-81d2-e18811cef3b7');\n",
              "          const dataTable =\n",
              "            await google.colab.kernel.invokeFunction('convertToInteractive',\n",
              "                                                     [key], {});\n",
              "          if (!dataTable) return;\n",
              "\n",
              "          const docLinkHtml = 'Like what you see? Visit the ' +\n",
              "            '<a target=\"_blank\" href=https://colab.research.google.com/notebooks/data_table.ipynb>data table notebook</a>'\n",
              "            + ' to learn more about interactive tables.';\n",
              "          element.innerHTML = '';\n",
              "          dataTable['output_type'] = 'display_data';\n",
              "          await google.colab.output.renderOutput(dataTable, element);\n",
              "          const docLink = document.createElement('div');\n",
              "          docLink.innerHTML = docLinkHtml;\n",
              "          element.appendChild(docLink);\n",
              "        }\n",
              "      </script>\n",
              "    </div>\n",
              "  </div>\n",
              "  "
            ]
          },
          "metadata": {},
          "execution_count": 61
        }
      ]
    },
    {
      "cell_type": "code",
      "source": [
        "!pip install nlp"
      ],
      "metadata": {
        "execution": {
          "iopub.status.busy": "2022-01-12T06:23:09.85316Z",
          "iopub.execute_input": "2022-01-12T06:23:09.853587Z",
          "iopub.status.idle": "2022-01-12T06:23:18.479908Z",
          "shell.execute_reply.started": "2022-01-12T06:23:09.853556Z",
          "shell.execute_reply": "2022-01-12T06:23:18.478814Z"
        },
        "trusted": true,
        "colab": {
          "base_uri": "https://localhost:8080/"
        },
        "id": "TNSJkQzttD1g",
        "outputId": "fa1ec15e-9342-4461-c2fb-749fc0362b4f"
      },
      "execution_count": null,
      "outputs": [
        {
          "output_type": "stream",
          "name": "stdout",
          "text": [
            "Looking in indexes: https://pypi.org/simple, https://us-python.pkg.dev/colab-wheels/public/simple/\n",
            "Collecting nlp\n",
            "  Downloading nlp-0.4.0-py3-none-any.whl (1.7 MB)\n",
            "\u001b[2K     \u001b[90m━━━━━━━━━━━━━━━━━━━━━━━━━━━━━━━━━━━━━━━━\u001b[0m \u001b[32m1.7/1.7 MB\u001b[0m \u001b[31m54.8 MB/s\u001b[0m eta \u001b[36m0:00:00\u001b[0m\n",
            "\u001b[?25hRequirement already satisfied: tqdm>=4.27 in /usr/local/lib/python3.9/dist-packages (from nlp) (4.65.0)\n",
            "Requirement already satisfied: requests>=2.19.0 in /usr/local/lib/python3.9/dist-packages (from nlp) (2.27.1)\n",
            "Collecting dill\n",
            "  Downloading dill-0.3.6-py3-none-any.whl (110 kB)\n",
            "\u001b[2K     \u001b[90m━━━━━━━━━━━━━━━━━━━━━━━━━━━━━━━━━━━━━━\u001b[0m \u001b[32m110.5/110.5 KB\u001b[0m \u001b[31m14.2 MB/s\u001b[0m eta \u001b[36m0:00:00\u001b[0m\n",
            "\u001b[?25hRequirement already satisfied: pandas in /usr/local/lib/python3.9/dist-packages (from nlp) (1.4.4)\n",
            "Requirement already satisfied: filelock in /usr/local/lib/python3.9/dist-packages (from nlp) (3.10.7)\n",
            "Collecting xxhash\n",
            "  Downloading xxhash-3.2.0-cp39-cp39-manylinux_2_17_x86_64.manylinux2014_x86_64.whl (212 kB)\n",
            "\u001b[2K     \u001b[90m━━━━━━━━━━━━━━━━━━━━━━━━━━━━━━━━━━━━━━\u001b[0m \u001b[32m212.2/212.2 KB\u001b[0m \u001b[31m25.9 MB/s\u001b[0m eta \u001b[36m0:00:00\u001b[0m\n",
            "\u001b[?25hRequirement already satisfied: pyarrow>=0.16.0 in /usr/local/lib/python3.9/dist-packages (from nlp) (9.0.0)\n",
            "Requirement already satisfied: numpy in /usr/local/lib/python3.9/dist-packages (from nlp) (1.22.4)\n",
            "Requirement already satisfied: certifi>=2017.4.17 in /usr/local/lib/python3.9/dist-packages (from requests>=2.19.0->nlp) (2022.12.7)\n",
            "Requirement already satisfied: urllib3<1.27,>=1.21.1 in /usr/local/lib/python3.9/dist-packages (from requests>=2.19.0->nlp) (1.26.15)\n",
            "Requirement already satisfied: idna<4,>=2.5 in /usr/local/lib/python3.9/dist-packages (from requests>=2.19.0->nlp) (3.4)\n",
            "Requirement already satisfied: charset-normalizer~=2.0.0 in /usr/local/lib/python3.9/dist-packages (from requests>=2.19.0->nlp) (2.0.12)\n",
            "Requirement already satisfied: pytz>=2020.1 in /usr/local/lib/python3.9/dist-packages (from pandas->nlp) (2022.7.1)\n",
            "Requirement already satisfied: python-dateutil>=2.8.1 in /usr/local/lib/python3.9/dist-packages (from pandas->nlp) (2.8.2)\n",
            "Requirement already satisfied: six>=1.5 in /usr/local/lib/python3.9/dist-packages (from python-dateutil>=2.8.1->pandas->nlp) (1.16.0)\n",
            "Installing collected packages: xxhash, dill, nlp\n",
            "Successfully installed dill-0.3.6 nlp-0.4.0 xxhash-3.2.0\n"
          ]
        }
      ]
    },
    {
      "cell_type": "markdown",
      "source": [
        "## **Name**"
      ],
      "metadata": {
        "id": "dw2IM8tjCUgP"
      }
    },
    {
      "cell_type": "code",
      "source": [
        "pip install nlp"
      ],
      "metadata": {
        "colab": {
          "base_uri": "https://localhost:8080/"
        },
        "id": "0i_0DSCXmEAl",
        "outputId": "04b93276-4b62-4154-b2bf-436776a9cfa8"
      },
      "execution_count": null,
      "outputs": [
        {
          "output_type": "stream",
          "name": "stdout",
          "text": [
            "Looking in indexes: https://pypi.org/simple, https://us-python.pkg.dev/colab-wheels/public/simple/\n",
            "Requirement already satisfied: nlp in /usr/local/lib/python3.9/dist-packages (0.4.0)\n",
            "Requirement already satisfied: xxhash in /usr/local/lib/python3.9/dist-packages (from nlp) (3.2.0)\n",
            "Requirement already satisfied: dill in /usr/local/lib/python3.9/dist-packages (from nlp) (0.3.6)\n",
            "Requirement already satisfied: tqdm>=4.27 in /usr/local/lib/python3.9/dist-packages (from nlp) (4.65.0)\n",
            "Requirement already satisfied: filelock in /usr/local/lib/python3.9/dist-packages (from nlp) (3.10.7)\n",
            "Requirement already satisfied: numpy in /usr/local/lib/python3.9/dist-packages (from nlp) (1.22.4)\n",
            "Requirement already satisfied: pyarrow>=0.16.0 in /usr/local/lib/python3.9/dist-packages (from nlp) (9.0.0)\n",
            "Requirement already satisfied: pandas in /usr/local/lib/python3.9/dist-packages (from nlp) (1.4.4)\n",
            "Requirement already satisfied: requests>=2.19.0 in /usr/local/lib/python3.9/dist-packages (from nlp) (2.27.1)\n",
            "Requirement already satisfied: idna<4,>=2.5 in /usr/local/lib/python3.9/dist-packages (from requests>=2.19.0->nlp) (3.4)\n",
            "Requirement already satisfied: urllib3<1.27,>=1.21.1 in /usr/local/lib/python3.9/dist-packages (from requests>=2.19.0->nlp) (1.26.15)\n",
            "Requirement already satisfied: charset-normalizer~=2.0.0 in /usr/local/lib/python3.9/dist-packages (from requests>=2.19.0->nlp) (2.0.12)\n",
            "Requirement already satisfied: certifi>=2017.4.17 in /usr/local/lib/python3.9/dist-packages (from requests>=2.19.0->nlp) (2022.12.7)\n",
            "Requirement already satisfied: python-dateutil>=2.8.1 in /usr/local/lib/python3.9/dist-packages (from pandas->nlp) (2.8.2)\n",
            "Requirement already satisfied: pytz>=2020.1 in /usr/local/lib/python3.9/dist-packages (from pandas->nlp) (2022.7.1)\n",
            "Requirement already satisfied: six>=1.5 in /usr/local/lib/python3.9/dist-packages (from python-dateutil>=2.8.1->pandas->nlp) (1.16.0)\n"
          ]
        }
      ]
    },
    {
      "cell_type": "code",
      "source": [
        "#Name\n",
        "import spacy\n",
        "from spacy.matcher import Matcher\n",
        "import nlp\n",
        "\n",
        "# load pre-trained model\n",
        "\n",
        "\n",
        "# initialize matcher with a vocab\n",
        "nlp = spacy.load(\"en_core_web_sm\")\n",
        "matcher = Matcher(nlp.vocab)\n",
        "\n",
        "def extract_name(resume_text):\n",
        "    nlp_text = nlp(resume_text)\n",
        "    # print(nlp_text)\n",
        "\n",
        "    # First name and Last name are always Proper Nouns\n",
        "    pattern = [{'POS': 'PROPN'}]\n",
        "    pattern1 = [{'POS': 'PROPN'},{'POS': 'PROPN'}]\n",
        "\n",
        "    matcher.add('NAME', [pattern1,pattern], on_match = None)\n",
        "\n",
        "    matches = matcher(nlp_text)\n",
        "\n",
        "    for match_id, start, end in matches:\n",
        "        span = nlp_text[start:end]\n",
        "        return span.text\n",
        "\n",
        "\n",
        "list2 = []\n",
        "for i in range(0,len(text)):\n",
        "  if i <=1:\n",
        "    nlp_text = nlp(text[i])\n",
        "    pattern1 = [{'POS': 'PROPN'},{'POS': 'PROPN'}]\n",
        "    matcher.add('NAME', [pattern1], on_match = None)\n",
        "    matches = matcher(nlp_text)\n",
        "    for match_id, start, end in matches:\n",
        "        span = nlp_text[start:end]\n",
        "        print(span.text)\n",
        "        list2.append(span.text)\n",
        "        break\n",
        "  else:\n",
        "    name = extract_name(text[i])\n",
        "    print(name)\n",
        "    list2.append(name)"
      ],
      "metadata": {
        "execution": {
          "iopub.status.busy": "2022-01-12T06:23:18.48177Z",
          "iopub.execute_input": "2022-01-12T06:23:18.482047Z",
          "iopub.status.idle": "2022-01-12T06:23:19.342603Z",
          "shell.execute_reply.started": "2022-01-12T06:23:18.482013Z",
          "shell.execute_reply": "2022-01-12T06:23:19.341623Z"
        },
        "trusted": true,
        "colab": {
          "base_uri": "https://localhost:8080/"
        },
        "id": "yJY8-Fb0tD1g",
        "outputId": "26e77c21-832e-4035-f121-259b8adb3b5b"
      },
      "execution_count": null,
      "outputs": [
        {
          "output_type": "stream",
          "name": "stdout",
          "text": [
            "Aman Sharma\n",
            "Chandler Bing\n",
            "DHIKSHITHA\n",
            "Dhikshitha\n",
            "BIJOY\n",
            "Meghna\n",
            "Phoebe\n"
          ]
        }
      ]
    },
    {
      "cell_type": "code",
      "source": [
        "\n",
        "import spacy\n",
        "from spacy.matcher import Matcher\n",
        "nlp = spacy.load(\"en_core_web_sm\")\n",
        "matcher = Matcher(nlp.vocab)\n",
        "pattern = [{\"LIKE_EMAIL\": True}]\n",
        "matcher.add(\"EMAIL_ADDRESS\", [pattern])\n",
        "doc = nlp(\"This is an email address: wmattingly@aol.com\")\n",
        "matches = matcher(doc)"
      ],
      "metadata": {
        "id": "EQI0rfxSn9iD"
      },
      "execution_count": null,
      "outputs": []
    },
    {
      "cell_type": "code",
      "source": [
        "#Name\n",
        "\n",
        "\n",
        "# load pre-trained model\n",
        "\n",
        "\n",
        "# initialize matcher with a vocab\n",
        "\n",
        "\n",
        "def extract_name1(resume_text):\n",
        "    import spacy\n",
        "    from spacy.matcher import Matcher\n",
        "    nlp_text = nlp(resume_text)\n",
        "    matcher = Matcher(nlp.vocab)\n",
        "    # print(nlp_text)\n",
        "\n",
        "    # First name and Last name are always Proper Nouns\n",
        "    pattern = [{'POS': 'PROPN'}]\n",
        "    pattern1 = [{'POS': 'PROPN'},{'POS': 'PROPN'}]\n",
        "\n",
        "    matcher.add('NAME', [pattern1,pattern], on_match = None)\n",
        "\n",
        "    matches = matcher(nlp_text)\n",
        "\n",
        "    for match_id, start, end in matches:\n",
        "        span = nlp_text[start:end]\n",
        "        return span.text"
      ],
      "metadata": {
        "id": "gORHbsZlYouP"
      },
      "execution_count": null,
      "outputs": []
    },
    {
      "cell_type": "code",
      "source": [
        "df['Name'] = list2"
      ],
      "metadata": {
        "id": "sGWq6-ZXY46D"
      },
      "execution_count": null,
      "outputs": []
    },
    {
      "cell_type": "code",
      "source": [
        "df"
      ],
      "metadata": {
        "colab": {
          "base_uri": "https://localhost:8080/",
          "height": 268
        },
        "id": "ALSx882xY8Pi",
        "outputId": "1b6e08fe-a178-4fba-a4d7-26d945915cce"
      },
      "execution_count": null,
      "outputs": [
        {
          "output_type": "execute_result",
          "data": {
            "text/plain": [
              "                                 Email   Contact-number           Name\n",
              "0     aman.sharma2016@vitstudent.ac.in       7550171006    Aman Sharma\n",
              "1              chandler.bing@vit.ac.in       8511192673  Chandler Bing\n",
              "2                 19pd09@psgtech.ac.in  +91-98428-48661     DHIKSHITHA\n",
              "3            dhikshithaarulkumar@gmail  +91-98428-48661     Dhikshitha\n",
              "4  VAISHALI.BIJOY2016@vitstudent.ac.in       8511192673          BIJOY\n",
              "5   Meghna.lohani2016@vitstudent.ac.in       8511192673         Meghna\n",
              "6            Phobe.buffaycat@vit.ac.in       8511192673         Phoebe"
            ],
            "text/html": [
              "\n",
              "  <div id=\"df-079827cb-edb2-4ef7-a363-27906e786a03\">\n",
              "    <div class=\"colab-df-container\">\n",
              "      <div>\n",
              "<style scoped>\n",
              "    .dataframe tbody tr th:only-of-type {\n",
              "        vertical-align: middle;\n",
              "    }\n",
              "\n",
              "    .dataframe tbody tr th {\n",
              "        vertical-align: top;\n",
              "    }\n",
              "\n",
              "    .dataframe thead th {\n",
              "        text-align: right;\n",
              "    }\n",
              "</style>\n",
              "<table border=\"1\" class=\"dataframe\">\n",
              "  <thead>\n",
              "    <tr style=\"text-align: right;\">\n",
              "      <th></th>\n",
              "      <th>Email</th>\n",
              "      <th>Contact-number</th>\n",
              "      <th>Name</th>\n",
              "    </tr>\n",
              "  </thead>\n",
              "  <tbody>\n",
              "    <tr>\n",
              "      <th>0</th>\n",
              "      <td>aman.sharma2016@vitstudent.ac.in</td>\n",
              "      <td>7550171006</td>\n",
              "      <td>Aman Sharma</td>\n",
              "    </tr>\n",
              "    <tr>\n",
              "      <th>1</th>\n",
              "      <td>chandler.bing@vit.ac.in</td>\n",
              "      <td>8511192673</td>\n",
              "      <td>Chandler Bing</td>\n",
              "    </tr>\n",
              "    <tr>\n",
              "      <th>2</th>\n",
              "      <td>19pd09@psgtech.ac.in</td>\n",
              "      <td>+91-98428-48661</td>\n",
              "      <td>DHIKSHITHA</td>\n",
              "    </tr>\n",
              "    <tr>\n",
              "      <th>3</th>\n",
              "      <td>dhikshithaarulkumar@gmail</td>\n",
              "      <td>+91-98428-48661</td>\n",
              "      <td>Dhikshitha</td>\n",
              "    </tr>\n",
              "    <tr>\n",
              "      <th>4</th>\n",
              "      <td>VAISHALI.BIJOY2016@vitstudent.ac.in</td>\n",
              "      <td>8511192673</td>\n",
              "      <td>BIJOY</td>\n",
              "    </tr>\n",
              "    <tr>\n",
              "      <th>5</th>\n",
              "      <td>Meghna.lohani2016@vitstudent.ac.in</td>\n",
              "      <td>8511192673</td>\n",
              "      <td>Meghna</td>\n",
              "    </tr>\n",
              "    <tr>\n",
              "      <th>6</th>\n",
              "      <td>Phobe.buffaycat@vit.ac.in</td>\n",
              "      <td>8511192673</td>\n",
              "      <td>Phoebe</td>\n",
              "    </tr>\n",
              "  </tbody>\n",
              "</table>\n",
              "</div>\n",
              "      <button class=\"colab-df-convert\" onclick=\"convertToInteractive('df-079827cb-edb2-4ef7-a363-27906e786a03')\"\n",
              "              title=\"Convert this dataframe to an interactive table.\"\n",
              "              style=\"display:none;\">\n",
              "        \n",
              "  <svg xmlns=\"http://www.w3.org/2000/svg\" height=\"24px\"viewBox=\"0 0 24 24\"\n",
              "       width=\"24px\">\n",
              "    <path d=\"M0 0h24v24H0V0z\" fill=\"none\"/>\n",
              "    <path d=\"M18.56 5.44l.94 2.06.94-2.06 2.06-.94-2.06-.94-.94-2.06-.94 2.06-2.06.94zm-11 1L8.5 8.5l.94-2.06 2.06-.94-2.06-.94L8.5 2.5l-.94 2.06-2.06.94zm10 10l.94 2.06.94-2.06 2.06-.94-2.06-.94-.94-2.06-.94 2.06-2.06.94z\"/><path d=\"M17.41 7.96l-1.37-1.37c-.4-.4-.92-.59-1.43-.59-.52 0-1.04.2-1.43.59L10.3 9.45l-7.72 7.72c-.78.78-.78 2.05 0 2.83L4 21.41c.39.39.9.59 1.41.59.51 0 1.02-.2 1.41-.59l7.78-7.78 2.81-2.81c.8-.78.8-2.07 0-2.86zM5.41 20L4 18.59l7.72-7.72 1.47 1.35L5.41 20z\"/>\n",
              "  </svg>\n",
              "      </button>\n",
              "      \n",
              "  <style>\n",
              "    .colab-df-container {\n",
              "      display:flex;\n",
              "      flex-wrap:wrap;\n",
              "      gap: 12px;\n",
              "    }\n",
              "\n",
              "    .colab-df-convert {\n",
              "      background-color: #E8F0FE;\n",
              "      border: none;\n",
              "      border-radius: 50%;\n",
              "      cursor: pointer;\n",
              "      display: none;\n",
              "      fill: #1967D2;\n",
              "      height: 32px;\n",
              "      padding: 0 0 0 0;\n",
              "      width: 32px;\n",
              "    }\n",
              "\n",
              "    .colab-df-convert:hover {\n",
              "      background-color: #E2EBFA;\n",
              "      box-shadow: 0px 1px 2px rgba(60, 64, 67, 0.3), 0px 1px 3px 1px rgba(60, 64, 67, 0.15);\n",
              "      fill: #174EA6;\n",
              "    }\n",
              "\n",
              "    [theme=dark] .colab-df-convert {\n",
              "      background-color: #3B4455;\n",
              "      fill: #D2E3FC;\n",
              "    }\n",
              "\n",
              "    [theme=dark] .colab-df-convert:hover {\n",
              "      background-color: #434B5C;\n",
              "      box-shadow: 0px 1px 3px 1px rgba(0, 0, 0, 0.15);\n",
              "      filter: drop-shadow(0px 1px 2px rgba(0, 0, 0, 0.3));\n",
              "      fill: #FFFFFF;\n",
              "    }\n",
              "  </style>\n",
              "\n",
              "      <script>\n",
              "        const buttonEl =\n",
              "          document.querySelector('#df-079827cb-edb2-4ef7-a363-27906e786a03 button.colab-df-convert');\n",
              "        buttonEl.style.display =\n",
              "          google.colab.kernel.accessAllowed ? 'block' : 'none';\n",
              "\n",
              "        async function convertToInteractive(key) {\n",
              "          const element = document.querySelector('#df-079827cb-edb2-4ef7-a363-27906e786a03');\n",
              "          const dataTable =\n",
              "            await google.colab.kernel.invokeFunction('convertToInteractive',\n",
              "                                                     [key], {});\n",
              "          if (!dataTable) return;\n",
              "\n",
              "          const docLinkHtml = 'Like what you see? Visit the ' +\n",
              "            '<a target=\"_blank\" href=https://colab.research.google.com/notebooks/data_table.ipynb>data table notebook</a>'\n",
              "            + ' to learn more about interactive tables.';\n",
              "          element.innerHTML = '';\n",
              "          dataTable['output_type'] = 'display_data';\n",
              "          await google.colab.output.renderOutput(dataTable, element);\n",
              "          const docLink = document.createElement('div');\n",
              "          docLink.innerHTML = docLinkHtml;\n",
              "          element.appendChild(docLink);\n",
              "        }\n",
              "      </script>\n",
              "    </div>\n",
              "  </div>\n",
              "  "
            ]
          },
          "metadata": {},
          "execution_count": 78
        }
      ]
    },
    {
      "cell_type": "markdown",
      "source": [
        "## **Skills**"
      ],
      "metadata": {
        "id": "8z7Y3VwHCgnY"
      }
    },
    {
      "cell_type": "code",
      "source": [
        "\n",
        "import spacy\n",
        "\n",
        "# load pre-trained model\n",
        "nlp = spacy.load('en_core_web_sm')\n",
        "\n",
        "\n",
        "def extract_skills(resume_text):\n",
        "    nlp_text = nlp(resume_text)\n",
        "\n",
        "    # removing stop words and implementing word tokenization\n",
        "    tokens = [token.text for token in nlp_text if not token.is_stop]\n",
        "\n",
        "    skills = [\"machine learning\",\n",
        "             \"deep learning\",\n",
        "             \"nlp\",\n",
        "             \"natural language processing\",\n",
        "             \"mysql\",\n",
        "             \"sql\",\n",
        "             \"django\",\n",
        "             \"computer vision\",\n",
        "              \"tensorflow\",\n",
        "             \"opencv\",\n",
        "             \"mongodb\",\n",
        "             \"artificial intelligence\",\n",
        "             \"ai\",\n",
        "             \"flask\",\n",
        "             \"robotics\",\n",
        "             \"data structures\",\n",
        "             \"python\",\n",
        "             \"c++\",\n",
        "             \"matlab\",\n",
        "             \"css\",\n",
        "             \"html\",\n",
        "             \"github\",\n",
        "             \"php\"]\n",
        "\n",
        "    skillset = []\n",
        "\n",
        "    # check for one-grams (example: python)\n",
        "    for token in tokens:\n",
        "        if token.lower() in skills:\n",
        "            skillset.append(token)\n",
        "\n",
        "    # check for bi-grams and tri-grams (example: machine learning)\n",
        "    for token in nlp_text.noun_chunks:\n",
        "        token = token.text.lower().strip()\n",
        "        if token in skills:\n",
        "            skillset.append(token)\n",
        "\n",
        "    return [i.capitalize() for i in set([i.lower() for i in skillset])]\n",
        "\n",
        "skills = []\n",
        "\n",
        "for i in range(0,len(text)):\n",
        "  skills.append(extract_skills(text[i]))\n",
        "skills"
      ],
      "metadata": {
        "execution": {
          "iopub.status.busy": "2022-01-12T06:23:19.346324Z",
          "iopub.execute_input": "2022-01-12T06:23:19.346679Z",
          "iopub.status.idle": "2022-01-12T06:23:20.203466Z",
          "shell.execute_reply.started": "2022-01-12T06:23:19.346614Z",
          "shell.execute_reply": "2022-01-12T06:23:20.202533Z"
        },
        "trusted": true,
        "colab": {
          "base_uri": "https://localhost:8080/"
        },
        "id": "omdISaEGtD1h",
        "outputId": "c60d144a-4335-4ac1-8c2c-412065c99ea9"
      },
      "execution_count": null,
      "outputs": [
        {
          "output_type": "execute_result",
          "data": {
            "text/plain": [
              "[['Sql', 'Python', 'Php', 'C++', 'Html', 'Data structures'],\n",
              " ['Sql', 'Python', 'Nlp', 'Php', 'C++', 'Opencv', 'Html', 'Mysql'],\n",
              " ['Sql',\n",
              "  'Python',\n",
              "  'Php',\n",
              "  'C++',\n",
              "  'Natural language processing',\n",
              "  'Css',\n",
              "  'Github',\n",
              "  'Html',\n",
              "  'Mysql'],\n",
              " ['Sql', 'Python', 'Php', 'C++', 'Natural language processing', 'Mysql'],\n",
              " ['Python', 'Php', 'C++', 'Opencv', 'Html', 'Mysql'],\n",
              " ['Sql',\n",
              "  'Python',\n",
              "  'Php',\n",
              "  'C++',\n",
              "  'Opencv',\n",
              "  'Html',\n",
              "  'Machine learning',\n",
              "  'Mysql',\n",
              "  'Data structures'],\n",
              " ['Sql',\n",
              "  'Tensorflow',\n",
              "  'Python',\n",
              "  'Nlp',\n",
              "  'Php',\n",
              "  'Deep learning',\n",
              "  'C++',\n",
              "  'Opencv',\n",
              "  'Html',\n",
              "  'Mysql']]"
            ]
          },
          "metadata": {},
          "execution_count": 79
        }
      ]
    },
    {
      "cell_type": "code",
      "source": [
        "df['Skills'] = skills\n",
        "df"
      ],
      "metadata": {
        "colab": {
          "base_uri": "https://localhost:8080/",
          "height": 268
        },
        "id": "R5MjqggaYuqz",
        "outputId": "44c81de9-4b35-490f-a933-43daefb887ee"
      },
      "execution_count": null,
      "outputs": [
        {
          "output_type": "execute_result",
          "data": {
            "text/plain": [
              "                                 Email   Contact-number           Name  \\\n",
              "0     aman.sharma2016@vitstudent.ac.in       7550171006    Aman Sharma   \n",
              "1              chandler.bing@vit.ac.in       8511192673  Chandler Bing   \n",
              "2                 19pd09@psgtech.ac.in  +91-98428-48661     DHIKSHITHA   \n",
              "3            dhikshithaarulkumar@gmail  +91-98428-48661     Dhikshitha   \n",
              "4  VAISHALI.BIJOY2016@vitstudent.ac.in       8511192673          BIJOY   \n",
              "5   Meghna.lohani2016@vitstudent.ac.in       8511192673         Meghna   \n",
              "6            Phobe.buffaycat@vit.ac.in       8511192673         Phoebe   \n",
              "\n",
              "                                              Skills  \n",
              "0     [Sql, Python, Php, C++, Html, Data structures]  \n",
              "1  [Sql, Python, Nlp, Php, C++, Opencv, Html, Mysql]  \n",
              "2  [Sql, Python, Php, C++, Natural language proce...  \n",
              "3  [Sql, Python, Php, C++, Natural language proce...  \n",
              "4            [Python, Php, C++, Opencv, Html, Mysql]  \n",
              "5  [Sql, Python, Php, C++, Opencv, Html, Machine ...  \n",
              "6  [Sql, Tensorflow, Python, Nlp, Php, Deep learn...  "
            ],
            "text/html": [
              "\n",
              "  <div id=\"df-8c77199d-791d-4a21-98f4-8379df129629\">\n",
              "    <div class=\"colab-df-container\">\n",
              "      <div>\n",
              "<style scoped>\n",
              "    .dataframe tbody tr th:only-of-type {\n",
              "        vertical-align: middle;\n",
              "    }\n",
              "\n",
              "    .dataframe tbody tr th {\n",
              "        vertical-align: top;\n",
              "    }\n",
              "\n",
              "    .dataframe thead th {\n",
              "        text-align: right;\n",
              "    }\n",
              "</style>\n",
              "<table border=\"1\" class=\"dataframe\">\n",
              "  <thead>\n",
              "    <tr style=\"text-align: right;\">\n",
              "      <th></th>\n",
              "      <th>Email</th>\n",
              "      <th>Contact-number</th>\n",
              "      <th>Name</th>\n",
              "      <th>Skills</th>\n",
              "    </tr>\n",
              "  </thead>\n",
              "  <tbody>\n",
              "    <tr>\n",
              "      <th>0</th>\n",
              "      <td>aman.sharma2016@vitstudent.ac.in</td>\n",
              "      <td>7550171006</td>\n",
              "      <td>Aman Sharma</td>\n",
              "      <td>[Sql, Python, Php, C++, Html, Data structures]</td>\n",
              "    </tr>\n",
              "    <tr>\n",
              "      <th>1</th>\n",
              "      <td>chandler.bing@vit.ac.in</td>\n",
              "      <td>8511192673</td>\n",
              "      <td>Chandler Bing</td>\n",
              "      <td>[Sql, Python, Nlp, Php, C++, Opencv, Html, Mysql]</td>\n",
              "    </tr>\n",
              "    <tr>\n",
              "      <th>2</th>\n",
              "      <td>19pd09@psgtech.ac.in</td>\n",
              "      <td>+91-98428-48661</td>\n",
              "      <td>DHIKSHITHA</td>\n",
              "      <td>[Sql, Python, Php, C++, Natural language proce...</td>\n",
              "    </tr>\n",
              "    <tr>\n",
              "      <th>3</th>\n",
              "      <td>dhikshithaarulkumar@gmail</td>\n",
              "      <td>+91-98428-48661</td>\n",
              "      <td>Dhikshitha</td>\n",
              "      <td>[Sql, Python, Php, C++, Natural language proce...</td>\n",
              "    </tr>\n",
              "    <tr>\n",
              "      <th>4</th>\n",
              "      <td>VAISHALI.BIJOY2016@vitstudent.ac.in</td>\n",
              "      <td>8511192673</td>\n",
              "      <td>BIJOY</td>\n",
              "      <td>[Python, Php, C++, Opencv, Html, Mysql]</td>\n",
              "    </tr>\n",
              "    <tr>\n",
              "      <th>5</th>\n",
              "      <td>Meghna.lohani2016@vitstudent.ac.in</td>\n",
              "      <td>8511192673</td>\n",
              "      <td>Meghna</td>\n",
              "      <td>[Sql, Python, Php, C++, Opencv, Html, Machine ...</td>\n",
              "    </tr>\n",
              "    <tr>\n",
              "      <th>6</th>\n",
              "      <td>Phobe.buffaycat@vit.ac.in</td>\n",
              "      <td>8511192673</td>\n",
              "      <td>Phoebe</td>\n",
              "      <td>[Sql, Tensorflow, Python, Nlp, Php, Deep learn...</td>\n",
              "    </tr>\n",
              "  </tbody>\n",
              "</table>\n",
              "</div>\n",
              "      <button class=\"colab-df-convert\" onclick=\"convertToInteractive('df-8c77199d-791d-4a21-98f4-8379df129629')\"\n",
              "              title=\"Convert this dataframe to an interactive table.\"\n",
              "              style=\"display:none;\">\n",
              "        \n",
              "  <svg xmlns=\"http://www.w3.org/2000/svg\" height=\"24px\"viewBox=\"0 0 24 24\"\n",
              "       width=\"24px\">\n",
              "    <path d=\"M0 0h24v24H0V0z\" fill=\"none\"/>\n",
              "    <path d=\"M18.56 5.44l.94 2.06.94-2.06 2.06-.94-2.06-.94-.94-2.06-.94 2.06-2.06.94zm-11 1L8.5 8.5l.94-2.06 2.06-.94-2.06-.94L8.5 2.5l-.94 2.06-2.06.94zm10 10l.94 2.06.94-2.06 2.06-.94-2.06-.94-.94-2.06-.94 2.06-2.06.94z\"/><path d=\"M17.41 7.96l-1.37-1.37c-.4-.4-.92-.59-1.43-.59-.52 0-1.04.2-1.43.59L10.3 9.45l-7.72 7.72c-.78.78-.78 2.05 0 2.83L4 21.41c.39.39.9.59 1.41.59.51 0 1.02-.2 1.41-.59l7.78-7.78 2.81-2.81c.8-.78.8-2.07 0-2.86zM5.41 20L4 18.59l7.72-7.72 1.47 1.35L5.41 20z\"/>\n",
              "  </svg>\n",
              "      </button>\n",
              "      \n",
              "  <style>\n",
              "    .colab-df-container {\n",
              "      display:flex;\n",
              "      flex-wrap:wrap;\n",
              "      gap: 12px;\n",
              "    }\n",
              "\n",
              "    .colab-df-convert {\n",
              "      background-color: #E8F0FE;\n",
              "      border: none;\n",
              "      border-radius: 50%;\n",
              "      cursor: pointer;\n",
              "      display: none;\n",
              "      fill: #1967D2;\n",
              "      height: 32px;\n",
              "      padding: 0 0 0 0;\n",
              "      width: 32px;\n",
              "    }\n",
              "\n",
              "    .colab-df-convert:hover {\n",
              "      background-color: #E2EBFA;\n",
              "      box-shadow: 0px 1px 2px rgba(60, 64, 67, 0.3), 0px 1px 3px 1px rgba(60, 64, 67, 0.15);\n",
              "      fill: #174EA6;\n",
              "    }\n",
              "\n",
              "    [theme=dark] .colab-df-convert {\n",
              "      background-color: #3B4455;\n",
              "      fill: #D2E3FC;\n",
              "    }\n",
              "\n",
              "    [theme=dark] .colab-df-convert:hover {\n",
              "      background-color: #434B5C;\n",
              "      box-shadow: 0px 1px 3px 1px rgba(0, 0, 0, 0.15);\n",
              "      filter: drop-shadow(0px 1px 2px rgba(0, 0, 0, 0.3));\n",
              "      fill: #FFFFFF;\n",
              "    }\n",
              "  </style>\n",
              "\n",
              "      <script>\n",
              "        const buttonEl =\n",
              "          document.querySelector('#df-8c77199d-791d-4a21-98f4-8379df129629 button.colab-df-convert');\n",
              "        buttonEl.style.display =\n",
              "          google.colab.kernel.accessAllowed ? 'block' : 'none';\n",
              "\n",
              "        async function convertToInteractive(key) {\n",
              "          const element = document.querySelector('#df-8c77199d-791d-4a21-98f4-8379df129629');\n",
              "          const dataTable =\n",
              "            await google.colab.kernel.invokeFunction('convertToInteractive',\n",
              "                                                     [key], {});\n",
              "          if (!dataTable) return;\n",
              "\n",
              "          const docLinkHtml = 'Like what you see? Visit the ' +\n",
              "            '<a target=\"_blank\" href=https://colab.research.google.com/notebooks/data_table.ipynb>data table notebook</a>'\n",
              "            + ' to learn more about interactive tables.';\n",
              "          element.innerHTML = '';\n",
              "          dataTable['output_type'] = 'display_data';\n",
              "          await google.colab.output.renderOutput(dataTable, element);\n",
              "          const docLink = document.createElement('div');\n",
              "          docLink.innerHTML = docLinkHtml;\n",
              "          element.appendChild(docLink);\n",
              "        }\n",
              "      </script>\n",
              "    </div>\n",
              "  </div>\n",
              "  "
            ]
          },
          "metadata": {},
          "execution_count": 80
        }
      ]
    },
    {
      "cell_type": "code",
      "source": [
        "text"
      ],
      "metadata": {
        "colab": {
          "base_uri": "https://localhost:8080/"
        },
        "id": "TSnJq51Ow0ve",
        "outputId": "d561c28f-6ca8-4c6c-8a5a-f8a9ec0047f0"
      },
      "execution_count": null,
      "outputs": [
        {
          "output_type": "execute_result",
          "data": {
            "text/plain": [
              "{0: 'Aman Sharma \\nCampus Address                         aman.sharma2016@vitstudent.ac.in \\nPermanent Address \\nMHA, VIT Chennai \\nCell-7550171006 \\n6/E, Street-27, \\nChennai, \\nSector-1, Bhilai, \\nTamil Nadu  \\nChhattisgarh \\n \\n \\n \\n \\nOBJECTIVE  \\nSeeking to leverage my technical knowledge to grow in your company. \\n \\nEDUCATION \\nVellore Institute of Technology, Chennai (T.N.) \\n \\nBachelor of Computing Science and Engineering \\n \\nCGPA: 9.27/10.0 (Till III semester), to be awarded May 2020 \\n \\n \\n \\nSenior Secondary School, Sector-10, Bhilai (C.G) \\n \\nHSC (Class XII), CBSE \\n \\nPercentage: 86.80, awarded May 2015 \\n \\n \\nSenior Secondary School, Sector-10, Bhilai(C.G.) \\n \\nSSC (Class XII), CBSE \\n \\nCGPA: 10/10, awarded May 2013 \\n \\nDATE OF BIRTH \\n10-October-1997 \\n \\nLANGUAGES \\nHindi and English \\nKNOWN \\n \\nCOURSEWORK \\nObject Oriented Programming               Digital Logic and design \\n \\nDatabase Management Systems \\nSoftware Engineering \\n \\nData Structures and Algorithms \\nComputer Architecture \\n \\nDiscrete Mathematics \\nStatistics for Engineer \\n \\nCOMPUTER \\nLanguages: \\nPython, C, C++, R (Beginner) \\nSKILLS \\n \\n \\nSkills:   \\nHTML, PHP, JavaScript, SQL, Data Structures \\n, \\n \\n \\nEXPERIENCE \\nDeveloper at VIT Vibrance Website Team \\n \\n \\nParticipated in Web Hackathon conducted by Mozilla \\n \\n \\n \\nResearch Area: Clustering (Categorical Data) \\n \\n \\n \\nPresented paper at ICMCE 2017 held at VIT Chennai \\n \\n(A Novel Dynamic Match Scheduling Algorithm for Equitable Queue Generation) \\n \\n(Co-authored by 2 more) \\n \\n \\nQualified Regional Mathematics Olympiad from Chhattisgarh State (2013) \\n \\n \\nACTIVITIES \\nNovel Reading, Wandering in Political spheres. \\n',\n",
              " 1: 'Chandler Bing \\nchandler.bing@vit.ac.in \\n8511192673 \\nEducation \\nSt. Patrick’s Junior College Agra, 97% , High School \\nSt. Patrick’s Juinor College Agra, 95% Secondary SchooL \\nDate of birth \\n12 May 1998 \\n \\nLanguages known \\nHindi, English, Spanish \\n \\nCoursework \\nMachine Learning \\nData Visualization \\nOperating Systems \\nDatabase Management System \\nDiscrete maths \\n \\n \\nSkills \\nC++ \\n \\n \\n \\n \\n \\n \\n \\nJava \\nPython  \\n \\n \\n \\n \\n \\n \\nArduino \\nAndroid \\n \\n \\n \\n \\n \\n \\nHTML \\nPHP \\n \\n \\n \\n \\n \\n \\n \\nJavascript \\nMySQL  \\n \\n \\n \\n \\n \\n \\nR studio \\nKeras  \\n \\n \\n \\n \\n \\n \\nNLTK \\nParser  \\n \\n \\n \\n \\n \\n \\nSQL \\n \\n \\nExperience \\n\\uf0b7 Android club coordinator \\n\\uf0b7 Front end developer in TechnoVIT website team \\n\\uf0b7 Key entertainer in Friends \\n \\n \\nProjects \\nGood for females \\nAn android application for women and health safety, emergency mode using android \\nmodules, safest route using image processing, disease prediction using SVM and linear \\nregression. \\n \\nFace detection and recognition using openMP \\nOpenCV, openMP, cuda \\n \\nSmart Farming \\nArduino coding, sensors , thingspeak \\n \\nNLP resume parsing \\nMade resume parser based on nltk, spacy and other NLP tools \\n \\n \\n \\nCo-curricular activities \\nReading novels, painting  \\n \\n \\n \\n',\n",
              " 2: \"DHIKSHITHA A\\n19PD09\\nGender\\nDate of Birth\\nLanguages known\\nEmail\\nMobile\\nLinkedin\\nGithub\\nFemale\\n29th April 2001\\nEnglish, Tamil, French\\n19pd09@psgtech.ac.in\\n+91-98428-48661\\nlinkedin.com/in/dhikshitha29\\ngithub.com/dhikshitha29\\nAddress\\nB3, 3rdFloor Orchid Grande Apartment, 277,\\nDr. Radhakrishnan Road, Tatabad, Coimbatore-12.\\nOBJECTIVE\\nTo obtain a position as a student intern from May 2022 to November 2022 to\\ngain experience and leverage my skills.\\nACADEMIC QUALIFICATION\\nCurrently pursuing 3rd year of 5-year Integrated M.Sc. Data Science at the\\nDepartment of Applied Mathematics and Computational Sciences at PSG College of\\nTechnology.\\nSKILL SET\\nLanguages\\nC++, C, Python\\n Back-End\\nSQL, PHP, Node\\nFront-End\\nHTML, CSS, JavaScript\\n Platform\\nWindows\\n Tools\\nCode Blocks, Tableau, Spyder, MySQL, Excel, VS code\\nAREAS OF INTEREST\\n● Web Development\\n● Data Visualization\\n●\\nDatabase Management System\\n●\\nSupervised and Unsupervised Learning\\nACADEMIC RECORD\\n● M.Sc. Data Science\\nPSG College of Technology, Coimbatore\\n2019-2024\\n8.72 CGPA\\n● XII (Higher secondary, State board)\\nGD Matriculation Higher Secondary School,\\nCoimbatore\\n2019\\n91.33 %\\n● X (SSLC, State board)\\nGD Matriculation Higher Secondary School,\\nCoimbatore\\n2017\\n97 %\\nNON-ACADEMIC PROJECTS\\n● Youthference is a project built using PHP, SQL and Bootstrap for layout. It's a CRUD\\napplication that allows users to register for an event and store the details in phpMyAdmin\\nprovided by XAMPP.\\n● Cinester, developed in Python, uses the Valence Aware Dictionary model for Sentiment\\nReasoning. VADER from the Natural Language ToolKit helps to classify reviews by\\nsumming up the intensity or the sentiment scores of each word in the text. It also uses\\nTfidfVectorizer which provides a better accuracy than VADER.\\nACADEMIC PROJECTS\\n● Expedia, developed in C++, maintains the records of reserved hotel rooms, payment\\ndetails, details of customers, managing inventory and menu provided in the hotel by\\nemploying the UML concepts.\\n● Musify, built in Python, classifies songs into different genres. GTZAN is an audio dataset\\nand preprocessing has been done to convert the dataset to a csv file. To find the best\\nmodel, several supervised machine learning algorithms have been used including Naive\\nBayes, Decision Trees, Logistic Regression, SVM, KNN, Random Forest and Catboost.\\n● Movflix, developed using Python, provides a level of comfort and personalization that\\nhelps the user to interact better with the system and watch movies that cater to the\\nuser’s needs. It filters the list of movies using three types of recommender systems\\nnamely Demographic, Content-based and Collaborative.\\n● ChatCord is a web-based chat application developed using Javascript. It uses node.js\\nwith the following framework: express.js and socket.io. It allows bidirectional\\ncommunication between multiple clients in a room.\\nEXTRA-CURRICULAR ACTIVITIES AND ACHIEVEMENTS\\n● Completed a course in Udemy on Natural Language Processing with Python.\\n● Completed a course in Coursera on Introduction to Data Science in Python.\\n● Completed a course in Udemy on Modern PHP Web Development w/MySql.\\n● Participated in Code Kaze 21 and secured 2089th rank.\\n● State, District and Zonal level badminton player during school tenure.\\n● Was a part of the torch relay for 7 consecutive years.\\n● Won a few competitions in drawing and was Captain at school.\\nDECLARATION\\nI, Dhikshitha A, do hereby confirm that the information given above is true to\\nthe best of my knowledge.\\nPlace: Coimbatore\\nDate : 12/01/2021 \\n(Dhikshitha A)  \\n\",\n",
              " 3: \"Dhikshitha A\\nB3, 3rdFloor Orchid Grande\\nApartment, 277,\\nDr. Radhakrishnan Road,\\nTatabad, Coimbatore-12.\\nSKILLS\\nProgramming Languages :\\n C++, C, Python, SQL, PHP,\\nJavaScript\\nTools : Code Blocks, Tableau,\\nSpyder, MySQL, VS code, Excel\\n+91-98428-48661\\nAREAS OF INTEREST\\nSupervised and\\nUnsupervised Learning\\nDatabase Management\\nSystem\\nData Visualization\\nWeb Development\\nLANGUAGES KNOWN\\nEnglish\\nTamil\\nPROJECTS\\nMusify, built in Python, classifies songs into different\\ngenres. GTZAN is an audio dataset and preprocessing has\\nbeen done to convert the dataset to a csv file. To find the\\nbest model, several supervised machine learning algorithms\\nhave been used including Naive Bayes, Decision Trees,\\nLogistic Regression, SVM, KNN, Random Forest and\\nCatboost.\\nMovflix, developed using Python, provides a level of\\ncomfort and personalization that helps the user to interact\\nbetter with the system and watch movies that cater to\\nuser’s needs. It filters the list of movies using three types of\\nrecommender systems namely Demographic, Content-\\nbased and Collaborative.\\nExpedia, developed in C++, maintains the records of\\nreserved hotel rooms, payment details, details of customers,\\nmanaging inventory and menu provided in the hotel by\\nemploying the UML concepts.\\nYouthference is a project built using PHP, SQL and\\nBootstrap for layout. It's a CRUD application that allows\\nusers to register for an event and store the details in\\nphpMyAdmin provided by XAMPP.\\nCinester, developed in Python, uses the VADER model from\\nNLTK helps to classify reviews by summing up the intensity\\nor the sentiment scores of each word in the text. It also\\nuses TfidfVectorizer which provides better accuracy than\\nVADER.\\nEXTRA-CURRICULAR ACTIVITIES\\nCompleted a course in Natural Language Processing with\\nPython.\\nCompleted a course on Introduction to Data Science in Python.\\nParticipated in events conducted by the Nature club.\\nParticipated in Code Kaze'21 and secured 2089th rank.\\nState, District and Zonal level badminton player during school\\ntenure.\\n29th April 2001\\nEDUCATION\\nM.Sc. Data Science (4th Year)    8.78\\n PSG College of Technology,      2019-24  \\nCoimbatore\\nXII (HSC, State Board)                 91.3%\\n GD Matriculation Higher             2019\\nSecondary School, \\nCoimbatore\\nX (SSLC, State Board)                 97%\\n GD Matriculation Higher             2017\\nSecondary School, \\nCoimbatore\\nWORK EXPERIENCE\\nJPMorgan Chase & Co.                               \\nWorked in the Debt Capital Markets team, with exposure on\\nboth the Financial and Corpo rate side. Working on end-to-\\nend pitches, capital structure analysis, identification of\\nsecondary trends, fair-value analysis and bond pricing. Apart\\nfrom extensive understanding and analysis of capital\\nstructures, also suggested efficient ways of raising debt.\\nJune - December 2022\\nJunior Analyst Intern\\ndhikshithaarulkumar@gmail\\n.com\\n\",\n",
              " 4: 'VAISHALI BIJOY \\nVAISHALI.BIJOY2016@vitstudent.ac.in \\n8511192673 \\nEducation \\nSt. Patrick’s Junior College Agra, 97% , High School \\nSt. Patrick’s Juinor College Agra, 95% Secondary SchooL \\nDate of birth \\n12 May 1998 \\n \\nLanguages known \\nHindi, English, Spanish \\n \\nCoursework \\nMachine Learning \\nData Visualization \\nData structures and algorithms  \\nStatistics \\nOperating Systems \\nDatabase Management System \\nDiscrete maths \\n \\n \\nSkills \\nC++ \\n \\n \\n \\n \\n \\n \\n \\nJava \\nPython  \\n \\n \\n \\n \\n \\n \\nArduino \\nAndroid \\n \\n \\n \\n \\n \\n \\n               HTML \\nPHP \\n \\n \\n \\n \\n \\n \\n \\nJavascript \\nMySQL  \\n \\n \\n \\n \\n \\n \\nR studio \\n \\n \\nExperience \\n• Android club coordinator \\n• Front end developer in TechnoVIT website team \\n• Online event coordinator in TechnoVIT \\n \\n \\nProjects \\nGood for females \\nAn android application for women and health safety, emergency mode using android \\nmodules, safest route using image processing, disease prediction using SVM and linear \\nregression. \\n \\nFace detection and recognition using openMP \\nOpenCV, openMP, cuda \\n \\nSmart Farming \\nArduino coding, sensors , thingspeak \\n \\n \\n \\nCo-curricular activities \\nReading novels, painting  \\n \\n \\n \\n',\n",
              " 5: ' \\n \\n \\n \\n \\nMeghna Lohani \\nCampus Address \\nMeghna.lohani2016@vitstudent.ac.in \\nPermanent Address \\nLHA, VIT Chennai \\nCell-8511192673 \\nF-203, Shangri La  \\nChennai, \\nApartments \\nTamil Nadu \\nVadodara \\n  \\n \\n \\n \\nOBJECTIVE \\nTo apply my technical skills for the growth of the company \\nEDUCATION \\nVellore Institute of Technology, Chennai (T.N.) \\n \\nBachelor of Computing Science and Engineering \\n \\nCGPA: 9.24/10.0 (Till V semester), to be awarded May 2020 \\n \\nSt. Patrick’s Junior College, Agra \\n \\nHSC (Class XII), ICSE \\n \\n \\nPercentage: 97, awarded May 2015 \\n \\n \\nSt. Patrick’s Junior College, Agra \\n \\nSSC (Class X), ICSE \\n \\n \\nPercentage:95 awarded May 2013 \\n \\nDATE OF BIRTH \\n12-May-1998 \\n \\nLANGUAGES \\nHindi and English \\n \\nKNOWN \\n \\n \\n \\nCOURSEWORK \\nObject Oriented Programming \\nDigital Logic and design \\n \\nDatabase Management Systems \\nSoftware Engineering \\n \\nData Structures and Algorithms \\nComputer Architecture \\n \\nDiscrete Mathematics \\nMachine Learning \\nStatistics for Engineer \\nCOMPUTER \\nLanguages: \\nPython, C, C++, R (Beginner), Java \\nSKILLS \\n \\n \\n \\n \\nSkills: \\nHTML, PHP, JavaScript, SQL, Data Structures, Data \\nScience, Machine learning,Android \\n, \\n \\n \\n \\nEXPERIENCE \\nDeveloper at VIT Technovit Website Team \\n \\nWon two hackathons \\n \\nCo-ordinator of the android club \\n \\n \\n \\n \\nACTIVITIES \\nDrawing, Painting, Playing Chess \\n \\n \\n \\nProjects  \\n \\nCampus Commune \\nJava Netbeans IDE, MySQL, JDBC \\nAn application which provides a platform for students from \\nvarious colleges to interact, share knowledge about projects \\nand courses. \\nGood For Female - GFF \\nAndroid Studio, PHP, Machine learning \\nAn android application which caters to women health and \\nsafety. Winner of the Best Problem Addressed Award on Social \\nWelfare. \\nSmart Farming \\nSensors, Actuators, Arduino, ThingSpeak, MIT Apps \\nA smart farming application which allows remote automation \\nand monitoring of farming activities. Data is sensed and \\npushed to cloud(ThingSpeak), can be controlled using an app. \\nFace Detection and Identification \\nC++, OpenMP, OpenCV \\nA C++ application which detects and recognizes faces from \\ninput image, input video or live streaming video. \\nVoice Automated Cloud with Face Authentication \\nDocker, Speech Recognition, OpenCV \\nCreated own cloud which authorizes user using Face Detection \\nand provides various services (SaaS, PaaS, IaaS) using voice \\ncommands. \\n  \\n',\n",
              " 6: 'Phoebe Buffay \\n \\nPhobe.buffaycat@vit.ac.in \\n8511192673 \\nEducation \\nMontessori School,97% \\nSt. Patrick’s Juinor College Agra, 95% Secondary SchooL \\nDate of birth \\n12 May 1973 \\n \\nLanguages known \\nEnglish, Spanish,French \\n \\nCoursework \\nMachine Learning \\nData Visualization \\nOperating Systems \\nDatabase Management System \\nDiscrete maths \\n \\n \\nSkills \\nC++ \\n \\n \\n \\n \\n \\n \\n \\nJava \\nC \\n \\n \\n \\n \\n \\n \\n \\nRuby on Rails \\nPython  \\n \\n \\n \\n \\n \\n \\nArduino \\nAndroid \\n \\n \\n \\n \\n \\n \\nHTML \\nPHP \\n \\n \\n \\n \\n \\n \\n \\nJavascript \\nMySQL  \\n \\n \\n \\n \\n \\n \\nR studio \\nKeras  \\n \\n \\n \\n \\n \\n \\nNLTK \\nParser  \\n \\n \\n \\n \\n \\n \\nSQL \\nCuda  \\n \\n \\n \\n \\n \\n \\nOpenMP \\nOpenCv \\n \\n \\n \\n \\n \\n \\nCNN \\n \\n \\nExperience \\n\\uf0b7 Android club coordinator \\n\\uf0b7 Front end developer in TechnoVIT website team \\n\\uf0b7 Key entertainer in Friends \\n \\n \\nProjects \\nGood for females \\nAn android application for women and health safety, emergency mode using android \\nmodules, safest route using image processing, disease prediction using SVM and linear \\nregression. \\n \\nFace detection and recognition using openMP \\nOpenCV, openMP, cuda \\n \\nSmart Farming \\nArduino coding, sensors , thingspeak \\n \\nNLP resume parsing \\nMade resume parser based on nltk, spacy and other NLP tools \\n \\nBreast Cancer detection \\nMade a classifier to detect breast cancer using deep learning in keras and tensorflow \\n \\n \\n \\nCo-curricular activities \\nReading novels, painting  \\n \\n \\n \\n \\n'}"
            ]
          },
          "metadata": {},
          "execution_count": 81
        }
      ]
    },
    {
      "cell_type": "markdown",
      "source": [
        "## **Qualification**"
      ],
      "metadata": {
        "id": "gkbJkWX-ClUm"
      }
    },
    {
      "cell_type": "code",
      "source": [
        "import re\n",
        "import spacy\n",
        "from nltk.corpus import stopwords\n",
        "\n",
        "# load pre-trained model\n",
        "nlp = spacy.load('en_core_web_sm')\n",
        "\n",
        "# Grad all general stop words\n",
        "STOPWORDS = set(stopwords.words('english'))\n",
        "\n",
        "# Education Degrees\n",
        "EDUCATION = [\n",
        "            'BE','B.E.', 'B.E', 'BS', 'B.S',\n",
        "            'ME', 'M.E', 'M.E.', 'MS', 'M.S', 'MSC','M.Sc.',\n",
        "            'BTECH', 'B.TECH', 'M.TECH', 'MTECH',\n",
        "            'SSC', 'HSC', 'CBSE', 'ICSE', 'X', 'XII',' High School','Secondary SchooL'\n",
        "        ]\n",
        "\n",
        "def extract_education(resume_text):\n",
        "    nlp_text = nlp(resume_text)\n",
        "\n",
        "    # Sentence Tokenizer\n",
        "    nlp_text = [sent.text.strip() for sent in nlp_text.sents]\n",
        "\n",
        "\n",
        "    edu = {}\n",
        "    flag = False\n",
        "    # Extract education degree\n",
        "    for index, text in enumerate(nlp_text):\n",
        "        for tex in text.split():\n",
        "            # Replace all special symbols\n",
        "            tex = re.sub(r'[?|$|.|!|,]', r'', tex)\n",
        "            # print(tex)\n",
        "            if tex.upper() in EDUCATION and tex not in STOPWORDS:\n",
        "                edu[tex] = text + nlp_text[index + 1]\n",
        "                flag = True\n",
        "            if tex.upper() == 'HIGH' or tex.upper()=='SECONDARY' :\n",
        "              if(flag == False):\n",
        "                edu[tex+' School'] = text + nlp_text[index + 1]\n",
        "\n",
        "\n",
        "    education = []\n",
        "    for key in edu.keys():\n",
        "        year = re.search(re.compile(r'(((20|19)(\\d{2})))'), edu[key])\n",
        "        if year:\n",
        "            education.append((key, ''.join(year[0])))\n",
        "        else:\n",
        "            education.append(key)\n",
        "    return education\n",
        "\n",
        "qual = []\n",
        "for i in range(0,len(text)):\n",
        "  education = extract_education(text[i])\n",
        "  qual.append(education)"
      ],
      "metadata": {
        "execution": {
          "iopub.status.busy": "2022-01-12T06:23:20.204869Z",
          "iopub.execute_input": "2022-01-12T06:23:20.205093Z",
          "iopub.status.idle": "2022-01-12T06:23:21.376384Z",
          "shell.execute_reply.started": "2022-01-12T06:23:20.205067Z",
          "shell.execute_reply": "2022-01-12T06:23:21.375709Z"
        },
        "trusted": true,
        "id": "XPRb3p16tD1h"
      },
      "execution_count": null,
      "outputs": []
    },
    {
      "cell_type": "code",
      "source": [
        "qual"
      ],
      "metadata": {
        "execution": {
          "iopub.status.busy": "2022-01-12T06:23:21.377483Z",
          "iopub.execute_input": "2022-01-12T06:23:21.37845Z",
          "iopub.status.idle": "2022-01-12T06:23:21.384805Z",
          "shell.execute_reply.started": "2022-01-12T06:23:21.378411Z",
          "shell.execute_reply": "2022-01-12T06:23:21.38373Z"
        },
        "trusted": true,
        "colab": {
          "base_uri": "https://localhost:8080/"
        },
        "id": "8av3yhO4tD1i",
        "outputId": "182d8e93-0545-4d99-fe40-04cf06164398"
      },
      "execution_count": null,
      "outputs": [
        {
          "output_type": "execute_result",
          "data": {
            "text/plain": [
              "[[('Secondary School', '2020'),\n",
              "  ('HSC', '2015'),\n",
              "  ('CBSE', '2015'),\n",
              "  ('SSC', '2015')],\n",
              " [('High School', '1926'), ('Secondary School', '1926')],\n",
              " [('MSc', '2019'), ('XII', '2019'), ('X', '2019')],\n",
              " [('MSc', '2001'), ('XII', '2019'), ('X', '2019')],\n",
              " [('High School', '2016'), ('Secondary School', '2016')],\n",
              " [('HSC', '2020'), ('ICSE', '2020'), ('SSC', '2020')],\n",
              " [('Secondary School', '1926')]]"
            ]
          },
          "metadata": {},
          "execution_count": 83
        }
      ]
    },
    {
      "cell_type": "code",
      "source": [
        "qual1 = []\n",
        "for tups in qual:\n",
        "  res = ['-'.join(i) for i in tups]\n",
        "  qual1.append(res)\n",
        "qual1"
      ],
      "metadata": {
        "colab": {
          "base_uri": "https://localhost:8080/"
        },
        "id": "jWFUT-sgfcC1",
        "outputId": "3d9498b0-dd7c-4dae-b636-2bf81a96f93c"
      },
      "execution_count": null,
      "outputs": [
        {
          "output_type": "execute_result",
          "data": {
            "text/plain": [
              "[['Secondary School-2020', 'HSC-2015', 'CBSE-2015', 'SSC-2015'],\n",
              " ['High School-1926', 'Secondary School-1926'],\n",
              " ['MSc-2019', 'XII-2019', 'X-2019'],\n",
              " ['MSc-2001', 'XII-2019', 'X-2019'],\n",
              " ['High School-2016', 'Secondary School-2016'],\n",
              " ['HSC-2020', 'ICSE-2020', 'SSC-2020'],\n",
              " ['Secondary School-1926']]"
            ]
          },
          "metadata": {},
          "execution_count": 84
        }
      ]
    },
    {
      "cell_type": "code",
      "source": [
        "df['Qualifications']=qual1\n",
        "df"
      ],
      "metadata": {
        "colab": {
          "base_uri": "https://localhost:8080/",
          "height": 312
        },
        "id": "SUW-snpJguWY",
        "outputId": "ca95c1e7-c837-4d07-bf17-cebd3d7591fc"
      },
      "execution_count": null,
      "outputs": [
        {
          "output_type": "execute_result",
          "data": {
            "text/plain": [
              "                                 Email   Contact-number           Name  \\\n",
              "0     aman.sharma2016@vitstudent.ac.in       7550171006    Aman Sharma   \n",
              "1              chandler.bing@vit.ac.in       8511192673  Chandler Bing   \n",
              "2                 19pd09@psgtech.ac.in  +91-98428-48661     DHIKSHITHA   \n",
              "3            dhikshithaarulkumar@gmail  +91-98428-48661     Dhikshitha   \n",
              "4  VAISHALI.BIJOY2016@vitstudent.ac.in       8511192673          BIJOY   \n",
              "5   Meghna.lohani2016@vitstudent.ac.in       8511192673         Meghna   \n",
              "6            Phobe.buffaycat@vit.ac.in       8511192673         Phoebe   \n",
              "\n",
              "                                              Skills  \\\n",
              "0     [Sql, Python, Php, C++, Html, Data structures]   \n",
              "1  [Sql, Python, Nlp, Php, C++, Opencv, Html, Mysql]   \n",
              "2  [Sql, Python, Php, C++, Natural language proce...   \n",
              "3  [Sql, Python, Php, C++, Natural language proce...   \n",
              "4            [Python, Php, C++, Opencv, Html, Mysql]   \n",
              "5  [Sql, Python, Php, C++, Opencv, Html, Machine ...   \n",
              "6  [Sql, Tensorflow, Python, Nlp, Php, Deep learn...   \n",
              "\n",
              "                                      Qualifications  \n",
              "0  [Secondary School-2020, HSC-2015, CBSE-2015, S...  \n",
              "1          [High School-1926, Secondary School-1926]  \n",
              "2                       [MSc-2019, XII-2019, X-2019]  \n",
              "3                       [MSc-2001, XII-2019, X-2019]  \n",
              "4          [High School-2016, Secondary School-2016]  \n",
              "5                    [HSC-2020, ICSE-2020, SSC-2020]  \n",
              "6                            [Secondary School-1926]  "
            ],
            "text/html": [
              "\n",
              "  <div id=\"df-1a2400a8-e00e-442e-8220-96b76c1bf7a2\">\n",
              "    <div class=\"colab-df-container\">\n",
              "      <div>\n",
              "<style scoped>\n",
              "    .dataframe tbody tr th:only-of-type {\n",
              "        vertical-align: middle;\n",
              "    }\n",
              "\n",
              "    .dataframe tbody tr th {\n",
              "        vertical-align: top;\n",
              "    }\n",
              "\n",
              "    .dataframe thead th {\n",
              "        text-align: right;\n",
              "    }\n",
              "</style>\n",
              "<table border=\"1\" class=\"dataframe\">\n",
              "  <thead>\n",
              "    <tr style=\"text-align: right;\">\n",
              "      <th></th>\n",
              "      <th>Email</th>\n",
              "      <th>Contact-number</th>\n",
              "      <th>Name</th>\n",
              "      <th>Skills</th>\n",
              "      <th>Qualifications</th>\n",
              "    </tr>\n",
              "  </thead>\n",
              "  <tbody>\n",
              "    <tr>\n",
              "      <th>0</th>\n",
              "      <td>aman.sharma2016@vitstudent.ac.in</td>\n",
              "      <td>7550171006</td>\n",
              "      <td>Aman Sharma</td>\n",
              "      <td>[Sql, Python, Php, C++, Html, Data structures]</td>\n",
              "      <td>[Secondary School-2020, HSC-2015, CBSE-2015, S...</td>\n",
              "    </tr>\n",
              "    <tr>\n",
              "      <th>1</th>\n",
              "      <td>chandler.bing@vit.ac.in</td>\n",
              "      <td>8511192673</td>\n",
              "      <td>Chandler Bing</td>\n",
              "      <td>[Sql, Python, Nlp, Php, C++, Opencv, Html, Mysql]</td>\n",
              "      <td>[High School-1926, Secondary School-1926]</td>\n",
              "    </tr>\n",
              "    <tr>\n",
              "      <th>2</th>\n",
              "      <td>19pd09@psgtech.ac.in</td>\n",
              "      <td>+91-98428-48661</td>\n",
              "      <td>DHIKSHITHA</td>\n",
              "      <td>[Sql, Python, Php, C++, Natural language proce...</td>\n",
              "      <td>[MSc-2019, XII-2019, X-2019]</td>\n",
              "    </tr>\n",
              "    <tr>\n",
              "      <th>3</th>\n",
              "      <td>dhikshithaarulkumar@gmail</td>\n",
              "      <td>+91-98428-48661</td>\n",
              "      <td>Dhikshitha</td>\n",
              "      <td>[Sql, Python, Php, C++, Natural language proce...</td>\n",
              "      <td>[MSc-2001, XII-2019, X-2019]</td>\n",
              "    </tr>\n",
              "    <tr>\n",
              "      <th>4</th>\n",
              "      <td>VAISHALI.BIJOY2016@vitstudent.ac.in</td>\n",
              "      <td>8511192673</td>\n",
              "      <td>BIJOY</td>\n",
              "      <td>[Python, Php, C++, Opencv, Html, Mysql]</td>\n",
              "      <td>[High School-2016, Secondary School-2016]</td>\n",
              "    </tr>\n",
              "    <tr>\n",
              "      <th>5</th>\n",
              "      <td>Meghna.lohani2016@vitstudent.ac.in</td>\n",
              "      <td>8511192673</td>\n",
              "      <td>Meghna</td>\n",
              "      <td>[Sql, Python, Php, C++, Opencv, Html, Machine ...</td>\n",
              "      <td>[HSC-2020, ICSE-2020, SSC-2020]</td>\n",
              "    </tr>\n",
              "    <tr>\n",
              "      <th>6</th>\n",
              "      <td>Phobe.buffaycat@vit.ac.in</td>\n",
              "      <td>8511192673</td>\n",
              "      <td>Phoebe</td>\n",
              "      <td>[Sql, Tensorflow, Python, Nlp, Php, Deep learn...</td>\n",
              "      <td>[Secondary School-1926]</td>\n",
              "    </tr>\n",
              "  </tbody>\n",
              "</table>\n",
              "</div>\n",
              "      <button class=\"colab-df-convert\" onclick=\"convertToInteractive('df-1a2400a8-e00e-442e-8220-96b76c1bf7a2')\"\n",
              "              title=\"Convert this dataframe to an interactive table.\"\n",
              "              style=\"display:none;\">\n",
              "        \n",
              "  <svg xmlns=\"http://www.w3.org/2000/svg\" height=\"24px\"viewBox=\"0 0 24 24\"\n",
              "       width=\"24px\">\n",
              "    <path d=\"M0 0h24v24H0V0z\" fill=\"none\"/>\n",
              "    <path d=\"M18.56 5.44l.94 2.06.94-2.06 2.06-.94-2.06-.94-.94-2.06-.94 2.06-2.06.94zm-11 1L8.5 8.5l.94-2.06 2.06-.94-2.06-.94L8.5 2.5l-.94 2.06-2.06.94zm10 10l.94 2.06.94-2.06 2.06-.94-2.06-.94-.94-2.06-.94 2.06-2.06.94z\"/><path d=\"M17.41 7.96l-1.37-1.37c-.4-.4-.92-.59-1.43-.59-.52 0-1.04.2-1.43.59L10.3 9.45l-7.72 7.72c-.78.78-.78 2.05 0 2.83L4 21.41c.39.39.9.59 1.41.59.51 0 1.02-.2 1.41-.59l7.78-7.78 2.81-2.81c.8-.78.8-2.07 0-2.86zM5.41 20L4 18.59l7.72-7.72 1.47 1.35L5.41 20z\"/>\n",
              "  </svg>\n",
              "      </button>\n",
              "      \n",
              "  <style>\n",
              "    .colab-df-container {\n",
              "      display:flex;\n",
              "      flex-wrap:wrap;\n",
              "      gap: 12px;\n",
              "    }\n",
              "\n",
              "    .colab-df-convert {\n",
              "      background-color: #E8F0FE;\n",
              "      border: none;\n",
              "      border-radius: 50%;\n",
              "      cursor: pointer;\n",
              "      display: none;\n",
              "      fill: #1967D2;\n",
              "      height: 32px;\n",
              "      padding: 0 0 0 0;\n",
              "      width: 32px;\n",
              "    }\n",
              "\n",
              "    .colab-df-convert:hover {\n",
              "      background-color: #E2EBFA;\n",
              "      box-shadow: 0px 1px 2px rgba(60, 64, 67, 0.3), 0px 1px 3px 1px rgba(60, 64, 67, 0.15);\n",
              "      fill: #174EA6;\n",
              "    }\n",
              "\n",
              "    [theme=dark] .colab-df-convert {\n",
              "      background-color: #3B4455;\n",
              "      fill: #D2E3FC;\n",
              "    }\n",
              "\n",
              "    [theme=dark] .colab-df-convert:hover {\n",
              "      background-color: #434B5C;\n",
              "      box-shadow: 0px 1px 3px 1px rgba(0, 0, 0, 0.15);\n",
              "      filter: drop-shadow(0px 1px 2px rgba(0, 0, 0, 0.3));\n",
              "      fill: #FFFFFF;\n",
              "    }\n",
              "  </style>\n",
              "\n",
              "      <script>\n",
              "        const buttonEl =\n",
              "          document.querySelector('#df-1a2400a8-e00e-442e-8220-96b76c1bf7a2 button.colab-df-convert');\n",
              "        buttonEl.style.display =\n",
              "          google.colab.kernel.accessAllowed ? 'block' : 'none';\n",
              "\n",
              "        async function convertToInteractive(key) {\n",
              "          const element = document.querySelector('#df-1a2400a8-e00e-442e-8220-96b76c1bf7a2');\n",
              "          const dataTable =\n",
              "            await google.colab.kernel.invokeFunction('convertToInteractive',\n",
              "                                                     [key], {});\n",
              "          if (!dataTable) return;\n",
              "\n",
              "          const docLinkHtml = 'Like what you see? Visit the ' +\n",
              "            '<a target=\"_blank\" href=https://colab.research.google.com/notebooks/data_table.ipynb>data table notebook</a>'\n",
              "            + ' to learn more about interactive tables.';\n",
              "          element.innerHTML = '';\n",
              "          dataTable['output_type'] = 'display_data';\n",
              "          await google.colab.output.renderOutput(dataTable, element);\n",
              "          const docLink = document.createElement('div');\n",
              "          docLink.innerHTML = docLinkHtml;\n",
              "          element.appendChild(docLink);\n",
              "        }\n",
              "      </script>\n",
              "    </div>\n",
              "  </div>\n",
              "  "
            ]
          },
          "metadata": {},
          "execution_count": 85
        }
      ]
    },
    {
      "cell_type": "markdown",
      "source": [
        "## **University**"
      ],
      "metadata": {
        "id": "CuGnFtqMCp7-"
      }
    },
    {
      "cell_type": "code",
      "source": [
        "def extract_university(text,file):\n",
        "    df=pd.read_csv(file,header=None)\n",
        "    universities = [i.lower() for i in df[1]]\n",
        "    college_name=[]\n",
        "    listex = universities\n",
        "    listsearch = [text.lower()]\n",
        "\n",
        "    for i in range(len(listex)):\n",
        "        for ii in range(len(listsearch)):\n",
        "    #             print(listex[i])\n",
        "                if re.findall(listex[i], re.sub(' +', ' ', listsearch[ii])):\n",
        "#                         print(str(ii)+': '+listex[i])\n",
        "                        college_name.append(listex[i].upper())\n",
        "#     print(college_name)\n",
        "    return college_name"
      ],
      "metadata": {
        "id": "FOaehMrt1moc"
      },
      "execution_count": null,
      "outputs": []
    },
    {
      "cell_type": "code",
      "source": [
        "university = {}\n",
        "for i in range(0,len(text)):\n",
        "  university[i] = extract_university(text[i],'/content/drive/MyDrive/NLP Package/world-universities.csv')\n"
      ],
      "metadata": {
        "id": "_idTHL7M1p9F"
      },
      "execution_count": null,
      "outputs": []
    },
    {
      "cell_type": "code",
      "source": [
        "\n",
        "univ = []\n",
        "univ = university.values()\n"
      ],
      "metadata": {
        "id": "G57JllPfiIId"
      },
      "execution_count": null,
      "outputs": []
    },
    {
      "cell_type": "code",
      "source": [
        "univ"
      ],
      "metadata": {
        "colab": {
          "base_uri": "https://localhost:8080/"
        },
        "id": "ERevVPQKhMDY",
        "outputId": "0c6bbf46-e5ae-4cbc-a250-60003efced84"
      },
      "execution_count": null,
      "outputs": [
        {
          "output_type": "execute_result",
          "data": {
            "text/plain": [
              "dict_values([['VELLORE INSTITUTE OF TECHNOLOGY'], [], ['PSG COLLEGE OF TECHNOLOGY'], ['PSG COLLEGE OF TECHNOLOGY'], [], ['VELLORE INSTITUTE OF TECHNOLOGY'], []])"
            ]
          },
          "metadata": {},
          "execution_count": 89
        }
      ]
    },
    {
      "cell_type": "code",
      "source": [
        "df[\"Institutes\"] = univ\n",
        "df"
      ],
      "metadata": {
        "id": "hqLPACeU198M",
        "colab": {
          "base_uri": "https://localhost:8080/",
          "height": 451
        },
        "outputId": "4face7c1-2f3b-4811-c77a-a6721bdeba3f"
      },
      "execution_count": null,
      "outputs": [
        {
          "output_type": "execute_result",
          "data": {
            "text/plain": [
              "                                 Email   Contact-number           Name  \\\n",
              "0     aman.sharma2016@vitstudent.ac.in       7550171006    Aman Sharma   \n",
              "1              chandler.bing@vit.ac.in       8511192673  Chandler Bing   \n",
              "2                 19pd09@psgtech.ac.in  +91-98428-48661     DHIKSHITHA   \n",
              "3            dhikshithaarulkumar@gmail  +91-98428-48661     Dhikshitha   \n",
              "4  VAISHALI.BIJOY2016@vitstudent.ac.in       8511192673          BIJOY   \n",
              "5   Meghna.lohani2016@vitstudent.ac.in       8511192673         Meghna   \n",
              "6            Phobe.buffaycat@vit.ac.in       8511192673         Phoebe   \n",
              "\n",
              "                                              Skills  \\\n",
              "0     [Sql, Python, Php, C++, Html, Data structures]   \n",
              "1  [Sql, Python, Nlp, Php, C++, Opencv, Html, Mysql]   \n",
              "2  [Sql, Python, Php, C++, Natural language proce...   \n",
              "3  [Sql, Python, Php, C++, Natural language proce...   \n",
              "4            [Python, Php, C++, Opencv, Html, Mysql]   \n",
              "5  [Sql, Python, Php, C++, Opencv, Html, Machine ...   \n",
              "6  [Sql, Tensorflow, Python, Nlp, Php, Deep learn...   \n",
              "\n",
              "                                      Qualifications  \\\n",
              "0  [Secondary School-2020, HSC-2015, CBSE-2015, S...   \n",
              "1          [High School-1926, Secondary School-1926]   \n",
              "2                       [MSc-2019, XII-2019, X-2019]   \n",
              "3                       [MSc-2001, XII-2019, X-2019]   \n",
              "4          [High School-2016, Secondary School-2016]   \n",
              "5                    [HSC-2020, ICSE-2020, SSC-2020]   \n",
              "6                            [Secondary School-1926]   \n",
              "\n",
              "                          Institutes  \n",
              "0  [VELLORE INSTITUTE OF TECHNOLOGY]  \n",
              "1                                 []  \n",
              "2        [PSG COLLEGE OF TECHNOLOGY]  \n",
              "3        [PSG COLLEGE OF TECHNOLOGY]  \n",
              "4                                 []  \n",
              "5  [VELLORE INSTITUTE OF TECHNOLOGY]  \n",
              "6                                 []  "
            ],
            "text/html": [
              "\n",
              "  <div id=\"df-17911aaf-9e3f-49e7-85f7-c5dc6a094ac0\">\n",
              "    <div class=\"colab-df-container\">\n",
              "      <div>\n",
              "<style scoped>\n",
              "    .dataframe tbody tr th:only-of-type {\n",
              "        vertical-align: middle;\n",
              "    }\n",
              "\n",
              "    .dataframe tbody tr th {\n",
              "        vertical-align: top;\n",
              "    }\n",
              "\n",
              "    .dataframe thead th {\n",
              "        text-align: right;\n",
              "    }\n",
              "</style>\n",
              "<table border=\"1\" class=\"dataframe\">\n",
              "  <thead>\n",
              "    <tr style=\"text-align: right;\">\n",
              "      <th></th>\n",
              "      <th>Email</th>\n",
              "      <th>Contact-number</th>\n",
              "      <th>Name</th>\n",
              "      <th>Skills</th>\n",
              "      <th>Qualifications</th>\n",
              "      <th>Institutes</th>\n",
              "    </tr>\n",
              "  </thead>\n",
              "  <tbody>\n",
              "    <tr>\n",
              "      <th>0</th>\n",
              "      <td>aman.sharma2016@vitstudent.ac.in</td>\n",
              "      <td>7550171006</td>\n",
              "      <td>Aman Sharma</td>\n",
              "      <td>[Sql, Python, Php, C++, Html, Data structures]</td>\n",
              "      <td>[Secondary School-2020, HSC-2015, CBSE-2015, S...</td>\n",
              "      <td>[VELLORE INSTITUTE OF TECHNOLOGY]</td>\n",
              "    </tr>\n",
              "    <tr>\n",
              "      <th>1</th>\n",
              "      <td>chandler.bing@vit.ac.in</td>\n",
              "      <td>8511192673</td>\n",
              "      <td>Chandler Bing</td>\n",
              "      <td>[Sql, Python, Nlp, Php, C++, Opencv, Html, Mysql]</td>\n",
              "      <td>[High School-1926, Secondary School-1926]</td>\n",
              "      <td>[]</td>\n",
              "    </tr>\n",
              "    <tr>\n",
              "      <th>2</th>\n",
              "      <td>19pd09@psgtech.ac.in</td>\n",
              "      <td>+91-98428-48661</td>\n",
              "      <td>DHIKSHITHA</td>\n",
              "      <td>[Sql, Python, Php, C++, Natural language proce...</td>\n",
              "      <td>[MSc-2019, XII-2019, X-2019]</td>\n",
              "      <td>[PSG COLLEGE OF TECHNOLOGY]</td>\n",
              "    </tr>\n",
              "    <tr>\n",
              "      <th>3</th>\n",
              "      <td>dhikshithaarulkumar@gmail</td>\n",
              "      <td>+91-98428-48661</td>\n",
              "      <td>Dhikshitha</td>\n",
              "      <td>[Sql, Python, Php, C++, Natural language proce...</td>\n",
              "      <td>[MSc-2001, XII-2019, X-2019]</td>\n",
              "      <td>[PSG COLLEGE OF TECHNOLOGY]</td>\n",
              "    </tr>\n",
              "    <tr>\n",
              "      <th>4</th>\n",
              "      <td>VAISHALI.BIJOY2016@vitstudent.ac.in</td>\n",
              "      <td>8511192673</td>\n",
              "      <td>BIJOY</td>\n",
              "      <td>[Python, Php, C++, Opencv, Html, Mysql]</td>\n",
              "      <td>[High School-2016, Secondary School-2016]</td>\n",
              "      <td>[]</td>\n",
              "    </tr>\n",
              "    <tr>\n",
              "      <th>5</th>\n",
              "      <td>Meghna.lohani2016@vitstudent.ac.in</td>\n",
              "      <td>8511192673</td>\n",
              "      <td>Meghna</td>\n",
              "      <td>[Sql, Python, Php, C++, Opencv, Html, Machine ...</td>\n",
              "      <td>[HSC-2020, ICSE-2020, SSC-2020]</td>\n",
              "      <td>[VELLORE INSTITUTE OF TECHNOLOGY]</td>\n",
              "    </tr>\n",
              "    <tr>\n",
              "      <th>6</th>\n",
              "      <td>Phobe.buffaycat@vit.ac.in</td>\n",
              "      <td>8511192673</td>\n",
              "      <td>Phoebe</td>\n",
              "      <td>[Sql, Tensorflow, Python, Nlp, Php, Deep learn...</td>\n",
              "      <td>[Secondary School-1926]</td>\n",
              "      <td>[]</td>\n",
              "    </tr>\n",
              "  </tbody>\n",
              "</table>\n",
              "</div>\n",
              "      <button class=\"colab-df-convert\" onclick=\"convertToInteractive('df-17911aaf-9e3f-49e7-85f7-c5dc6a094ac0')\"\n",
              "              title=\"Convert this dataframe to an interactive table.\"\n",
              "              style=\"display:none;\">\n",
              "        \n",
              "  <svg xmlns=\"http://www.w3.org/2000/svg\" height=\"24px\"viewBox=\"0 0 24 24\"\n",
              "       width=\"24px\">\n",
              "    <path d=\"M0 0h24v24H0V0z\" fill=\"none\"/>\n",
              "    <path d=\"M18.56 5.44l.94 2.06.94-2.06 2.06-.94-2.06-.94-.94-2.06-.94 2.06-2.06.94zm-11 1L8.5 8.5l.94-2.06 2.06-.94-2.06-.94L8.5 2.5l-.94 2.06-2.06.94zm10 10l.94 2.06.94-2.06 2.06-.94-2.06-.94-.94-2.06-.94 2.06-2.06.94z\"/><path d=\"M17.41 7.96l-1.37-1.37c-.4-.4-.92-.59-1.43-.59-.52 0-1.04.2-1.43.59L10.3 9.45l-7.72 7.72c-.78.78-.78 2.05 0 2.83L4 21.41c.39.39.9.59 1.41.59.51 0 1.02-.2 1.41-.59l7.78-7.78 2.81-2.81c.8-.78.8-2.07 0-2.86zM5.41 20L4 18.59l7.72-7.72 1.47 1.35L5.41 20z\"/>\n",
              "  </svg>\n",
              "      </button>\n",
              "      \n",
              "  <style>\n",
              "    .colab-df-container {\n",
              "      display:flex;\n",
              "      flex-wrap:wrap;\n",
              "      gap: 12px;\n",
              "    }\n",
              "\n",
              "    .colab-df-convert {\n",
              "      background-color: #E8F0FE;\n",
              "      border: none;\n",
              "      border-radius: 50%;\n",
              "      cursor: pointer;\n",
              "      display: none;\n",
              "      fill: #1967D2;\n",
              "      height: 32px;\n",
              "      padding: 0 0 0 0;\n",
              "      width: 32px;\n",
              "    }\n",
              "\n",
              "    .colab-df-convert:hover {\n",
              "      background-color: #E2EBFA;\n",
              "      box-shadow: 0px 1px 2px rgba(60, 64, 67, 0.3), 0px 1px 3px 1px rgba(60, 64, 67, 0.15);\n",
              "      fill: #174EA6;\n",
              "    }\n",
              "\n",
              "    [theme=dark] .colab-df-convert {\n",
              "      background-color: #3B4455;\n",
              "      fill: #D2E3FC;\n",
              "    }\n",
              "\n",
              "    [theme=dark] .colab-df-convert:hover {\n",
              "      background-color: #434B5C;\n",
              "      box-shadow: 0px 1px 3px 1px rgba(0, 0, 0, 0.15);\n",
              "      filter: drop-shadow(0px 1px 2px rgba(0, 0, 0, 0.3));\n",
              "      fill: #FFFFFF;\n",
              "    }\n",
              "  </style>\n",
              "\n",
              "      <script>\n",
              "        const buttonEl =\n",
              "          document.querySelector('#df-17911aaf-9e3f-49e7-85f7-c5dc6a094ac0 button.colab-df-convert');\n",
              "        buttonEl.style.display =\n",
              "          google.colab.kernel.accessAllowed ? 'block' : 'none';\n",
              "\n",
              "        async function convertToInteractive(key) {\n",
              "          const element = document.querySelector('#df-17911aaf-9e3f-49e7-85f7-c5dc6a094ac0');\n",
              "          const dataTable =\n",
              "            await google.colab.kernel.invokeFunction('convertToInteractive',\n",
              "                                                     [key], {});\n",
              "          if (!dataTable) return;\n",
              "\n",
              "          const docLinkHtml = 'Like what you see? Visit the ' +\n",
              "            '<a target=\"_blank\" href=https://colab.research.google.com/notebooks/data_table.ipynb>data table notebook</a>'\n",
              "            + ' to learn more about interactive tables.';\n",
              "          element.innerHTML = '';\n",
              "          dataTable['output_type'] = 'display_data';\n",
              "          await google.colab.output.renderOutput(dataTable, element);\n",
              "          const docLink = document.createElement('div');\n",
              "          docLink.innerHTML = docLinkHtml;\n",
              "          element.appendChild(docLink);\n",
              "        }\n",
              "      </script>\n",
              "    </div>\n",
              "  </div>\n",
              "  "
            ]
          },
          "metadata": {},
          "execution_count": 90
        }
      ]
    },
    {
      "cell_type": "code",
      "source": [
        "# import re\n",
        "# sub_patterns = ['[A-Z][a-z]* University','[A-Z][a-z]* Educational Institute',\n",
        "#                 'University of [A-Z][a-z]*',\n",
        "#                 'Ecole [A-Z][a-z]*',\n",
        "#                 '[A-Z][a-z]* College of [A-Z][a-z]*']\n",
        "# pattern = '({})'.format('|'.join(sub_patterns))\n",
        "# # matches = re.findall(pattern, text)\n",
        "\n",
        "# extracted_text[\"Institutes\"] = matches\n",
        "# matches"
      ],
      "metadata": {
        "execution": {
          "iopub.status.busy": "2022-01-12T06:23:21.386266Z",
          "iopub.execute_input": "2022-01-12T06:23:21.387091Z",
          "iopub.status.idle": "2022-01-12T06:23:21.398478Z",
          "shell.execute_reply.started": "2022-01-12T06:23:21.387046Z",
          "shell.execute_reply": "2022-01-12T06:23:21.397889Z"
        },
        "trusted": true,
        "id": "abqMuBfRtD1i"
      },
      "execution_count": null,
      "outputs": []
    },
    {
      "cell_type": "code",
      "source": [
        "import re\n",
        "extracted_text = []\n",
        "sub_patterns = ['[A-Z][a-z]* [A-Z][a-z]* Private Limited','[A-Z][a-z]* [A-Z][a-z]* Pvt. Ltd.','[A-Z][a-z]* [A-Z][a-z]* Inc.', '[A-Z][a-z]* LLC',\n",
        "                '[A-Z][a-z]* & Co.']\n",
        "pattern = '({})'.format('|'.join(sub_patterns))\n",
        "for i in range(0,len(text)):\n",
        "  Exp = re.findall(pattern, text[i])\n",
        "  extracted_text.append(Exp)\n",
        "extracted_text"
      ],
      "metadata": {
        "execution": {
          "iopub.status.busy": "2022-01-12T06:23:21.399605Z",
          "iopub.execute_input": "2022-01-12T06:23:21.40028Z",
          "iopub.status.idle": "2022-01-12T06:23:21.413119Z",
          "shell.execute_reply.started": "2022-01-12T06:23:21.400248Z",
          "shell.execute_reply": "2022-01-12T06:23:21.411992Z"
        },
        "trusted": true,
        "colab": {
          "base_uri": "https://localhost:8080/"
        },
        "id": "GR08NgUotD1i",
        "outputId": "3baebce8-b7d1-40dc-d95e-51ef5ddf56b3"
      },
      "execution_count": null,
      "outputs": [
        {
          "output_type": "execute_result",
          "data": {
            "text/plain": [
              "[[], [], [], ['Chase & Co.'], [], [], []]"
            ]
          },
          "metadata": {},
          "execution_count": 92
        }
      ]
    },
    {
      "cell_type": "code",
      "source": [
        "df['Experience']=extracted_text"
      ],
      "metadata": {
        "id": "uWsrSgPVjcs_"
      },
      "execution_count": null,
      "outputs": []
    },
    {
      "cell_type": "code",
      "source": [
        "df"
      ],
      "metadata": {
        "colab": {
          "base_uri": "https://localhost:8080/",
          "height": 451
        },
        "id": "gjK76z8XjhwW",
        "outputId": "d968ba4b-b923-473e-f7f8-dcc75ea67013"
      },
      "execution_count": null,
      "outputs": [
        {
          "output_type": "execute_result",
          "data": {
            "text/plain": [
              "                                 Email   Contact-number           Name  \\\n",
              "0     aman.sharma2016@vitstudent.ac.in       7550171006    Aman Sharma   \n",
              "1              chandler.bing@vit.ac.in       8511192673  Chandler Bing   \n",
              "2                 19pd09@psgtech.ac.in  +91-98428-48661     DHIKSHITHA   \n",
              "3            dhikshithaarulkumar@gmail  +91-98428-48661     Dhikshitha   \n",
              "4  VAISHALI.BIJOY2016@vitstudent.ac.in       8511192673          BIJOY   \n",
              "5   Meghna.lohani2016@vitstudent.ac.in       8511192673         Meghna   \n",
              "6            Phobe.buffaycat@vit.ac.in       8511192673         Phoebe   \n",
              "\n",
              "                                              Skills  \\\n",
              "0     [Sql, Python, Php, C++, Html, Data structures]   \n",
              "1  [Sql, Python, Nlp, Php, C++, Opencv, Html, Mysql]   \n",
              "2  [Sql, Python, Php, C++, Natural language proce...   \n",
              "3  [Sql, Python, Php, C++, Natural language proce...   \n",
              "4            [Python, Php, C++, Opencv, Html, Mysql]   \n",
              "5  [Sql, Python, Php, C++, Opencv, Html, Machine ...   \n",
              "6  [Sql, Tensorflow, Python, Nlp, Php, Deep learn...   \n",
              "\n",
              "                                      Qualifications  \\\n",
              "0  [Secondary School-2020, HSC-2015, CBSE-2015, S...   \n",
              "1          [High School-1926, Secondary School-1926]   \n",
              "2                       [MSc-2019, XII-2019, X-2019]   \n",
              "3                       [MSc-2001, XII-2019, X-2019]   \n",
              "4          [High School-2016, Secondary School-2016]   \n",
              "5                    [HSC-2020, ICSE-2020, SSC-2020]   \n",
              "6                            [Secondary School-1926]   \n",
              "\n",
              "                          Institutes     Experience  \n",
              "0  [VELLORE INSTITUTE OF TECHNOLOGY]             []  \n",
              "1                                 []             []  \n",
              "2        [PSG COLLEGE OF TECHNOLOGY]             []  \n",
              "3        [PSG COLLEGE OF TECHNOLOGY]  [Chase & Co.]  \n",
              "4                                 []             []  \n",
              "5  [VELLORE INSTITUTE OF TECHNOLOGY]             []  \n",
              "6                                 []             []  "
            ],
            "text/html": [
              "\n",
              "  <div id=\"df-1384334a-9d23-40b3-9fe2-db913246265c\">\n",
              "    <div class=\"colab-df-container\">\n",
              "      <div>\n",
              "<style scoped>\n",
              "    .dataframe tbody tr th:only-of-type {\n",
              "        vertical-align: middle;\n",
              "    }\n",
              "\n",
              "    .dataframe tbody tr th {\n",
              "        vertical-align: top;\n",
              "    }\n",
              "\n",
              "    .dataframe thead th {\n",
              "        text-align: right;\n",
              "    }\n",
              "</style>\n",
              "<table border=\"1\" class=\"dataframe\">\n",
              "  <thead>\n",
              "    <tr style=\"text-align: right;\">\n",
              "      <th></th>\n",
              "      <th>Email</th>\n",
              "      <th>Contact-number</th>\n",
              "      <th>Name</th>\n",
              "      <th>Skills</th>\n",
              "      <th>Qualifications</th>\n",
              "      <th>Institutes</th>\n",
              "      <th>Experience</th>\n",
              "    </tr>\n",
              "  </thead>\n",
              "  <tbody>\n",
              "    <tr>\n",
              "      <th>0</th>\n",
              "      <td>aman.sharma2016@vitstudent.ac.in</td>\n",
              "      <td>7550171006</td>\n",
              "      <td>Aman Sharma</td>\n",
              "      <td>[Sql, Python, Php, C++, Html, Data structures]</td>\n",
              "      <td>[Secondary School-2020, HSC-2015, CBSE-2015, S...</td>\n",
              "      <td>[VELLORE INSTITUTE OF TECHNOLOGY]</td>\n",
              "      <td>[]</td>\n",
              "    </tr>\n",
              "    <tr>\n",
              "      <th>1</th>\n",
              "      <td>chandler.bing@vit.ac.in</td>\n",
              "      <td>8511192673</td>\n",
              "      <td>Chandler Bing</td>\n",
              "      <td>[Sql, Python, Nlp, Php, C++, Opencv, Html, Mysql]</td>\n",
              "      <td>[High School-1926, Secondary School-1926]</td>\n",
              "      <td>[]</td>\n",
              "      <td>[]</td>\n",
              "    </tr>\n",
              "    <tr>\n",
              "      <th>2</th>\n",
              "      <td>19pd09@psgtech.ac.in</td>\n",
              "      <td>+91-98428-48661</td>\n",
              "      <td>DHIKSHITHA</td>\n",
              "      <td>[Sql, Python, Php, C++, Natural language proce...</td>\n",
              "      <td>[MSc-2019, XII-2019, X-2019]</td>\n",
              "      <td>[PSG COLLEGE OF TECHNOLOGY]</td>\n",
              "      <td>[]</td>\n",
              "    </tr>\n",
              "    <tr>\n",
              "      <th>3</th>\n",
              "      <td>dhikshithaarulkumar@gmail</td>\n",
              "      <td>+91-98428-48661</td>\n",
              "      <td>Dhikshitha</td>\n",
              "      <td>[Sql, Python, Php, C++, Natural language proce...</td>\n",
              "      <td>[MSc-2001, XII-2019, X-2019]</td>\n",
              "      <td>[PSG COLLEGE OF TECHNOLOGY]</td>\n",
              "      <td>[Chase &amp; Co.]</td>\n",
              "    </tr>\n",
              "    <tr>\n",
              "      <th>4</th>\n",
              "      <td>VAISHALI.BIJOY2016@vitstudent.ac.in</td>\n",
              "      <td>8511192673</td>\n",
              "      <td>BIJOY</td>\n",
              "      <td>[Python, Php, C++, Opencv, Html, Mysql]</td>\n",
              "      <td>[High School-2016, Secondary School-2016]</td>\n",
              "      <td>[]</td>\n",
              "      <td>[]</td>\n",
              "    </tr>\n",
              "    <tr>\n",
              "      <th>5</th>\n",
              "      <td>Meghna.lohani2016@vitstudent.ac.in</td>\n",
              "      <td>8511192673</td>\n",
              "      <td>Meghna</td>\n",
              "      <td>[Sql, Python, Php, C++, Opencv, Html, Machine ...</td>\n",
              "      <td>[HSC-2020, ICSE-2020, SSC-2020]</td>\n",
              "      <td>[VELLORE INSTITUTE OF TECHNOLOGY]</td>\n",
              "      <td>[]</td>\n",
              "    </tr>\n",
              "    <tr>\n",
              "      <th>6</th>\n",
              "      <td>Phobe.buffaycat@vit.ac.in</td>\n",
              "      <td>8511192673</td>\n",
              "      <td>Phoebe</td>\n",
              "      <td>[Sql, Tensorflow, Python, Nlp, Php, Deep learn...</td>\n",
              "      <td>[Secondary School-1926]</td>\n",
              "      <td>[]</td>\n",
              "      <td>[]</td>\n",
              "    </tr>\n",
              "  </tbody>\n",
              "</table>\n",
              "</div>\n",
              "      <button class=\"colab-df-convert\" onclick=\"convertToInteractive('df-1384334a-9d23-40b3-9fe2-db913246265c')\"\n",
              "              title=\"Convert this dataframe to an interactive table.\"\n",
              "              style=\"display:none;\">\n",
              "        \n",
              "  <svg xmlns=\"http://www.w3.org/2000/svg\" height=\"24px\"viewBox=\"0 0 24 24\"\n",
              "       width=\"24px\">\n",
              "    <path d=\"M0 0h24v24H0V0z\" fill=\"none\"/>\n",
              "    <path d=\"M18.56 5.44l.94 2.06.94-2.06 2.06-.94-2.06-.94-.94-2.06-.94 2.06-2.06.94zm-11 1L8.5 8.5l.94-2.06 2.06-.94-2.06-.94L8.5 2.5l-.94 2.06-2.06.94zm10 10l.94 2.06.94-2.06 2.06-.94-2.06-.94-.94-2.06-.94 2.06-2.06.94z\"/><path d=\"M17.41 7.96l-1.37-1.37c-.4-.4-.92-.59-1.43-.59-.52 0-1.04.2-1.43.59L10.3 9.45l-7.72 7.72c-.78.78-.78 2.05 0 2.83L4 21.41c.39.39.9.59 1.41.59.51 0 1.02-.2 1.41-.59l7.78-7.78 2.81-2.81c.8-.78.8-2.07 0-2.86zM5.41 20L4 18.59l7.72-7.72 1.47 1.35L5.41 20z\"/>\n",
              "  </svg>\n",
              "      </button>\n",
              "      \n",
              "  <style>\n",
              "    .colab-df-container {\n",
              "      display:flex;\n",
              "      flex-wrap:wrap;\n",
              "      gap: 12px;\n",
              "    }\n",
              "\n",
              "    .colab-df-convert {\n",
              "      background-color: #E8F0FE;\n",
              "      border: none;\n",
              "      border-radius: 50%;\n",
              "      cursor: pointer;\n",
              "      display: none;\n",
              "      fill: #1967D2;\n",
              "      height: 32px;\n",
              "      padding: 0 0 0 0;\n",
              "      width: 32px;\n",
              "    }\n",
              "\n",
              "    .colab-df-convert:hover {\n",
              "      background-color: #E2EBFA;\n",
              "      box-shadow: 0px 1px 2px rgba(60, 64, 67, 0.3), 0px 1px 3px 1px rgba(60, 64, 67, 0.15);\n",
              "      fill: #174EA6;\n",
              "    }\n",
              "\n",
              "    [theme=dark] .colab-df-convert {\n",
              "      background-color: #3B4455;\n",
              "      fill: #D2E3FC;\n",
              "    }\n",
              "\n",
              "    [theme=dark] .colab-df-convert:hover {\n",
              "      background-color: #434B5C;\n",
              "      box-shadow: 0px 1px 3px 1px rgba(0, 0, 0, 0.15);\n",
              "      filter: drop-shadow(0px 1px 2px rgba(0, 0, 0, 0.3));\n",
              "      fill: #FFFFFF;\n",
              "    }\n",
              "  </style>\n",
              "\n",
              "      <script>\n",
              "        const buttonEl =\n",
              "          document.querySelector('#df-1384334a-9d23-40b3-9fe2-db913246265c button.colab-df-convert');\n",
              "        buttonEl.style.display =\n",
              "          google.colab.kernel.accessAllowed ? 'block' : 'none';\n",
              "\n",
              "        async function convertToInteractive(key) {\n",
              "          const element = document.querySelector('#df-1384334a-9d23-40b3-9fe2-db913246265c');\n",
              "          const dataTable =\n",
              "            await google.colab.kernel.invokeFunction('convertToInteractive',\n",
              "                                                     [key], {});\n",
              "          if (!dataTable) return;\n",
              "\n",
              "          const docLinkHtml = 'Like what you see? Visit the ' +\n",
              "            '<a target=\"_blank\" href=https://colab.research.google.com/notebooks/data_table.ipynb>data table notebook</a>'\n",
              "            + ' to learn more about interactive tables.';\n",
              "          element.innerHTML = '';\n",
              "          dataTable['output_type'] = 'display_data';\n",
              "          await google.colab.output.renderOutput(dataTable, element);\n",
              "          const docLink = document.createElement('div');\n",
              "          docLink.innerHTML = docLinkHtml;\n",
              "          element.appendChild(docLink);\n",
              "        }\n",
              "      </script>\n",
              "    </div>\n",
              "  </div>\n",
              "  "
            ]
          },
          "metadata": {},
          "execution_count": 94
        }
      ]
    },
    {
      "cell_type": "markdown",
      "source": [
        "## **Extracted Details**"
      ],
      "metadata": {
        "id": "4oYHvtXrCwqS"
      }
    },
    {
      "cell_type": "code",
      "source": [
        "df"
      ],
      "metadata": {
        "execution": {
          "iopub.status.busy": "2022-01-12T06:23:45.238454Z",
          "iopub.execute_input": "2022-01-12T06:23:45.239056Z",
          "iopub.status.idle": "2022-01-12T06:23:45.245934Z",
          "shell.execute_reply.started": "2022-01-12T06:23:45.239014Z",
          "shell.execute_reply": "2022-01-12T06:23:45.245019Z"
        },
        "trusted": true,
        "colab": {
          "base_uri": "https://localhost:8080/",
          "height": 451
        },
        "id": "OUSPwnK3tD1i",
        "outputId": "570626a1-e702-46b8-b285-6a820788d0b3"
      },
      "execution_count": null,
      "outputs": [
        {
          "output_type": "execute_result",
          "data": {
            "text/plain": [
              "                                 Email   Contact-number           Name  \\\n",
              "0     aman.sharma2016@vitstudent.ac.in       7550171006    Aman Sharma   \n",
              "1              chandler.bing@vit.ac.in       8511192673  Chandler Bing   \n",
              "2                 19pd09@psgtech.ac.in  +91-98428-48661     DHIKSHITHA   \n",
              "3            dhikshithaarulkumar@gmail  +91-98428-48661     Dhikshitha   \n",
              "4  VAISHALI.BIJOY2016@vitstudent.ac.in       8511192673          BIJOY   \n",
              "5   Meghna.lohani2016@vitstudent.ac.in       8511192673         Meghna   \n",
              "6            Phobe.buffaycat@vit.ac.in       8511192673         Phoebe   \n",
              "\n",
              "                                              Skills  \\\n",
              "0     [Sql, Python, Php, C++, Html, Data structures]   \n",
              "1  [Sql, Python, Nlp, Php, C++, Opencv, Html, Mysql]   \n",
              "2  [Sql, Python, Php, C++, Natural language proce...   \n",
              "3  [Sql, Python, Php, C++, Natural language proce...   \n",
              "4            [Python, Php, C++, Opencv, Html, Mysql]   \n",
              "5  [Sql, Python, Php, C++, Opencv, Html, Machine ...   \n",
              "6  [Sql, Tensorflow, Python, Nlp, Php, Deep learn...   \n",
              "\n",
              "                                      Qualifications  \\\n",
              "0  [Secondary School-2020, HSC-2015, CBSE-2015, S...   \n",
              "1          [High School-1926, Secondary School-1926]   \n",
              "2                       [MSc-2019, XII-2019, X-2019]   \n",
              "3                       [MSc-2001, XII-2019, X-2019]   \n",
              "4          [High School-2016, Secondary School-2016]   \n",
              "5                    [HSC-2020, ICSE-2020, SSC-2020]   \n",
              "6                            [Secondary School-1926]   \n",
              "\n",
              "                          Institutes     Experience  \n",
              "0  [VELLORE INSTITUTE OF TECHNOLOGY]             []  \n",
              "1                                 []             []  \n",
              "2        [PSG COLLEGE OF TECHNOLOGY]             []  \n",
              "3        [PSG COLLEGE OF TECHNOLOGY]  [Chase & Co.]  \n",
              "4                                 []             []  \n",
              "5  [VELLORE INSTITUTE OF TECHNOLOGY]             []  \n",
              "6                                 []             []  "
            ],
            "text/html": [
              "\n",
              "  <div id=\"df-f0637987-278c-432c-860b-4a143d28c8c9\">\n",
              "    <div class=\"colab-df-container\">\n",
              "      <div>\n",
              "<style scoped>\n",
              "    .dataframe tbody tr th:only-of-type {\n",
              "        vertical-align: middle;\n",
              "    }\n",
              "\n",
              "    .dataframe tbody tr th {\n",
              "        vertical-align: top;\n",
              "    }\n",
              "\n",
              "    .dataframe thead th {\n",
              "        text-align: right;\n",
              "    }\n",
              "</style>\n",
              "<table border=\"1\" class=\"dataframe\">\n",
              "  <thead>\n",
              "    <tr style=\"text-align: right;\">\n",
              "      <th></th>\n",
              "      <th>Email</th>\n",
              "      <th>Contact-number</th>\n",
              "      <th>Name</th>\n",
              "      <th>Skills</th>\n",
              "      <th>Qualifications</th>\n",
              "      <th>Institutes</th>\n",
              "      <th>Experience</th>\n",
              "    </tr>\n",
              "  </thead>\n",
              "  <tbody>\n",
              "    <tr>\n",
              "      <th>0</th>\n",
              "      <td>aman.sharma2016@vitstudent.ac.in</td>\n",
              "      <td>7550171006</td>\n",
              "      <td>Aman Sharma</td>\n",
              "      <td>[Sql, Python, Php, C++, Html, Data structures]</td>\n",
              "      <td>[Secondary School-2020, HSC-2015, CBSE-2015, S...</td>\n",
              "      <td>[VELLORE INSTITUTE OF TECHNOLOGY]</td>\n",
              "      <td>[]</td>\n",
              "    </tr>\n",
              "    <tr>\n",
              "      <th>1</th>\n",
              "      <td>chandler.bing@vit.ac.in</td>\n",
              "      <td>8511192673</td>\n",
              "      <td>Chandler Bing</td>\n",
              "      <td>[Sql, Python, Nlp, Php, C++, Opencv, Html, Mysql]</td>\n",
              "      <td>[High School-1926, Secondary School-1926]</td>\n",
              "      <td>[]</td>\n",
              "      <td>[]</td>\n",
              "    </tr>\n",
              "    <tr>\n",
              "      <th>2</th>\n",
              "      <td>19pd09@psgtech.ac.in</td>\n",
              "      <td>+91-98428-48661</td>\n",
              "      <td>DHIKSHITHA</td>\n",
              "      <td>[Sql, Python, Php, C++, Natural language proce...</td>\n",
              "      <td>[MSc-2019, XII-2019, X-2019]</td>\n",
              "      <td>[PSG COLLEGE OF TECHNOLOGY]</td>\n",
              "      <td>[]</td>\n",
              "    </tr>\n",
              "    <tr>\n",
              "      <th>3</th>\n",
              "      <td>dhikshithaarulkumar@gmail</td>\n",
              "      <td>+91-98428-48661</td>\n",
              "      <td>Dhikshitha</td>\n",
              "      <td>[Sql, Python, Php, C++, Natural language proce...</td>\n",
              "      <td>[MSc-2001, XII-2019, X-2019]</td>\n",
              "      <td>[PSG COLLEGE OF TECHNOLOGY]</td>\n",
              "      <td>[Chase &amp; Co.]</td>\n",
              "    </tr>\n",
              "    <tr>\n",
              "      <th>4</th>\n",
              "      <td>VAISHALI.BIJOY2016@vitstudent.ac.in</td>\n",
              "      <td>8511192673</td>\n",
              "      <td>BIJOY</td>\n",
              "      <td>[Python, Php, C++, Opencv, Html, Mysql]</td>\n",
              "      <td>[High School-2016, Secondary School-2016]</td>\n",
              "      <td>[]</td>\n",
              "      <td>[]</td>\n",
              "    </tr>\n",
              "    <tr>\n",
              "      <th>5</th>\n",
              "      <td>Meghna.lohani2016@vitstudent.ac.in</td>\n",
              "      <td>8511192673</td>\n",
              "      <td>Meghna</td>\n",
              "      <td>[Sql, Python, Php, C++, Opencv, Html, Machine ...</td>\n",
              "      <td>[HSC-2020, ICSE-2020, SSC-2020]</td>\n",
              "      <td>[VELLORE INSTITUTE OF TECHNOLOGY]</td>\n",
              "      <td>[]</td>\n",
              "    </tr>\n",
              "    <tr>\n",
              "      <th>6</th>\n",
              "      <td>Phobe.buffaycat@vit.ac.in</td>\n",
              "      <td>8511192673</td>\n",
              "      <td>Phoebe</td>\n",
              "      <td>[Sql, Tensorflow, Python, Nlp, Php, Deep learn...</td>\n",
              "      <td>[Secondary School-1926]</td>\n",
              "      <td>[]</td>\n",
              "      <td>[]</td>\n",
              "    </tr>\n",
              "  </tbody>\n",
              "</table>\n",
              "</div>\n",
              "      <button class=\"colab-df-convert\" onclick=\"convertToInteractive('df-f0637987-278c-432c-860b-4a143d28c8c9')\"\n",
              "              title=\"Convert this dataframe to an interactive table.\"\n",
              "              style=\"display:none;\">\n",
              "        \n",
              "  <svg xmlns=\"http://www.w3.org/2000/svg\" height=\"24px\"viewBox=\"0 0 24 24\"\n",
              "       width=\"24px\">\n",
              "    <path d=\"M0 0h24v24H0V0z\" fill=\"none\"/>\n",
              "    <path d=\"M18.56 5.44l.94 2.06.94-2.06 2.06-.94-2.06-.94-.94-2.06-.94 2.06-2.06.94zm-11 1L8.5 8.5l.94-2.06 2.06-.94-2.06-.94L8.5 2.5l-.94 2.06-2.06.94zm10 10l.94 2.06.94-2.06 2.06-.94-2.06-.94-.94-2.06-.94 2.06-2.06.94z\"/><path d=\"M17.41 7.96l-1.37-1.37c-.4-.4-.92-.59-1.43-.59-.52 0-1.04.2-1.43.59L10.3 9.45l-7.72 7.72c-.78.78-.78 2.05 0 2.83L4 21.41c.39.39.9.59 1.41.59.51 0 1.02-.2 1.41-.59l7.78-7.78 2.81-2.81c.8-.78.8-2.07 0-2.86zM5.41 20L4 18.59l7.72-7.72 1.47 1.35L5.41 20z\"/>\n",
              "  </svg>\n",
              "      </button>\n",
              "      \n",
              "  <style>\n",
              "    .colab-df-container {\n",
              "      display:flex;\n",
              "      flex-wrap:wrap;\n",
              "      gap: 12px;\n",
              "    }\n",
              "\n",
              "    .colab-df-convert {\n",
              "      background-color: #E8F0FE;\n",
              "      border: none;\n",
              "      border-radius: 50%;\n",
              "      cursor: pointer;\n",
              "      display: none;\n",
              "      fill: #1967D2;\n",
              "      height: 32px;\n",
              "      padding: 0 0 0 0;\n",
              "      width: 32px;\n",
              "    }\n",
              "\n",
              "    .colab-df-convert:hover {\n",
              "      background-color: #E2EBFA;\n",
              "      box-shadow: 0px 1px 2px rgba(60, 64, 67, 0.3), 0px 1px 3px 1px rgba(60, 64, 67, 0.15);\n",
              "      fill: #174EA6;\n",
              "    }\n",
              "\n",
              "    [theme=dark] .colab-df-convert {\n",
              "      background-color: #3B4455;\n",
              "      fill: #D2E3FC;\n",
              "    }\n",
              "\n",
              "    [theme=dark] .colab-df-convert:hover {\n",
              "      background-color: #434B5C;\n",
              "      box-shadow: 0px 1px 3px 1px rgba(0, 0, 0, 0.15);\n",
              "      filter: drop-shadow(0px 1px 2px rgba(0, 0, 0, 0.3));\n",
              "      fill: #FFFFFF;\n",
              "    }\n",
              "  </style>\n",
              "\n",
              "      <script>\n",
              "        const buttonEl =\n",
              "          document.querySelector('#df-f0637987-278c-432c-860b-4a143d28c8c9 button.colab-df-convert');\n",
              "        buttonEl.style.display =\n",
              "          google.colab.kernel.accessAllowed ? 'block' : 'none';\n",
              "\n",
              "        async function convertToInteractive(key) {\n",
              "          const element = document.querySelector('#df-f0637987-278c-432c-860b-4a143d28c8c9');\n",
              "          const dataTable =\n",
              "            await google.colab.kernel.invokeFunction('convertToInteractive',\n",
              "                                                     [key], {});\n",
              "          if (!dataTable) return;\n",
              "\n",
              "          const docLinkHtml = 'Like what you see? Visit the ' +\n",
              "            '<a target=\"_blank\" href=https://colab.research.google.com/notebooks/data_table.ipynb>data table notebook</a>'\n",
              "            + ' to learn more about interactive tables.';\n",
              "          element.innerHTML = '';\n",
              "          dataTable['output_type'] = 'display_data';\n",
              "          await google.colab.output.renderOutput(dataTable, element);\n",
              "          const docLink = document.createElement('div');\n",
              "          docLink.innerHTML = docLinkHtml;\n",
              "          element.appendChild(docLink);\n",
              "        }\n",
              "      </script>\n",
              "    </div>\n",
              "  </div>\n",
              "  "
            ]
          },
          "metadata": {},
          "execution_count": 95
        }
      ]
    },
    {
      "cell_type": "code",
      "source": [
        "df.to_csv('/content/drive/MyDrive/NLP Package/file1.csv')"
      ],
      "metadata": {
        "id": "6mSR1avIimbu"
      },
      "execution_count": null,
      "outputs": []
    },
    {
      "cell_type": "markdown",
      "source": [
        "# **2. Resume Scoring**"
      ],
      "metadata": {
        "id": "VsqjkmNR1fbq"
      }
    },
    {
      "cell_type": "markdown",
      "metadata": {
        "id": "taFJ6Ecp0fMJ"
      },
      "source": [
        "### Creating Corpus using sketch Engine"
      ]
    },
    {
      "cell_type": "markdown",
      "metadata": {
        "id": "lQc4eCkD0fMJ"
      },
      "source": [
        "We used SketchEngine to create a corpus, wikipedia pages were given as input\n"
      ]
    },
    {
      "cell_type": "code",
      "source": [
        "import nltk\n",
        "nltk.download('punkt')\n",
        "nltk.download('stopwords')"
      ],
      "metadata": {
        "colab": {
          "base_uri": "https://localhost:8080/"
        },
        "id": "C_ctZ7dV3EkT",
        "outputId": "f389e912-f109-45ec-a9e2-88f2e782eb18"
      },
      "execution_count": null,
      "outputs": [
        {
          "output_type": "stream",
          "name": "stderr",
          "text": [
            "[nltk_data] Downloading package punkt to /root/nltk_data...\n",
            "[nltk_data]   Unzipping tokenizers/punkt.zip.\n",
            "[nltk_data] Downloading package stopwords to /root/nltk_data...\n",
            "[nltk_data]   Unzipping corpora/stopwords.zip.\n"
          ]
        },
        {
          "output_type": "execute_result",
          "data": {
            "text/plain": [
              "True"
            ]
          },
          "metadata": {},
          "execution_count": 15
        }
      ]
    },
    {
      "cell_type": "code",
      "execution_count": null,
      "metadata": {
        "id": "54R-AOt20fMJ",
        "colab": {
          "base_uri": "https://localhost:8080/"
        },
        "outputId": "1d7ba86f-e8aa-4729-e31b-fe477e745158"
      },
      "outputs": [
        {
          "output_type": "stream",
          "name": "stdout",
          "text": [
            "Looking in indexes: https://pypi.org/simple, https://us-python.pkg.dev/colab-wheels/public/simple/\n",
            "Requirement already satisfied: pillow in /usr/local/lib/python3.9/dist-packages (8.4.0)\n",
            "Looking in indexes: https://pypi.org/simple, https://us-python.pkg.dev/colab-wheels/public/simple/\n",
            "Collecting image\n",
            "  Downloading image-1.5.33.tar.gz (15 kB)\n",
            "  Preparing metadata (setup.py) ... \u001b[?25l\u001b[?25hdone\n",
            "Requirement already satisfied: pillow in /usr/local/lib/python3.9/dist-packages (from image) (8.4.0)\n",
            "Collecting django\n",
            "  Downloading Django-4.1.7-py3-none-any.whl (8.1 MB)\n",
            "\u001b[2K     \u001b[90m━━━━━━━━━━━━━━━━━━━━━━━━━━━━━━━━━━━━━━━━\u001b[0m \u001b[32m8.1/8.1 MB\u001b[0m \u001b[31m20.6 MB/s\u001b[0m eta \u001b[36m0:00:00\u001b[0m\n",
            "\u001b[?25hRequirement already satisfied: six in /usr/local/lib/python3.9/dist-packages (from image) (1.16.0)\n",
            "Collecting asgiref<4,>=3.5.2\n",
            "  Downloading asgiref-3.6.0-py3-none-any.whl (23 kB)\n",
            "Requirement already satisfied: sqlparse>=0.2.2 in /usr/local/lib/python3.9/dist-packages (from django->image) (0.4.3)\n",
            "Building wheels for collected packages: image\n",
            "  Building wheel for image (setup.py) ... \u001b[?25l\u001b[?25hdone\n",
            "  Created wheel for image: filename=image-1.5.33-py2.py3-none-any.whl size=19497 sha256=95654cd01d506a99c90602bf75f4fbaee52f677b3eb4bf97a1e57987c92bf1c9\n",
            "  Stored in directory: /root/.cache/pip/wheels/14/4c/7c/d9b5c35a149d3bc8c72c7e92372913ff7dac9c6bd94bd1b8c9\n",
            "Successfully built image\n",
            "Installing collected packages: asgiref, django, image\n",
            "Successfully installed asgiref-3.6.0 django-4.1.7 image-1.5.33\n"
          ]
        }
      ],
      "source": [
        "!pip install pillow\n",
        "!pip install image\n",
        "import image as images"
      ]
    },
    {
      "cell_type": "markdown",
      "metadata": {
        "id": "3sU7Waj00fMK"
      },
      "source": [
        "### Creating word embedding"
      ]
    },
    {
      "cell_type": "code",
      "execution_count": null,
      "metadata": {
        "id": "XAjeUsDV0fMK"
      },
      "outputs": [],
      "source": [
        "from gensim.models import Word2Vec\n",
        "import string\n",
        "import re\n",
        "from nltk.corpus import stopwords\n",
        "with open(r'/content/drive/MyDrive/NLP Package/Resume-Scoring-using-NLP-master/skills.txt',encoding=\"utf8\") as f:\n",
        "    content = f.readlines()\n",
        "# you may also want to remove whitespace characters like `\\n` at the end of each line\n",
        "content = [x.strip() for x in content]"
      ]
    },
    {
      "cell_type": "code",
      "execution_count": null,
      "metadata": {
        "id": "ZQFftO2y0fML",
        "outputId": "88601677-ace6-4baf-bcf2-c1f4ad021d6b",
        "colab": {
          "base_uri": "https://localhost:8080/",
          "height": 90
        }
      },
      "outputs": [
        {
          "output_type": "execute_result",
          "data": {
            "text/plain": [
              "'Data science is a \"concept to unify statistics, data analysis, machine learning and their related methods\" in order to \"understand and analyze actual phenomena\" with data. It employs techniques and theories drawn from many fields within the context of mathematics, statistics, information science, and computer science. Turing award winner Jim Gray imagined data science as a \"fourth paradigm\" of science (empirical, theoretical, computational and now data-driven) and asserted that \"everything about science is changing because of the impact of information technology\" and the data deluge.'"
            ],
            "application/vnd.google.colaboratory.intrinsic+json": {
              "type": "string"
            }
          },
          "metadata": {},
          "execution_count": 18
        }
      ],
      "source": [
        "content[1]"
      ]
    },
    {
      "cell_type": "code",
      "execution_count": null,
      "metadata": {
        "id": "eELaVwEo0fMM"
      },
      "outputs": [],
      "source": [
        "from nltk.tokenize import word_tokenize\n",
        "import gensim\n",
        "from gensim.models.phrases import Phraser, Phrases"
      ]
    },
    {
      "cell_type": "markdown",
      "metadata": {
        "id": "Xa16LUqL0fMM"
      },
      "source": [
        "## **Preprocessing**"
      ]
    },
    {
      "cell_type": "code",
      "execution_count": null,
      "metadata": {
        "id": "fDIjj8N90fMM"
      },
      "outputs": [],
      "source": [
        "x=[]\n",
        "for line in content:\n",
        "    tokens=word_tokenize(line)\n",
        "    tok=[w.lower() for w in tokens]\n",
        "    table=str.maketrans('','',string.punctuation)\n",
        "    strpp=[w.translate(table) for w in tok]\n",
        "    words=[word for word in strpp if word.isalpha()]\n",
        "    stop_words=set(stopwords.words('english'))\n",
        "    words=[w for w in words if not w in stop_words]\n",
        "    x.append(words)"
      ]
    },
    {
      "cell_type": "code",
      "execution_count": null,
      "metadata": {
        "id": "kllWK1fB0fMM",
        "colab": {
          "base_uri": "https://localhost:8080/"
        },
        "outputId": "68261f8d-fecd-4c2c-9382-efc5fb131cdc"
      },
      "outputs": [
        {
          "output_type": "execute_result",
          "data": {
            "text/plain": [
              "316"
            ]
          },
          "metadata": {},
          "execution_count": 21
        }
      ],
      "source": [
        "texts=x\n",
        "texts\n",
        "len(texts)"
      ]
    },
    {
      "cell_type": "code",
      "execution_count": null,
      "metadata": {
        "id": "FOGh7mqo0fMM",
        "outputId": "287ec02a-dc22-47fa-e100-cfe3cc646fdc",
        "colab": {
          "base_uri": "https://localhost:8080/"
        }
      },
      "outputs": [
        {
          "output_type": "stream",
          "name": "stdout",
          "text": [
            "['william', 'cleveland', 'introduced', 'data', 'science', 'independent', 'discipline', 'extending', 'field', 'statistics', 'incorporate', 'advances', 'computing', 'data', 'article', 'data', 'science', 'action', 'plan', 'expanding', 'technical', 'areas', 'field', 'statistics', 'published', 'volume', 'april', 'edition', 'international', 'statistical', 'review', 'revue', 'internationale', 'de', 'statistique', 'report', 'cleveland', 'establishes', 'six', 'technical', 'areas', 'believed', 'encompass', 'field', 'data', 'science', 'multidisciplinary', 'investigations', 'models', 'methods', 'data', 'computing', 'data', 'pedagogy', 'tool', 'evaluation', 'theory']\n"
          ]
        }
      ],
      "source": [
        "print(texts[6])"
      ]
    },
    {
      "cell_type": "code",
      "execution_count": null,
      "metadata": {
        "id": "lnY5Y4IM0fMN"
      },
      "outputs": [],
      "source": [
        "content=texts"
      ]
    },
    {
      "cell_type": "markdown",
      "metadata": {
        "id": "Am2D88xS0fMO"
      },
      "source": [
        "## **Creating bigrams**"
      ]
    },
    {
      "cell_type": "code",
      "source": [
        "!pip install gensim"
      ],
      "metadata": {
        "colab": {
          "base_uri": "https://localhost:8080/"
        },
        "id": "25wfIJVo4_bO",
        "outputId": "f27c5061-57ba-4e3d-83ce-bdd7907a2b1b"
      },
      "execution_count": null,
      "outputs": [
        {
          "output_type": "stream",
          "name": "stdout",
          "text": [
            "Looking in indexes: https://pypi.org/simple, https://us-python.pkg.dev/colab-wheels/public/simple/\n",
            "Requirement already satisfied: gensim in /usr/local/lib/python3.9/dist-packages (3.4.0)\n",
            "Requirement already satisfied: six>=1.5.0 in /usr/local/lib/python3.9/dist-packages (from gensim) (1.16.0)\n",
            "Requirement already satisfied: scipy>=0.18.1 in /usr/local/lib/python3.9/dist-packages (from gensim) (1.10.1)\n",
            "Requirement already satisfied: smart-open>=1.2.1 in /usr/local/lib/python3.9/dist-packages (from gensim) (6.3.0)\n",
            "Requirement already satisfied: numpy>=1.11.3 in /usr/local/lib/python3.9/dist-packages (from gensim) (1.22.4)\n"
          ]
        }
      ]
    },
    {
      "cell_type": "code",
      "execution_count": null,
      "metadata": {
        "id": "xg_VXBG30fMO",
        "outputId": "89d134d7-c38d-4074-b795-fe93636d4289",
        "colab": {
          "base_uri": "https://localhost:8080/"
        }
      },
      "outputs": [
        {
          "output_type": "stream",
          "name": "stderr",
          "text": [
            "WARNING:gensim.models.base_any2vec:under 10 jobs per worker: consider setting a smaller `batch_words' for smoother alpha decay\n"
          ]
        },
        {
          "output_type": "stream",
          "name": "stdout",
          "text": [
            "1286\n"
          ]
        }
      ],
      "source": [
        "common_terms = [\"of\", \"with\", \"without\", \"and\", \"or\", \"the\", \"a\"]\n",
        "x=texts\n",
        "# Create the relevant phrases from the list of sentences:\n",
        "phrases = Phrases(x,common_terms=common_terms)\n",
        "# The Phraser object is used from now on to transform sentences\n",
        "bigram = Phraser(phrases)\n",
        "all_sentences = list(bigram[x])\n",
        "model=gensim.models.Word2Vec(all_sentences,size=5000,min_count=2,workers=4,window=4)\n",
        "model.save(\"/content/drive/MyDrive/NLP Package/final.model\")\n",
        "wrds=list(model.wv.vocab)\n",
        "print(len(wrds))"
      ]
    },
    {
      "cell_type": "markdown",
      "metadata": {
        "id": "SIyQvDCt0fMO"
      },
      "source": [
        "## **Testing**"
      ]
    },
    {
      "cell_type": "code",
      "execution_count": null,
      "metadata": {
        "id": "YK0BFzZl0fMO"
      },
      "outputs": [],
      "source": [
        "z=model.wv.most_similar(\"machine_learning\")"
      ]
    },
    {
      "cell_type": "code",
      "execution_count": null,
      "metadata": {
        "id": "iA0FCriJ0fMO",
        "outputId": "f2209a68-e57c-44be-9324-67fb1e3bf469",
        "colab": {
          "base_uri": "https://localhost:8080/"
        }
      },
      "outputs": [
        {
          "output_type": "stream",
          "name": "stdout",
          "text": [
            "[('software', 0.17274147272109985), ('data', 0.16497324407100677), ('deep_learning', 0.16161543130874634), ('system', 0.15970292687416077), ('may', 0.15723489224910736), ('information', 0.15385937690734863), ('learning', 0.15174059569835663), ('data_science', 0.14833922684192657), ('neural_networks', 0.1481270045042038), ('methods', 0.13257761299610138)]\n"
          ]
        }
      ],
      "source": [
        "print(z)"
      ]
    },
    {
      "cell_type": "code",
      "source": [
        "!pip install 'PyPDF2<3.0'"
      ],
      "metadata": {
        "colab": {
          "base_uri": "https://localhost:8080/"
        },
        "id": "jLsKO1gi6yRN",
        "outputId": "183f1b73-2718-465b-921f-1d28eedb55af"
      },
      "execution_count": null,
      "outputs": [
        {
          "output_type": "stream",
          "name": "stdout",
          "text": [
            "Looking in indexes: https://pypi.org/simple, https://us-python.pkg.dev/colab-wheels/public/simple/\n",
            "Collecting PyPDF2<3.0\n",
            "  Downloading pypdf2-2.12.1-py3-none-any.whl (222 kB)\n",
            "\u001b[2K     \u001b[90m━━━━━━━━━━━━━━━━━━━━━━━━━━━━━━━━━━━━━━\u001b[0m \u001b[32m222.8/222.8 KB\u001b[0m \u001b[31m12.7 MB/s\u001b[0m eta \u001b[36m0:00:00\u001b[0m\n",
            "\u001b[?25hRequirement already satisfied: typing_extensions>=3.10.0.0 in /usr/local/lib/python3.9/dist-packages (from PyPDF2<3.0) (4.5.0)\n",
            "Installing collected packages: PyPDF2\n",
            "Successfully installed PyPDF2-2.12.1\n"
          ]
        }
      ]
    },
    {
      "cell_type": "code",
      "execution_count": null,
      "metadata": {
        "id": "pcwkRyzs0fMP",
        "colab": {
          "base_uri": "https://localhost:8080/"
        },
        "outputId": "f7afbd34-28f0-4fc0-affc-35af6abfbdbc"
      },
      "outputs": [
        {
          "output_type": "stream",
          "name": "stderr",
          "text": [
            "/usr/local/lib/python3.9/dist-packages/torch/cuda/__init__.py:497: UserWarning: Can't initialize NVML\n",
            "  warnings.warn(\"Can't initialize NVML\")\n"
          ]
        }
      ],
      "source": [
        "import PyPDF2\n",
        "import os\n",
        "import collections\n",
        "from os import listdir\n",
        "from os.path import isfile, join\n",
        "from io import StringIO\n",
        "import pandas as pd\n",
        "from collections import Counter\n",
        "import en_core_web_sm\n",
        "nlp = en_core_web_sm.load()\n",
        "from spacy.matcher import PhraseMatcher"
      ]
    },
    {
      "cell_type": "markdown",
      "metadata": {
        "id": "X54-vVuT0fMP"
      },
      "source": [
        "## **Reading Resumes from folder**"
      ]
    },
    {
      "cell_type": "code",
      "execution_count": null,
      "metadata": {
        "id": "bDww-kLD0fMP"
      },
      "outputs": [],
      "source": [
        "mypath=r'/content/drive/MyDrive/NLP Package/Resume-Scoring-using-NLP-master/Resumes'\n",
        "#Path for the files\n",
        "onlyfiles = [os.path.join(mypath, f) for f in os.listdir(mypath) if os.path.isfile(os.path.join(mypath, f))]\n"
      ]
    },
    {
      "cell_type": "markdown",
      "metadata": {
        "id": "jfvVDcJ60fMP"
      },
      "source": [
        "## **Function to words from resume**"
      ]
    },
    {
      "cell_type": "code",
      "execution_count": null,
      "metadata": {
        "id": "ouAKpKJl0fMP"
      },
      "outputs": [],
      "source": [
        "import collections\n",
        "def pdfextract(file):\n",
        "    pdf_file = open(file, 'rb')\n",
        "    read_pdf = PyPDF2.PdfFileReader(pdf_file)\n",
        "    number_of_pages = read_pdf.getNumPages()\n",
        "    c = collections.Counter(range(number_of_pages))\n",
        "    for i in c:\n",
        "        #page\n",
        "        page = read_pdf.getPage(i)\n",
        "        page_content = page.extractText()\n",
        "    return (page_content.encode('utf-8'))"
      ]
    },
    {
      "cell_type": "code",
      "execution_count": null,
      "metadata": {
        "id": "AvY7TjuV0fMP"
      },
      "outputs": [],
      "source": [
        "sim_words=[k[0] for k in model.wv.most_similar(\"machine_learning\")]"
      ]
    },
    {
      "cell_type": "code",
      "execution_count": null,
      "metadata": {
        "id": "8LI9n9cx0fMQ"
      },
      "outputs": [],
      "source": [
        "def create_bigram(words):\n",
        "    common_terms = [\"of\", \"with\", \"without\", \"and\", \"or\", \"the\", \"a\"]\n",
        "    x=words.split()\n",
        "# Create the relevant phrases from the list of sentences:\n",
        "    phrases = Phrases(x, common_terms=common_terms)\n",
        "# The Phraser object is used from now on to transform sentences\n",
        "    bigram = Phraser(phrases)\n",
        "# Applying the Phraser to transform our sentences is simply\n",
        "    all_sentences = list(bigram[x])\n",
        "\n",
        ""
      ]
    },
    {
      "cell_type": "markdown",
      "metadata": {
        "id": "d0BGH2f40fMQ"
      },
      "source": [
        "## **Function to build candidate profile**"
      ]
    },
    {
      "cell_type": "code",
      "execution_count": null,
      "metadata": {
        "id": "Jv2YHw4v0fMQ"
      },
      "outputs": [],
      "source": [
        "\n",
        "def create_profile(file):\n",
        "    model=Word2Vec.load(\"/content/drive/MyDrive/NLP Package/final.model\")\n",
        "    file_data = []\n",
        "    text1 = str(pdfextract(file))\n",
        "    file_data = parser.from_file(file)\n",
        "    content2 = file_data['content']\n",
        "    text = text1.replace(\"\\\\n\", \"\")\n",
        "    text = text.lower()\n",
        "    #print(text)\n",
        "    #text=create_bigram(text)\n",
        "    #print(text)\n",
        "    #below is the csv where we have all the keywords, you can customize your own\n",
        "    #keyword_dictionary = pd.read_csv(r'C:\\Users\\dell\\Desktop\\New folder\\ML_CS\\NLP\\technical_skills.csv')\n",
        "    stats = [nlp(text[0]) for text in model.wv.most_similar(\"statistics\")]\n",
        "    NLP = [nlp(text[0]) for text in model.wv.most_similar(\"language\")]\n",
        "    ML = [nlp(text[0]) for text in model.wv.most_similar(\"machine_learning\")]\n",
        "    DL = [nlp(text[0]) for text in model.wv.most_similar(\"deep\")]\n",
        "    #R = [nlp(text) for text in keyword_dictionary['R Language'].dropna(axis = 0)]\n",
        "    python = [nlp(text[0]) for text in model.wv.most_similar(\"python\")]\n",
        "    Data_Engineering = [nlp(text[0]) for text in model.wv.most_similar(\"data\")]\n",
        "    print(\"*******************************************\")\n",
        "    #print(stats_words,NLP_words)\n",
        "    matcher = PhraseMatcher(nlp.vocab)\n",
        "    matcher.add('Stats', None, *stats)\n",
        "    matcher.add('NLP', None, *NLP)\n",
        "    matcher.add('ML', None, *ML)\n",
        "    matcher.add('DL', None, *DL)\n",
        "    matcher.add('Python', None, *python)\n",
        "    matcher.add('DE', None, *Data_Engineering)\n",
        "    doc = nlp(text)\n",
        "\n",
        "    d = []\n",
        "    matches = matcher(doc)\n",
        "    for match_id, start, end in matches:\n",
        "        rule_id = nlp.vocab.strings[match_id]  # get the unicode I\n",
        "        span = doc[start : end]               # get the matched slice of the doc\n",
        "        d.append((rule_id, span.text))\n",
        "    keywords = \"\\n\".join(f'{i[0]} {i[1]} ({j})' for i,j in Counter(d).items())\n",
        "    print(\"KEYWORDS\")\n",
        "    print(keywords)\n",
        "\n",
        "    ## convertimg string of keywords to dataframe\n",
        "    df = pd.read_csv(StringIO(keywords),names = ['Keywords_List'])\n",
        "    df1 = pd.DataFrame(df.Keywords_List.str.split(' ',1).tolist(),columns = ['Subject','Keyword'])\n",
        "    df2 = pd.DataFrame(df1.Keyword.str.split('(',1).tolist(),columns = ['Keyword', 'Count'])\n",
        "    df3 = pd.concat([df1['Subject'],df2['Keyword'], df2['Count']], axis =1)\n",
        "    df3['Count'] = df3['Count'].apply(lambda x: x.rstrip(\")\"))\n",
        "    print(\"********************DF********************\")\n",
        "    print(df)\n",
        "\n",
        "    base = os.path.basename(file)\n",
        "    filename = os.path.splitext(base)[0]\n",
        "\n",
        "\n",
        "    name = filename.split('_')\n",
        "    print(name)\n",
        "    name2 = name[0]\n",
        "    name2 = name2.lower()\n",
        "    ## converting str to dataframe\n",
        "    name3 = pd.read_csv(StringIO(name2),names = ['Name'])\n",
        "    name4 = extract_name1(content2)\n",
        "    name5 = pd.read_csv(StringIO(name4),names = ['Name'])\n",
        "    dataf = pd.concat([name5['Name'], df3['Subject'], df3['Keyword'], df3['Count']], axis = 1)\n",
        "    dataf['Name'].fillna(dataf['Name'].iloc[0], inplace = True)\n",
        "    print(\"******************DATAF**************\")\n",
        "    print(dataf)\n",
        "\n",
        "    return(dataf)"
      ]
    },
    {
      "cell_type": "markdown",
      "metadata": {
        "id": "-1QnSBeA0fMQ"
      },
      "source": [
        "## **Code to execute the above functions**"
      ]
    },
    {
      "cell_type": "code",
      "source": [
        "import tika\n",
        "\n",
        "tika.initVM()"
      ],
      "metadata": {
        "id": "rNueikoaT2WG"
      },
      "execution_count": null,
      "outputs": []
    },
    {
      "cell_type": "code",
      "execution_count": null,
      "metadata": {
        "id": "QtjH1XRG0fMQ",
        "outputId": "8beeb56e-d049-40b0-da8b-2658cdb73cfb",
        "colab": {
          "base_uri": "https://localhost:8080/"
        }
      },
      "outputs": [
        {
          "output_type": "stream",
          "name": "stdout",
          "text": [
            "/content/drive/MyDrive/NLP Package/Resume-Scoring-using-NLP-master/Resumes/AmanSharma.pdf\n",
            "*******************************************\n",
            "KEYWORDS\n",
            "ML may (3)\n",
            "NLP may (3)\n",
            "Stats may (3)\n",
            "DE may (3)\n",
            "DL may (3)\n",
            "Python may (3)\n",
            "DE programming (1)\n",
            "NLP systems (1)\n",
            "DL systems (1)\n",
            "Python systems (1)\n",
            "ML software (1)\n",
            "NLP software (1)\n",
            "Stats software (1)\n",
            "DE software (1)\n",
            "DL software (1)\n",
            "Python software (1)\n",
            "ML data (3)\n",
            "NLP data (3)\n",
            "Stats data (3)\n",
            "DL data (3)\n",
            "Python data (3)\n",
            "Stats c (1)\n",
            "DE c (1)\n",
            "DL c (1)\n",
            "********************DF********************\n",
            "          Keywords_List\n",
            "0            ML may (3)\n",
            "1           NLP may (3)\n",
            "2         Stats may (3)\n",
            "3            DE may (3)\n",
            "4            DL may (3)\n",
            "5        Python may (3)\n",
            "6    DE programming (1)\n",
            "7       NLP systems (1)\n",
            "8        DL systems (1)\n",
            "9    Python systems (1)\n",
            "10      ML software (1)\n",
            "11     NLP software (1)\n",
            "12   Stats software (1)\n",
            "13      DE software (1)\n",
            "14      DL software (1)\n",
            "15  Python software (1)\n",
            "16          ML data (3)\n",
            "17         NLP data (3)\n",
            "18       Stats data (3)\n",
            "19          DL data (3)\n",
            "20      Python data (3)\n",
            "21          Stats c (1)\n",
            "22             DE c (1)\n",
            "23             DL c (1)\n",
            "['AmanSharma']\n",
            "******************DATAF**************\n",
            "    Name Subject       Keyword Count\n",
            "0   Aman      ML          may      3\n",
            "1   Aman     NLP          may      3\n",
            "2   Aman   Stats          may      3\n",
            "3   Aman      DE          may      3\n",
            "4   Aman      DL          may      3\n",
            "5   Aman  Python          may      3\n",
            "6   Aman      DE  programming      1\n",
            "7   Aman     NLP      systems      1\n",
            "8   Aman      DL      systems      1\n",
            "9   Aman  Python      systems      1\n",
            "10  Aman      ML     software      1\n",
            "11  Aman     NLP     software      1\n",
            "12  Aman   Stats     software      1\n",
            "13  Aman      DE     software      1\n",
            "14  Aman      DL     software      1\n",
            "15  Aman  Python     software      1\n",
            "16  Aman      ML         data      3\n",
            "17  Aman     NLP         data      3\n",
            "18  Aman   Stats         data      3\n",
            "19  Aman      DL         data      3\n",
            "20  Aman  Python         data      3\n",
            "21  Aman   Stats            c      1\n",
            "22  Aman      DE            c      1\n",
            "23  Aman      DL            c      1\n"
          ]
        },
        {
          "output_type": "stream",
          "name": "stderr",
          "text": [
            "<ipython-input-79-8874e4f9dd84>:9: FutureWarning: The frame.append method is deprecated and will be removed from pandas in a future version. Use pandas.concat instead.\n",
            "  final_db=final_db.append(dat)\n"
          ]
        },
        {
          "output_type": "stream",
          "name": "stdout",
          "text": [
            "/content/drive/MyDrive/NLP Package/Resume-Scoring-using-NLP-master/Resumes/Chandler.pdf\n",
            "*******************************************\n",
            "KEYWORDS\n",
            "NLP using (4)\n",
            "DE using (4)\n",
            "Python using (4)\n",
            "********************DF********************\n",
            "      Keywords_List\n",
            "0     NLP using (4)\n",
            "1      DE using (4)\n",
            "2  Python using (4)\n",
            "['Chandler']\n",
            "******************DATAF**************\n",
            "       Name Subject Keyword Count\n",
            "0  Chandler     NLP  using      4\n",
            "1  Chandler      DE  using      4\n",
            "2  Chandler  Python  using      4\n",
            "/content/drive/MyDrive/NLP Package/Resume-Scoring-using-NLP-master/Resumes/A Dhikshitha.pdf\n"
          ]
        },
        {
          "output_type": "stream",
          "name": "stderr",
          "text": [
            "<ipython-input-79-8874e4f9dd84>:9: FutureWarning: The frame.append method is deprecated and will be removed from pandas in a future version. Use pandas.concat instead.\n",
            "  final_db=final_db.append(dat)\n"
          ]
        },
        {
          "output_type": "stream",
          "name": "stdout",
          "text": [
            "*******************************************\n",
            "KEYWORDS\n",
            "Stats c (4)\n",
            "DE c (4)\n",
            "DL c (4)\n",
            "********************DF********************\n",
            "  Keywords_List\n",
            "0   Stats c (4)\n",
            "1      DE c (4)\n",
            "2      DL c (4)\n",
            "['A Dhikshitha']\n",
            "******************DATAF**************\n",
            "  Name Subject Keyword Count\n",
            "0    A   Stats      c      4\n",
            "1    A      DE      c      4\n",
            "2    A      DL      c      4\n",
            "/content/drive/MyDrive/NLP Package/Resume-Scoring-using-NLP-master/Resumes/Dhikshitha A.pdf\n"
          ]
        },
        {
          "output_type": "stream",
          "name": "stderr",
          "text": [
            "<ipython-input-79-8874e4f9dd84>:9: FutureWarning: The frame.append method is deprecated and will be removed from pandas in a future version. Use pandas.concat instead.\n",
            "  final_db=final_db.append(dat)\n"
          ]
        },
        {
          "output_type": "stream",
          "name": "stdout",
          "text": [
            "*******************************************\n",
            "KEYWORDS\n",
            "Stats c (6)\n",
            "DE c (6)\n",
            "DL c (6)\n",
            "ML learning (1)\n",
            "NLP learning (1)\n",
            "DE learning (1)\n",
            "NLP used (1)\n",
            "DE used (1)\n",
            "DL used (1)\n",
            "NLP using (3)\n",
            "DE using (3)\n",
            "Python using (3)\n",
            "ML system (1)\n",
            "DE system (1)\n",
            "DL system (1)\n",
            "NLP systems (1)\n",
            "DL systems (1)\n",
            "Python systems (1)\n",
            "ML data (2)\n",
            "NLP data (2)\n",
            "Stats data (2)\n",
            "DL data (2)\n",
            "Python data (2)\n",
            "Python also (1)\n",
            "********************DF********************\n",
            "         Keywords_List\n",
            "0          Stats c (6)\n",
            "1             DE c (6)\n",
            "2             DL c (6)\n",
            "3      ML learning (1)\n",
            "4     NLP learning (1)\n",
            "5      DE learning (1)\n",
            "6         NLP used (1)\n",
            "7          DE used (1)\n",
            "8          DL used (1)\n",
            "9        NLP using (3)\n",
            "10        DE using (3)\n",
            "11    Python using (3)\n",
            "12       ML system (1)\n",
            "13       DE system (1)\n",
            "14       DL system (1)\n",
            "15     NLP systems (1)\n",
            "16      DL systems (1)\n",
            "17  Python systems (1)\n",
            "18         ML data (2)\n",
            "19        NLP data (2)\n",
            "20      Stats data (2)\n",
            "21         DL data (2)\n",
            "22     Python data (2)\n",
            "23     Python also (1)\n",
            "['Dhikshitha A']\n",
            "******************DATAF**************\n",
            "          Name Subject    Keyword Count\n",
            "0   Dhikshitha   Stats         c      6\n",
            "1   Dhikshitha      DE         c      6\n",
            "2   Dhikshitha      DL         c      6\n",
            "3   Dhikshitha      ML  learning      1\n",
            "4   Dhikshitha     NLP  learning      1\n",
            "5   Dhikshitha      DE  learning      1\n",
            "6   Dhikshitha     NLP      used      1\n",
            "7   Dhikshitha      DE      used      1\n",
            "8   Dhikshitha      DL      used      1\n",
            "9   Dhikshitha     NLP     using      3\n",
            "10  Dhikshitha      DE     using      3\n",
            "11  Dhikshitha  Python     using      3\n",
            "12  Dhikshitha      ML    system      1\n",
            "13  Dhikshitha      DE    system      1\n",
            "14  Dhikshitha      DL    system      1\n",
            "15  Dhikshitha     NLP   systems      1\n",
            "16  Dhikshitha      DL   systems      1\n",
            "17  Dhikshitha  Python   systems      1\n",
            "18  Dhikshitha      ML      data      2\n",
            "19  Dhikshitha     NLP      data      2\n",
            "20  Dhikshitha   Stats      data      2\n",
            "21  Dhikshitha      DL      data      2\n",
            "22  Dhikshitha  Python      data      2\n",
            "23  Dhikshitha  Python      also      1\n",
            "/content/drive/MyDrive/NLP Package/Resume-Scoring-using-NLP-master/Resumes/BIJOY.pdf\n"
          ]
        },
        {
          "output_type": "stream",
          "name": "stderr",
          "text": [
            "<ipython-input-79-8874e4f9dd84>:9: FutureWarning: The frame.append method is deprecated and will be removed from pandas in a future version. Use pandas.concat instead.\n",
            "  final_db=final_db.append(dat)\n"
          ]
        },
        {
          "output_type": "stream",
          "name": "stdout",
          "text": [
            "*******************************************\n",
            "KEYWORDS\n",
            "NLP using (4)\n",
            "DE using (4)\n",
            "Python using (4)\n",
            "********************DF********************\n",
            "      Keywords_List\n",
            "0     NLP using (4)\n",
            "1      DE using (4)\n",
            "2  Python using (4)\n",
            "['BIJOY']\n",
            "******************DATAF**************\n",
            "    Name Subject Keyword Count\n",
            "0  BIJOY     NLP  using      4\n",
            "1  BIJOY      DE  using      4\n",
            "2  BIJOY  Python  using      4\n",
            "/content/drive/MyDrive/NLP Package/Resume-Scoring-using-NLP-master/Resumes/Meghna.pdf\n"
          ]
        },
        {
          "output_type": "stream",
          "name": "stderr",
          "text": [
            "<ipython-input-79-8874e4f9dd84>:9: FutureWarning: The frame.append method is deprecated and will be removed from pandas in a future version. Use pandas.concat instead.\n",
            "  final_db=final_db.append(dat)\n"
          ]
        },
        {
          "output_type": "stream",
          "name": "stdout",
          "text": [
            "*******************************************\n",
            "KEYWORDS\n",
            "ML data (1)\n",
            "NLP data (1)\n",
            "Stats data (1)\n",
            "DL data (1)\n",
            "Python data (1)\n",
            "NLP using (3)\n",
            "DE using (3)\n",
            "Python using (3)\n",
            "********************DF********************\n",
            "      Keywords_List\n",
            "0       ML data (1)\n",
            "1      NLP data (1)\n",
            "2    Stats data (1)\n",
            "3       DL data (1)\n",
            "4   Python data (1)\n",
            "5     NLP using (3)\n",
            "6      DE using (3)\n",
            "7  Python using (3)\n",
            "['Meghna']\n",
            "******************DATAF**************\n",
            "     Name Subject Keyword Count\n",
            "0  Meghna      ML   data      1\n",
            "1  Meghna     NLP   data      1\n",
            "2  Meghna   Stats   data      1\n",
            "3  Meghna      DL   data      1\n",
            "4  Meghna  Python   data      1\n",
            "5  Meghna     NLP  using      3\n",
            "6  Meghna      DE  using      3\n",
            "7  Meghna  Python  using      3\n",
            "/content/drive/MyDrive/NLP Package/Resume-Scoring-using-NLP-master/Resumes/Phoebe.pdf\n"
          ]
        },
        {
          "output_type": "stream",
          "name": "stderr",
          "text": [
            "<ipython-input-79-8874e4f9dd84>:9: FutureWarning: The frame.append method is deprecated and will be removed from pandas in a future version. Use pandas.concat instead.\n",
            "  final_db=final_db.append(dat)\n"
          ]
        },
        {
          "output_type": "stream",
          "name": "stdout",
          "text": [
            "*******************************************\n",
            "KEYWORDS\n",
            "NLP using (5)\n",
            "DE using (5)\n",
            "Python using (5)\n",
            "ML learning (1)\n",
            "NLP learning (1)\n",
            "DE learning (1)\n",
            "********************DF********************\n",
            "      Keywords_List\n",
            "0     NLP using (5)\n",
            "1      DE using (5)\n",
            "2  Python using (5)\n",
            "3   ML learning (1)\n",
            "4  NLP learning (1)\n",
            "5   DE learning (1)\n",
            "['Phoebe']\n",
            "******************DATAF**************\n",
            "     Name Subject    Keyword Count\n",
            "0  Phoebe     NLP     using      5\n",
            "1  Phoebe      DE     using      5\n",
            "2  Phoebe  Python     using      5\n",
            "3  Phoebe      ML  learning      1\n",
            "4  Phoebe     NLP  learning      1\n",
            "5  Phoebe      DE  learning      1\n"
          ]
        },
        {
          "output_type": "stream",
          "name": "stderr",
          "text": [
            "<ipython-input-79-8874e4f9dd84>:9: FutureWarning: The frame.append method is deprecated and will be removed from pandas in a future version. Use pandas.concat instead.\n",
            "  final_db=final_db.append(dat)\n"
          ]
        }
      ],
      "source": [
        "#Code to execute the above functions\n",
        "final_db=pd.DataFrame()\n",
        "i=0\n",
        "while i < len(onlyfiles):\n",
        "    file=onlyfiles[i]\n",
        "    print(file)\n",
        "    dat=create_profile(file)\n",
        "\n",
        "    final_db=final_db.append(dat)\n",
        "    i+=1\n",
        "    #print(final_db)"
      ]
    },
    {
      "cell_type": "markdown",
      "metadata": {
        "id": "g24W6gBE0fMR"
      },
      "source": [
        "## **Counting words under each category and building the candidate profile**"
      ]
    },
    {
      "cell_type": "code",
      "execution_count": null,
      "metadata": {
        "id": "NS3cBa4k0fMR",
        "outputId": "0c2b875f-5bc4-4363-be26-51b57c1c9940",
        "colab": {
          "base_uri": "https://localhost:8080/",
          "height": 300
        }
      },
      "outputs": [
        {
          "output_type": "execute_result",
          "data": {
            "text/plain": [
              "Subject      DE   DL   ML  NLP  Python  Stats\n",
              "Name                                         \n",
              "A           1.0  1.0  0.0  0.0     0.0    1.0\n",
              "Aman        4.0  5.0  3.0  4.0     4.0    4.0\n",
              "BIJOY       1.0  0.0  0.0  1.0     1.0    0.0\n",
              "Chandler    1.0  0.0  0.0  1.0     1.0    0.0\n",
              "Dhikshitha  5.0  5.0  3.0  5.0     4.0    2.0\n",
              "Meghna      1.0  1.0  1.0  2.0     2.0    1.0\n",
              "Phoebe      2.0  0.0  1.0  2.0     1.0    0.0"
            ],
            "text/html": [
              "\n",
              "  <div id=\"df-86e58b07-0571-4002-b313-2561f59469b6\">\n",
              "    <div class=\"colab-df-container\">\n",
              "      <div>\n",
              "<style scoped>\n",
              "    .dataframe tbody tr th:only-of-type {\n",
              "        vertical-align: middle;\n",
              "    }\n",
              "\n",
              "    .dataframe tbody tr th {\n",
              "        vertical-align: top;\n",
              "    }\n",
              "\n",
              "    .dataframe thead th {\n",
              "        text-align: right;\n",
              "    }\n",
              "</style>\n",
              "<table border=\"1\" class=\"dataframe\">\n",
              "  <thead>\n",
              "    <tr style=\"text-align: right;\">\n",
              "      <th>Subject</th>\n",
              "      <th>DE</th>\n",
              "      <th>DL</th>\n",
              "      <th>ML</th>\n",
              "      <th>NLP</th>\n",
              "      <th>Python</th>\n",
              "      <th>Stats</th>\n",
              "    </tr>\n",
              "    <tr>\n",
              "      <th>Name</th>\n",
              "      <th></th>\n",
              "      <th></th>\n",
              "      <th></th>\n",
              "      <th></th>\n",
              "      <th></th>\n",
              "      <th></th>\n",
              "    </tr>\n",
              "  </thead>\n",
              "  <tbody>\n",
              "    <tr>\n",
              "      <th>A</th>\n",
              "      <td>1.0</td>\n",
              "      <td>1.0</td>\n",
              "      <td>0.0</td>\n",
              "      <td>0.0</td>\n",
              "      <td>0.0</td>\n",
              "      <td>1.0</td>\n",
              "    </tr>\n",
              "    <tr>\n",
              "      <th>Aman</th>\n",
              "      <td>4.0</td>\n",
              "      <td>5.0</td>\n",
              "      <td>3.0</td>\n",
              "      <td>4.0</td>\n",
              "      <td>4.0</td>\n",
              "      <td>4.0</td>\n",
              "    </tr>\n",
              "    <tr>\n",
              "      <th>BIJOY</th>\n",
              "      <td>1.0</td>\n",
              "      <td>0.0</td>\n",
              "      <td>0.0</td>\n",
              "      <td>1.0</td>\n",
              "      <td>1.0</td>\n",
              "      <td>0.0</td>\n",
              "    </tr>\n",
              "    <tr>\n",
              "      <th>Chandler</th>\n",
              "      <td>1.0</td>\n",
              "      <td>0.0</td>\n",
              "      <td>0.0</td>\n",
              "      <td>1.0</td>\n",
              "      <td>1.0</td>\n",
              "      <td>0.0</td>\n",
              "    </tr>\n",
              "    <tr>\n",
              "      <th>Dhikshitha</th>\n",
              "      <td>5.0</td>\n",
              "      <td>5.0</td>\n",
              "      <td>3.0</td>\n",
              "      <td>5.0</td>\n",
              "      <td>4.0</td>\n",
              "      <td>2.0</td>\n",
              "    </tr>\n",
              "    <tr>\n",
              "      <th>Meghna</th>\n",
              "      <td>1.0</td>\n",
              "      <td>1.0</td>\n",
              "      <td>1.0</td>\n",
              "      <td>2.0</td>\n",
              "      <td>2.0</td>\n",
              "      <td>1.0</td>\n",
              "    </tr>\n",
              "    <tr>\n",
              "      <th>Phoebe</th>\n",
              "      <td>2.0</td>\n",
              "      <td>0.0</td>\n",
              "      <td>1.0</td>\n",
              "      <td>2.0</td>\n",
              "      <td>1.0</td>\n",
              "      <td>0.0</td>\n",
              "    </tr>\n",
              "  </tbody>\n",
              "</table>\n",
              "</div>\n",
              "      <button class=\"colab-df-convert\" onclick=\"convertToInteractive('df-86e58b07-0571-4002-b313-2561f59469b6')\"\n",
              "              title=\"Convert this dataframe to an interactive table.\"\n",
              "              style=\"display:none;\">\n",
              "        \n",
              "  <svg xmlns=\"http://www.w3.org/2000/svg\" height=\"24px\"viewBox=\"0 0 24 24\"\n",
              "       width=\"24px\">\n",
              "    <path d=\"M0 0h24v24H0V0z\" fill=\"none\"/>\n",
              "    <path d=\"M18.56 5.44l.94 2.06.94-2.06 2.06-.94-2.06-.94-.94-2.06-.94 2.06-2.06.94zm-11 1L8.5 8.5l.94-2.06 2.06-.94-2.06-.94L8.5 2.5l-.94 2.06-2.06.94zm10 10l.94 2.06.94-2.06 2.06-.94-2.06-.94-.94-2.06-.94 2.06-2.06.94z\"/><path d=\"M17.41 7.96l-1.37-1.37c-.4-.4-.92-.59-1.43-.59-.52 0-1.04.2-1.43.59L10.3 9.45l-7.72 7.72c-.78.78-.78 2.05 0 2.83L4 21.41c.39.39.9.59 1.41.59.51 0 1.02-.2 1.41-.59l7.78-7.78 2.81-2.81c.8-.78.8-2.07 0-2.86zM5.41 20L4 18.59l7.72-7.72 1.47 1.35L5.41 20z\"/>\n",
              "  </svg>\n",
              "      </button>\n",
              "      \n",
              "  <style>\n",
              "    .colab-df-container {\n",
              "      display:flex;\n",
              "      flex-wrap:wrap;\n",
              "      gap: 12px;\n",
              "    }\n",
              "\n",
              "    .colab-df-convert {\n",
              "      background-color: #E8F0FE;\n",
              "      border: none;\n",
              "      border-radius: 50%;\n",
              "      cursor: pointer;\n",
              "      display: none;\n",
              "      fill: #1967D2;\n",
              "      height: 32px;\n",
              "      padding: 0 0 0 0;\n",
              "      width: 32px;\n",
              "    }\n",
              "\n",
              "    .colab-df-convert:hover {\n",
              "      background-color: #E2EBFA;\n",
              "      box-shadow: 0px 1px 2px rgba(60, 64, 67, 0.3), 0px 1px 3px 1px rgba(60, 64, 67, 0.15);\n",
              "      fill: #174EA6;\n",
              "    }\n",
              "\n",
              "    [theme=dark] .colab-df-convert {\n",
              "      background-color: #3B4455;\n",
              "      fill: #D2E3FC;\n",
              "    }\n",
              "\n",
              "    [theme=dark] .colab-df-convert:hover {\n",
              "      background-color: #434B5C;\n",
              "      box-shadow: 0px 1px 3px 1px rgba(0, 0, 0, 0.15);\n",
              "      filter: drop-shadow(0px 1px 2px rgba(0, 0, 0, 0.3));\n",
              "      fill: #FFFFFF;\n",
              "    }\n",
              "  </style>\n",
              "\n",
              "      <script>\n",
              "        const buttonEl =\n",
              "          document.querySelector('#df-86e58b07-0571-4002-b313-2561f59469b6 button.colab-df-convert');\n",
              "        buttonEl.style.display =\n",
              "          google.colab.kernel.accessAllowed ? 'block' : 'none';\n",
              "\n",
              "        async function convertToInteractive(key) {\n",
              "          const element = document.querySelector('#df-86e58b07-0571-4002-b313-2561f59469b6');\n",
              "          const dataTable =\n",
              "            await google.colab.kernel.invokeFunction('convertToInteractive',\n",
              "                                                     [key], {});\n",
              "          if (!dataTable) return;\n",
              "\n",
              "          const docLinkHtml = 'Like what you see? Visit the ' +\n",
              "            '<a target=\"_blank\" href=https://colab.research.google.com/notebooks/data_table.ipynb>data table notebook</a>'\n",
              "            + ' to learn more about interactive tables.';\n",
              "          element.innerHTML = '';\n",
              "          dataTable['output_type'] = 'display_data';\n",
              "          await google.colab.output.renderOutput(dataTable, element);\n",
              "          const docLink = document.createElement('div');\n",
              "          docLink.innerHTML = docLinkHtml;\n",
              "          element.appendChild(docLink);\n",
              "        }\n",
              "      </script>\n",
              "    </div>\n",
              "  </div>\n",
              "  "
            ]
          },
          "metadata": {},
          "execution_count": 82
        }
      ],
      "source": [
        "#Code to count words under each category and visualize it through MAtplotlib\n",
        "final_db2 = final_db['Keyword'].groupby([final_db['Name'], final_db['Subject']]).count().unstack()\n",
        "final_db2.reset_index(inplace = True)\n",
        "final_db2.fillna(0,inplace=True)\n",
        "candidate_data = final_db2.iloc[:,1:]\n",
        "candidate_data.index = final_db2['Name']\n",
        "#the candidate profile in a csv format\n",
        "candidate_data\n"
      ]
    },
    {
      "cell_type": "code",
      "source": [
        "cand=candidate_data.to_csv('/content/drive/MyDrive/NLP Package/candidate_profile.csv')\n",
        "cand_profile=pd.read_csv('/content/drive/MyDrive/NLP Package/candidate_profile.csv',index_col = 0)\n",
        "cand_profile\n",
        "\n",
        "\n"
      ],
      "metadata": {
        "colab": {
          "base_uri": "https://localhost:8080/",
          "height": 300
        },
        "id": "MKI78BMIUOM_",
        "outputId": "af7f479c-d98f-41c1-fabb-effc81b0b598"
      },
      "execution_count": null,
      "outputs": [
        {
          "output_type": "execute_result",
          "data": {
            "text/plain": [
              "             DE   DL   ML  NLP  Python  Stats\n",
              "Name                                         \n",
              "A           1.0  1.0  0.0  0.0     0.0    1.0\n",
              "Aman        4.0  5.0  3.0  4.0     4.0    4.0\n",
              "BIJOY       1.0  0.0  0.0  1.0     1.0    0.0\n",
              "Chandler    1.0  0.0  0.0  1.0     1.0    0.0\n",
              "Dhikshitha  5.0  5.0  3.0  5.0     4.0    2.0\n",
              "Meghna      1.0  1.0  1.0  2.0     2.0    1.0\n",
              "Phoebe      2.0  0.0  1.0  2.0     1.0    0.0"
            ],
            "text/html": [
              "\n",
              "  <div id=\"df-a9adb5be-a519-4602-84dc-c5ee480b0f9b\">\n",
              "    <div class=\"colab-df-container\">\n",
              "      <div>\n",
              "<style scoped>\n",
              "    .dataframe tbody tr th:only-of-type {\n",
              "        vertical-align: middle;\n",
              "    }\n",
              "\n",
              "    .dataframe tbody tr th {\n",
              "        vertical-align: top;\n",
              "    }\n",
              "\n",
              "    .dataframe thead th {\n",
              "        text-align: right;\n",
              "    }\n",
              "</style>\n",
              "<table border=\"1\" class=\"dataframe\">\n",
              "  <thead>\n",
              "    <tr style=\"text-align: right;\">\n",
              "      <th></th>\n",
              "      <th>DE</th>\n",
              "      <th>DL</th>\n",
              "      <th>ML</th>\n",
              "      <th>NLP</th>\n",
              "      <th>Python</th>\n",
              "      <th>Stats</th>\n",
              "    </tr>\n",
              "    <tr>\n",
              "      <th>Name</th>\n",
              "      <th></th>\n",
              "      <th></th>\n",
              "      <th></th>\n",
              "      <th></th>\n",
              "      <th></th>\n",
              "      <th></th>\n",
              "    </tr>\n",
              "  </thead>\n",
              "  <tbody>\n",
              "    <tr>\n",
              "      <th>A</th>\n",
              "      <td>1.0</td>\n",
              "      <td>1.0</td>\n",
              "      <td>0.0</td>\n",
              "      <td>0.0</td>\n",
              "      <td>0.0</td>\n",
              "      <td>1.0</td>\n",
              "    </tr>\n",
              "    <tr>\n",
              "      <th>Aman</th>\n",
              "      <td>4.0</td>\n",
              "      <td>5.0</td>\n",
              "      <td>3.0</td>\n",
              "      <td>4.0</td>\n",
              "      <td>4.0</td>\n",
              "      <td>4.0</td>\n",
              "    </tr>\n",
              "    <tr>\n",
              "      <th>BIJOY</th>\n",
              "      <td>1.0</td>\n",
              "      <td>0.0</td>\n",
              "      <td>0.0</td>\n",
              "      <td>1.0</td>\n",
              "      <td>1.0</td>\n",
              "      <td>0.0</td>\n",
              "    </tr>\n",
              "    <tr>\n",
              "      <th>Chandler</th>\n",
              "      <td>1.0</td>\n",
              "      <td>0.0</td>\n",
              "      <td>0.0</td>\n",
              "      <td>1.0</td>\n",
              "      <td>1.0</td>\n",
              "      <td>0.0</td>\n",
              "    </tr>\n",
              "    <tr>\n",
              "      <th>Dhikshitha</th>\n",
              "      <td>5.0</td>\n",
              "      <td>5.0</td>\n",
              "      <td>3.0</td>\n",
              "      <td>5.0</td>\n",
              "      <td>4.0</td>\n",
              "      <td>2.0</td>\n",
              "    </tr>\n",
              "    <tr>\n",
              "      <th>Meghna</th>\n",
              "      <td>1.0</td>\n",
              "      <td>1.0</td>\n",
              "      <td>1.0</td>\n",
              "      <td>2.0</td>\n",
              "      <td>2.0</td>\n",
              "      <td>1.0</td>\n",
              "    </tr>\n",
              "    <tr>\n",
              "      <th>Phoebe</th>\n",
              "      <td>2.0</td>\n",
              "      <td>0.0</td>\n",
              "      <td>1.0</td>\n",
              "      <td>2.0</td>\n",
              "      <td>1.0</td>\n",
              "      <td>0.0</td>\n",
              "    </tr>\n",
              "  </tbody>\n",
              "</table>\n",
              "</div>\n",
              "      <button class=\"colab-df-convert\" onclick=\"convertToInteractive('df-a9adb5be-a519-4602-84dc-c5ee480b0f9b')\"\n",
              "              title=\"Convert this dataframe to an interactive table.\"\n",
              "              style=\"display:none;\">\n",
              "        \n",
              "  <svg xmlns=\"http://www.w3.org/2000/svg\" height=\"24px\"viewBox=\"0 0 24 24\"\n",
              "       width=\"24px\">\n",
              "    <path d=\"M0 0h24v24H0V0z\" fill=\"none\"/>\n",
              "    <path d=\"M18.56 5.44l.94 2.06.94-2.06 2.06-.94-2.06-.94-.94-2.06-.94 2.06-2.06.94zm-11 1L8.5 8.5l.94-2.06 2.06-.94-2.06-.94L8.5 2.5l-.94 2.06-2.06.94zm10 10l.94 2.06.94-2.06 2.06-.94-2.06-.94-.94-2.06-.94 2.06-2.06.94z\"/><path d=\"M17.41 7.96l-1.37-1.37c-.4-.4-.92-.59-1.43-.59-.52 0-1.04.2-1.43.59L10.3 9.45l-7.72 7.72c-.78.78-.78 2.05 0 2.83L4 21.41c.39.39.9.59 1.41.59.51 0 1.02-.2 1.41-.59l7.78-7.78 2.81-2.81c.8-.78.8-2.07 0-2.86zM5.41 20L4 18.59l7.72-7.72 1.47 1.35L5.41 20z\"/>\n",
              "  </svg>\n",
              "      </button>\n",
              "      \n",
              "  <style>\n",
              "    .colab-df-container {\n",
              "      display:flex;\n",
              "      flex-wrap:wrap;\n",
              "      gap: 12px;\n",
              "    }\n",
              "\n",
              "    .colab-df-convert {\n",
              "      background-color: #E8F0FE;\n",
              "      border: none;\n",
              "      border-radius: 50%;\n",
              "      cursor: pointer;\n",
              "      display: none;\n",
              "      fill: #1967D2;\n",
              "      height: 32px;\n",
              "      padding: 0 0 0 0;\n",
              "      width: 32px;\n",
              "    }\n",
              "\n",
              "    .colab-df-convert:hover {\n",
              "      background-color: #E2EBFA;\n",
              "      box-shadow: 0px 1px 2px rgba(60, 64, 67, 0.3), 0px 1px 3px 1px rgba(60, 64, 67, 0.15);\n",
              "      fill: #174EA6;\n",
              "    }\n",
              "\n",
              "    [theme=dark] .colab-df-convert {\n",
              "      background-color: #3B4455;\n",
              "      fill: #D2E3FC;\n",
              "    }\n",
              "\n",
              "    [theme=dark] .colab-df-convert:hover {\n",
              "      background-color: #434B5C;\n",
              "      box-shadow: 0px 1px 3px 1px rgba(0, 0, 0, 0.15);\n",
              "      filter: drop-shadow(0px 1px 2px rgba(0, 0, 0, 0.3));\n",
              "      fill: #FFFFFF;\n",
              "    }\n",
              "  </style>\n",
              "\n",
              "      <script>\n",
              "        const buttonEl =\n",
              "          document.querySelector('#df-a9adb5be-a519-4602-84dc-c5ee480b0f9b button.colab-df-convert');\n",
              "        buttonEl.style.display =\n",
              "          google.colab.kernel.accessAllowed ? 'block' : 'none';\n",
              "\n",
              "        async function convertToInteractive(key) {\n",
              "          const element = document.querySelector('#df-a9adb5be-a519-4602-84dc-c5ee480b0f9b');\n",
              "          const dataTable =\n",
              "            await google.colab.kernel.invokeFunction('convertToInteractive',\n",
              "                                                     [key], {});\n",
              "          if (!dataTable) return;\n",
              "\n",
              "          const docLinkHtml = 'Like what you see? Visit the ' +\n",
              "            '<a target=\"_blank\" href=https://colab.research.google.com/notebooks/data_table.ipynb>data table notebook</a>'\n",
              "            + ' to learn more about interactive tables.';\n",
              "          element.innerHTML = '';\n",
              "          dataTable['output_type'] = 'display_data';\n",
              "          await google.colab.output.renderOutput(dataTable, element);\n",
              "          const docLink = document.createElement('div');\n",
              "          docLink.innerHTML = docLinkHtml;\n",
              "          element.appendChild(docLink);\n",
              "        }\n",
              "      </script>\n",
              "    </div>\n",
              "  </div>\n",
              "  "
            ]
          },
          "metadata": {},
          "execution_count": 83
        }
      ]
    },
    {
      "cell_type": "code",
      "source": [
        "import pandas as pd"
      ],
      "metadata": {
        "id": "Czi-TQbCBWn6"
      },
      "execution_count": null,
      "outputs": []
    },
    {
      "cell_type": "code",
      "source": [
        "cand_profile=pd.read_csv('/content/drive/MyDrive/NLP Package/candidate_profile.csv')\n",
        "cand_profile"
      ],
      "metadata": {
        "id": "a4ATT039BVAn"
      },
      "execution_count": null,
      "outputs": []
    },
    {
      "cell_type": "code",
      "source": [
        "df_1 = pd.read_csv(\"/content/drive/MyDrive/NLP Package/file1.csv\")\n",
        "df_1\n",
        "df_1 = df_1.drop(['Unnamed: 0'], axis=1)\n",
        "df_1\n"
      ],
      "metadata": {
        "id": "-KJFFNgnK__N"
      },
      "execution_count": null,
      "outputs": []
    },
    {
      "cell_type": "code",
      "source": [
        "cand_profile = cand_profile.replace('A','Dhikshitha',inplace = True)"
      ],
      "metadata": {
        "id": "nYaNqBPzdl_E"
      },
      "execution_count": null,
      "outputs": []
    },
    {
      "cell_type": "code",
      "source": [
        "print(cand_profile)"
      ],
      "metadata": {
        "colab": {
          "base_uri": "https://localhost:8080/"
        },
        "id": "_Z70MpHBdOH6",
        "outputId": "8a576f2e-027a-40d8-ea6d-929a2e4158a5"
      },
      "execution_count": null,
      "outputs": [
        {
          "output_type": "stream",
          "name": "stdout",
          "text": [
            "None\n"
          ]
        }
      ]
    },
    {
      "cell_type": "code",
      "source": [
        "cand1=cand_profile.to_csv('/content/drive/MyDrive/NLP Package/final_cand_profile.csv')\n",
        "cand1 = pd.read_csv('/content/drive/MyDrive/NLP Package/final_cand_profile.csv',index_col=0)\n"
      ],
      "metadata": {
        "id": "J_cUVJkzSmoS"
      },
      "execution_count": null,
      "outputs": []
    },
    {
      "cell_type": "code",
      "source": [
        "cand1"
      ],
      "metadata": {
        "id": "-xTKxDGiRBFe"
      },
      "execution_count": null,
      "outputs": []
    },
    {
      "cell_type": "markdown",
      "metadata": {
        "id": "o6tl7TLV0fMR"
      },
      "source": [
        "## **Visualizing by matplotlib**"
      ]
    },
    {
      "cell_type": "code",
      "source": [
        "cand1"
      ],
      "metadata": {
        "id": "d_eF4pUkRbzD"
      },
      "execution_count": null,
      "outputs": []
    },
    {
      "cell_type": "code",
      "source": [
        "n = len(cand1.columns)"
      ],
      "metadata": {
        "id": "RavMjiBySa5B"
      },
      "execution_count": null,
      "outputs": []
    },
    {
      "cell_type": "code",
      "source": [
        "n"
      ],
      "metadata": {
        "id": "Pt7grJ2sSdge"
      },
      "execution_count": null,
      "outputs": []
    },
    {
      "cell_type": "code",
      "source": [
        "cand1.index"
      ],
      "metadata": {
        "id": "BNnWwttUS0n_"
      },
      "execution_count": null,
      "outputs": []
    },
    {
      "cell_type": "code",
      "source": [
        "candidate_data"
      ],
      "metadata": {
        "id": "e9KZQ9aFTA5K"
      },
      "execution_count": null,
      "outputs": []
    },
    {
      "cell_type": "code",
      "execution_count": null,
      "metadata": {
        "id": "-6npN8Ul0fMR",
        "outputId": "aa540b8c-dc4e-42d8-9f16-7b466b6e9c27",
        "colab": {
          "base_uri": "https://localhost:8080/",
          "height": 377
        }
      },
      "outputs": [
        {
          "output_type": "display_data",
          "data": {
            "text/plain": [
              "<Figure size 2500x700 with 1 Axes>"
            ],
            "image/png": "[encoded data removed]"
          },
          "metadata": {}
        }
      ],
      "source": [
        "import matplotlib.pyplot as plt\n",
        "%matplotlib inline\n",
        "plt.rcParams.update({'font.size': 10})\n",
        "ax = cand_profile.plot.barh(title=\"Keywords in Resume according to category\", legend=False, figsize=(25,7), stacked=True)\n",
        "skills = []\n",
        "for j in cand_profile.columns:\n",
        "    for i in cand_profile.index:\n",
        "        skill = str(j)+\": \" + str(cand_profile.loc[i][j])\n",
        "        skills.append(skill)\n",
        "patches = ax.patches\n",
        "for skill, rect in zip(skills, patches):\n",
        "    width = rect.get_width()\n",
        "    if width > 0:\n",
        "        x = rect.get_x()\n",
        "        y = rect.get_y()\n",
        "        height = rect.get_height()\n",
        "        ax.text(x + width/2., y + height/2., skill, ha='center', va='center')\n",
        "plt.show()"
      ]
    },
    {
      "cell_type": "code",
      "source": [],
      "metadata": {
        "id": "dXIRzWt1Qt7L"
      },
      "execution_count": null,
      "outputs": []
    }
  ]
}